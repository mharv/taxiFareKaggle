{
 "cells": [
  {
   "cell_type": "markdown",
   "metadata": {},
   "source": [
    "From the Kaggle competition description:\n",
    "\n",
    "\"In this playground competition, hosted in partnership with Google Cloud and Coursera, you are tasked with predicting the fare amount (inclusive of tolls) for a taxi ride in New York City given the pickup and dropoff locations. While you can get a basic estimate based on just the distance between the two points, this will result in an RMSE of $5-$8, depending on the model used (see the starter code for an example of this approach in Kernels). Your challenge is to do better than this using Machine Learning techniques!\"\n",
    "\n"
   ]
  },
  {
   "cell_type": "code",
   "execution_count": 1,
   "metadata": {},
   "outputs": [],
   "source": [
    "import pandas as pd\n",
    "import numpy as np\n",
    "import seaborn as sns\n",
    "from tqdm import tqdm\n",
    "#from sklearn.model_selection import StratifiedShuffleSplit"
   ]
  },
  {
   "cell_type": "markdown",
   "metadata": {},
   "source": [
    "First issue: train.csv is massive! (5.7 gb) \n",
    "Therefore the file must be read and processed in chunks.\n",
    "However, when using pd.read_csv(PATH, chunksize=X), the data type returned is a 'TextFileReader' object.\n",
    "\n",
    "I do not know how to work with the chunksize argument so I'll just use a limited number of rows (10,000,000) for now.\n"
   ]
  },
  {
   "cell_type": "code",
   "execution_count": 2,
   "metadata": {},
   "outputs": [],
   "source": [
    "#trainRawChunks = pd.read_csv(\"/home/mitchell/Desktop/kaggleData/taxiFareKaggle/all/train.csv\", chunksize=500)\n",
    "#testRaw = pd.read_csv(\"/home/mitchell/Desktop/kaggleData/taxiFareKaggle/all/test.csv\")\n",
    "\n",
    "#count = 0\n",
    "#for chunk in trainRawChunks:\n",
    "#    print(chunk.shape)\n",
    "#    count += 1\n",
    "    \n",
    "#print(\"There are: \", 500 * count, \"rows\")\n",
    "    \n",
    "#trainRawChunks[0].head()"
   ]
  },
  {
   "cell_type": "code",
   "execution_count": 3,
   "metadata": {},
   "outputs": [],
   "source": [
    "numberOfSamples = 1000000\n",
    "\n",
    "#LAPTOP PATH: \"/home/mitchell/Desktop/kaggleData/taxiFareKaggle/all/train.csv\"\n",
    "#DESKTOP PATH: \"/media/mitch/Data/kaggleData/taxiFareKaggleData/all/train.csv\"\n",
    "\n",
    "trainRawSegment = pd.read_csv(\"/media/mitch/Data/kaggleData/taxiFareKaggleData/all/train.csv\", nrows=numberOfSamples)\n",
    "\n",
    "\n"
   ]
  },
  {
   "cell_type": "markdown",
   "metadata": {},
   "source": [
    "My Laptop seems to be able to handle 5,000,000 lines of data quite easily (It only has 8 Gb of RAM). Since only a portion of the total data supplied is being used, this already gives the model a disadvantage but also room for improvement if needed."
   ]
  },
  {
   "cell_type": "code",
   "execution_count": 4,
   "metadata": {},
   "outputs": [
    {
     "name": "stdout",
     "output_type": "stream",
     "text": [
      "(1000000, 8)\n"
     ]
    },
    {
     "data": {
      "text/html": [
       "<div>\n",
       "<style scoped>\n",
       "    .dataframe tbody tr th:only-of-type {\n",
       "        vertical-align: middle;\n",
       "    }\n",
       "\n",
       "    .dataframe tbody tr th {\n",
       "        vertical-align: top;\n",
       "    }\n",
       "\n",
       "    .dataframe thead th {\n",
       "        text-align: right;\n",
       "    }\n",
       "</style>\n",
       "<table border=\"1\" class=\"dataframe\">\n",
       "  <thead>\n",
       "    <tr style=\"text-align: right;\">\n",
       "      <th></th>\n",
       "      <th>key</th>\n",
       "      <th>fare_amount</th>\n",
       "      <th>pickup_datetime</th>\n",
       "      <th>pickup_longitude</th>\n",
       "      <th>pickup_latitude</th>\n",
       "      <th>dropoff_longitude</th>\n",
       "      <th>dropoff_latitude</th>\n",
       "      <th>passenger_count</th>\n",
       "    </tr>\n",
       "  </thead>\n",
       "  <tbody>\n",
       "    <tr>\n",
       "      <th>0</th>\n",
       "      <td>2009-06-15 17:26:21.0000001</td>\n",
       "      <td>4.5</td>\n",
       "      <td>2009-06-15 17:26:21 UTC</td>\n",
       "      <td>-73.844311</td>\n",
       "      <td>40.721319</td>\n",
       "      <td>-73.841610</td>\n",
       "      <td>40.712278</td>\n",
       "      <td>1</td>\n",
       "    </tr>\n",
       "    <tr>\n",
       "      <th>1</th>\n",
       "      <td>2010-01-05 16:52:16.0000002</td>\n",
       "      <td>16.9</td>\n",
       "      <td>2010-01-05 16:52:16 UTC</td>\n",
       "      <td>-74.016048</td>\n",
       "      <td>40.711303</td>\n",
       "      <td>-73.979268</td>\n",
       "      <td>40.782004</td>\n",
       "      <td>1</td>\n",
       "    </tr>\n",
       "    <tr>\n",
       "      <th>2</th>\n",
       "      <td>2011-08-18 00:35:00.00000049</td>\n",
       "      <td>5.7</td>\n",
       "      <td>2011-08-18 00:35:00 UTC</td>\n",
       "      <td>-73.982738</td>\n",
       "      <td>40.761270</td>\n",
       "      <td>-73.991242</td>\n",
       "      <td>40.750562</td>\n",
       "      <td>2</td>\n",
       "    </tr>\n",
       "    <tr>\n",
       "      <th>3</th>\n",
       "      <td>2012-04-21 04:30:42.0000001</td>\n",
       "      <td>7.7</td>\n",
       "      <td>2012-04-21 04:30:42 UTC</td>\n",
       "      <td>-73.987130</td>\n",
       "      <td>40.733143</td>\n",
       "      <td>-73.991567</td>\n",
       "      <td>40.758092</td>\n",
       "      <td>1</td>\n",
       "    </tr>\n",
       "    <tr>\n",
       "      <th>4</th>\n",
       "      <td>2010-03-09 07:51:00.000000135</td>\n",
       "      <td>5.3</td>\n",
       "      <td>2010-03-09 07:51:00 UTC</td>\n",
       "      <td>-73.968095</td>\n",
       "      <td>40.768008</td>\n",
       "      <td>-73.956655</td>\n",
       "      <td>40.783762</td>\n",
       "      <td>1</td>\n",
       "    </tr>\n",
       "  </tbody>\n",
       "</table>\n",
       "</div>"
      ],
      "text/plain": [
       "                             key  fare_amount          pickup_datetime  \\\n",
       "0    2009-06-15 17:26:21.0000001          4.5  2009-06-15 17:26:21 UTC   \n",
       "1    2010-01-05 16:52:16.0000002         16.9  2010-01-05 16:52:16 UTC   \n",
       "2   2011-08-18 00:35:00.00000049          5.7  2011-08-18 00:35:00 UTC   \n",
       "3    2012-04-21 04:30:42.0000001          7.7  2012-04-21 04:30:42 UTC   \n",
       "4  2010-03-09 07:51:00.000000135          5.3  2010-03-09 07:51:00 UTC   \n",
       "\n",
       "   pickup_longitude  pickup_latitude  dropoff_longitude  dropoff_latitude  \\\n",
       "0        -73.844311        40.721319         -73.841610         40.712278   \n",
       "1        -74.016048        40.711303         -73.979268         40.782004   \n",
       "2        -73.982738        40.761270         -73.991242         40.750562   \n",
       "3        -73.987130        40.733143         -73.991567         40.758092   \n",
       "4        -73.968095        40.768008         -73.956655         40.783762   \n",
       "\n",
       "   passenger_count  \n",
       "0                1  \n",
       "1                1  \n",
       "2                2  \n",
       "3                1  \n",
       "4                1  "
      ]
     },
     "execution_count": 4,
     "metadata": {},
     "output_type": "execute_result"
    }
   ],
   "source": [
    "print(trainRawSegment.shape)\n",
    "trainRawSegment.head()"
   ]
  },
  {
   "cell_type": "markdown",
   "metadata": {},
   "source": [
    "Firstly, the raw data will be shuffled even though there seems to be no pattern of how it was input to the dataset. This is so when the validation set is separated from the training set, there is a fair representation of data in each. However, scikit-learn's stratified shuffle split can be used to ensure that this happens. This function also does the separation of the two datasets automatically based on the argument that is passed. \n",
    "\n",
    "For this implementation, a simple shuffle of the dataset and then use of the head() and tail() functions will be used to create a 80/20 split of the raw data."
   ]
  },
  {
   "cell_type": "code",
   "execution_count": 5,
   "metadata": {},
   "outputs": [
    {
     "data": {
      "text/html": [
       "<div>\n",
       "<style scoped>\n",
       "    .dataframe tbody tr th:only-of-type {\n",
       "        vertical-align: middle;\n",
       "    }\n",
       "\n",
       "    .dataframe tbody tr th {\n",
       "        vertical-align: top;\n",
       "    }\n",
       "\n",
       "    .dataframe thead th {\n",
       "        text-align: right;\n",
       "    }\n",
       "</style>\n",
       "<table border=\"1\" class=\"dataframe\">\n",
       "  <thead>\n",
       "    <tr style=\"text-align: right;\">\n",
       "      <th></th>\n",
       "      <th>key</th>\n",
       "      <th>fare_amount</th>\n",
       "      <th>pickup_datetime</th>\n",
       "      <th>pickup_longitude</th>\n",
       "      <th>pickup_latitude</th>\n",
       "      <th>dropoff_longitude</th>\n",
       "      <th>dropoff_latitude</th>\n",
       "      <th>passenger_count</th>\n",
       "    </tr>\n",
       "  </thead>\n",
       "  <tbody>\n",
       "    <tr>\n",
       "      <th>157105</th>\n",
       "      <td>2012-05-16 11:05:00.00000075</td>\n",
       "      <td>8.9</td>\n",
       "      <td>2012-05-16 11:05:00 UTC</td>\n",
       "      <td>0.000000</td>\n",
       "      <td>0.000000</td>\n",
       "      <td>0.000000</td>\n",
       "      <td>0.000000</td>\n",
       "      <td>1</td>\n",
       "    </tr>\n",
       "    <tr>\n",
       "      <th>374554</th>\n",
       "      <td>2012-12-18 23:26:00.0000009</td>\n",
       "      <td>32.3</td>\n",
       "      <td>2012-12-18 23:26:00 UTC</td>\n",
       "      <td>-73.873385</td>\n",
       "      <td>40.774037</td>\n",
       "      <td>-73.972127</td>\n",
       "      <td>40.753912</td>\n",
       "      <td>1</td>\n",
       "    </tr>\n",
       "    <tr>\n",
       "      <th>688694</th>\n",
       "      <td>2011-06-15 17:26:00.000000108</td>\n",
       "      <td>4.5</td>\n",
       "      <td>2011-06-15 17:26:00 UTC</td>\n",
       "      <td>-73.968922</td>\n",
       "      <td>40.769810</td>\n",
       "      <td>-73.962462</td>\n",
       "      <td>40.778112</td>\n",
       "      <td>1</td>\n",
       "    </tr>\n",
       "    <tr>\n",
       "      <th>265381</th>\n",
       "      <td>2013-03-01 00:14:37.0000006</td>\n",
       "      <td>13.5</td>\n",
       "      <td>2013-03-01 00:14:37 UTC</td>\n",
       "      <td>-73.954747</td>\n",
       "      <td>40.716937</td>\n",
       "      <td>-73.971307</td>\n",
       "      <td>40.685236</td>\n",
       "      <td>1</td>\n",
       "    </tr>\n",
       "    <tr>\n",
       "      <th>955415</th>\n",
       "      <td>2015-03-18 01:21:56.0000001</td>\n",
       "      <td>4.5</td>\n",
       "      <td>2015-03-18 01:21:56 UTC</td>\n",
       "      <td>-73.928207</td>\n",
       "      <td>40.763733</td>\n",
       "      <td>-73.928398</td>\n",
       "      <td>40.758102</td>\n",
       "      <td>1</td>\n",
       "    </tr>\n",
       "  </tbody>\n",
       "</table>\n",
       "</div>"
      ],
      "text/plain": [
       "                                  key  fare_amount          pickup_datetime  \\\n",
       "157105   2012-05-16 11:05:00.00000075          8.9  2012-05-16 11:05:00 UTC   \n",
       "374554    2012-12-18 23:26:00.0000009         32.3  2012-12-18 23:26:00 UTC   \n",
       "688694  2011-06-15 17:26:00.000000108          4.5  2011-06-15 17:26:00 UTC   \n",
       "265381    2013-03-01 00:14:37.0000006         13.5  2013-03-01 00:14:37 UTC   \n",
       "955415    2015-03-18 01:21:56.0000001          4.5  2015-03-18 01:21:56 UTC   \n",
       "\n",
       "        pickup_longitude  pickup_latitude  dropoff_longitude  \\\n",
       "157105          0.000000         0.000000           0.000000   \n",
       "374554        -73.873385        40.774037         -73.972127   \n",
       "688694        -73.968922        40.769810         -73.962462   \n",
       "265381        -73.954747        40.716937         -73.971307   \n",
       "955415        -73.928207        40.763733         -73.928398   \n",
       "\n",
       "        dropoff_latitude  passenger_count  \n",
       "157105          0.000000                1  \n",
       "374554         40.753912                1  \n",
       "688694         40.778112                1  \n",
       "265381         40.685236                1  \n",
       "955415         40.758102                1  "
      ]
     },
     "execution_count": 5,
     "metadata": {},
     "output_type": "execute_result"
    }
   ],
   "source": [
    "np.random.seed(0)\n",
    "trainRawSegment = trainRawSegment.iloc[np.random.permutation(np.arange(len(trainRawSegment)))]\n",
    "trainRawSegment.head()"
   ]
  },
  {
   "cell_type": "code",
   "execution_count": 6,
   "metadata": {},
   "outputs": [],
   "source": [
    "#must typecast to int for head and tail to work as it doesn't handle floating point numbers.\n",
    "\n",
    "train = trainRawSegment.head(int(numberOfSamples*0.8))\n",
    "validation = trainRawSegment.tail(int(numberOfSamples*0.2))"
   ]
  },
  {
   "cell_type": "code",
   "execution_count": 7,
   "metadata": {},
   "outputs": [
    {
     "name": "stdout",
     "output_type": "stream",
     "text": [
      "(800000, 8)\n",
      "(200000, 8)\n"
     ]
    }
   ],
   "source": [
    "print(train.shape)\n",
    "print(validation.shape)"
   ]
  },
  {
   "cell_type": "markdown",
   "metadata": {},
   "source": [
    "Looking through the data, things that stand out are dates and times in the \"key\" & \"pickup_datetime\" columns. These could be split into separate individual features and checked for correlation with \"fare_amount\". The pairs of longitude and latitude features could be made into cross features. Time could be bucketed into morning, afternoon and evening categories."
   ]
  },
  {
   "cell_type": "code",
   "execution_count": 8,
   "metadata": {},
   "outputs": [
    {
     "name": "stdout",
     "output_type": "stream",
     "text": [
      "8\n"
     ]
    }
   ],
   "source": [
    "train[\"passenger_count\"].value_counts()\n",
    "print(len(train.columns))"
   ]
  },
  {
   "cell_type": "markdown",
   "metadata": {},
   "source": [
    "Inspection of the \"passenger_count\" column shows some crazy errors. specifically the taxis that were able to fit 49 to 208 passengers in the one trip. In all seriousness, this looks like an input error or error code. The trips that noted 9 passengers down are a bit of a mystery, as either it was a data entry error or possibly those taxis did actually have that many passengers. \n",
    "\n",
    "These outliers (passenger_count > 6) will be removed from the dataset as they hold such an insignificant percentage of data 11/5,000,000."
   ]
  },
  {
   "cell_type": "code",
   "execution_count": 9,
   "metadata": {},
   "outputs": [
    {
     "name": "stdout",
     "output_type": "stream",
     "text": [
      "train is now  799999 rows long\n"
     ]
    },
    {
     "data": {
      "text/plain": [
       "1    553215\n",
       "2    118459\n",
       "5     56447\n",
       "3     35073\n",
       "4     17159\n",
       "6     16812\n",
       "0      2834\n",
       "Name: passenger_count, dtype: int64"
      ]
     },
     "execution_count": 9,
     "metadata": {},
     "output_type": "execute_result"
    }
   ],
   "source": [
    "#removing the weird passenger count \n",
    "train = train.drop(train[train.passenger_count > 6].index)\n",
    "print(\"train is now \", int(train.size/len(train.columns)), \"rows long\")\n",
    "train[\"passenger_count\"].value_counts()"
   ]
  },
  {
   "cell_type": "code",
   "execution_count": 10,
   "metadata": {},
   "outputs": [
    {
     "data": {
      "image/png": "[encoded data removed]",
      "text/plain": [
       "<Figure size 432x288 with 1 Axes>"
      ]
     },
     "metadata": {
      "needs_background": "light"
     },
     "output_type": "display_data"
    }
   ],
   "source": [
    "%matplotlib inline\n",
    "import matplotlib.pyplot as plt\n",
    "train[\"passenger_count\"].hist(bins=10, range=(0, 8))\n",
    "plt.show()"
   ]
  },
  {
   "cell_type": "markdown",
   "metadata": {},
   "source": [
    "Using pandas corr function, the correlation between columns can be acquired.  "
   ]
  },
  {
   "cell_type": "code",
   "execution_count": 11,
   "metadata": {},
   "outputs": [
    {
     "data": {
      "text/plain": [
       "fare_amount          1.000000\n",
       "pickup_longitude     0.009314\n",
       "pickup_latitude     -0.008813\n",
       "dropoff_longitude    0.009939\n",
       "dropoff_latitude    -0.007934\n",
       "passenger_count      0.012378\n",
       "Name: fare_amount, dtype: float64"
      ]
     },
     "execution_count": 11,
     "metadata": {},
     "output_type": "execute_result"
    }
   ],
   "source": [
    "corrMatrix = train.corr()\n",
    "corrMatrix[\"fare_amount\"]"
   ]
  },
  {
   "cell_type": "markdown",
   "metadata": {},
   "source": [
    "There is no feature that has an obvious correlation with fare_amount. Passenger_count has the highest correlation with the target value fare_amount out of the data provided. This is probably due to larger groups of people taking longer trips together to save on costs.\n",
    "\n",
    "As this function only provides correlation of linear relationships, it is missing out on the non-linear relationships. Next up, testing with different combinations of features. The main combination that will be tested is distance travelled. This will be found by taking the absolute of pythagorean distance of pickup_longitude minus dropoff_longitude and pickup_latitude minus dropoff_latitude.  "
   ]
  },
  {
   "cell_type": "markdown",
   "metadata": {},
   "source": [
    "This next code iterates through the training set, calculating the distance between pickup and dropoff locations and assigning them to the distance_travelled column."
   ]
  },
  {
   "cell_type": "code",
   "execution_count": 12,
   "metadata": {},
   "outputs": [
    {
     "data": {
      "text/plain": [
       "'\\n\\n# https://stackoverflow.com/questions/19412462/getting-distance-between-two-points-based-on-latitude-longitude\\n\\nfrom math import sin, cos, sqrt, atan2, radians\\n\\ntrain.loc[:, \"distance_travelled\"] = np.nan\\n\\ntrainLength = len(train[\"passenger_count\"])\\n\\n# approximate radius of earth in km\\nR = 6373.0\\n\\nfor i in tqdm(range(trainLength)):\\n    lat1 = radians(train[\"pickup_latitude\"].iloc[i])\\n    lon1 = radians(train[\"pickup_longitude\"].iloc[i])\\n    lat2 = radians(train[\"dropoff_latitude\"].iloc[i])\\n    lon2 = radians(train[\"dropoff_longitude\"].iloc[i])\\n    \\n    dlon = lon2 - lon1\\n    dlat = lat2 - lat1\\n    \\n    a = sin(dlat / 2)**2 + cos(lat1) * cos(lat2) * sin(dlon / 2)**2\\n    c = 2 * atan2(sqrt(a), sqrt(1 - a))\\n    \\n    train.loc[train.index[i], \"distance_travelled\"] = R * c\\n    \\ntrain.head()\\n'"
      ]
     },
     "execution_count": 12,
     "metadata": {},
     "output_type": "execute_result"
    }
   ],
   "source": [
    "##################################################################\n",
    "#\n",
    "#\n",
    "#         DONT RUN THIS CELL\n",
    "#       This has been kept to show what not to do!\n",
    "#\n",
    "#\n",
    "##################################################################\n",
    "'''\n",
    "\n",
    "# https://stackoverflow.com/questions/19412462/getting-distance-between-two-points-based-on-latitude-longitude\n",
    "\n",
    "from math import sin, cos, sqrt, atan2, radians\n",
    "\n",
    "train.loc[:, \"distance_travelled\"] = np.nan\n",
    "\n",
    "trainLength = len(train[\"passenger_count\"])\n",
    "\n",
    "# approximate radius of earth in km\n",
    "R = 6373.0\n",
    "\n",
    "for i in tqdm(range(trainLength)):\n",
    "    lat1 = radians(train[\"pickup_latitude\"].iloc[i])\n",
    "    lon1 = radians(train[\"pickup_longitude\"].iloc[i])\n",
    "    lat2 = radians(train[\"dropoff_latitude\"].iloc[i])\n",
    "    lon2 = radians(train[\"dropoff_longitude\"].iloc[i])\n",
    "    \n",
    "    dlon = lon2 - lon1\n",
    "    dlat = lat2 - lat1\n",
    "    \n",
    "    a = sin(dlat / 2)**2 + cos(lat1) * cos(lat2) * sin(dlon / 2)**2\n",
    "    c = 2 * atan2(sqrt(a), sqrt(1 - a))\n",
    "    \n",
    "    train.loc[train.index[i], \"distance_travelled\"] = R * c\n",
    "    \n",
    "train.head()\n",
    "'''\n",
    "\n",
    "\n"
   ]
  },
  {
   "cell_type": "markdown",
   "metadata": {},
   "source": [
    "Using tqdm on the iterator, we see that this calculation will take approx. 72 hours for the 4 million samples. This is way too long. I'm going to have to figure out another way to calculate this feature. (cython, some other software that is fast dealing with large datasets)."
   ]
  },
  {
   "cell_type": "markdown",
   "metadata": {},
   "source": [
    "Before processing latitude and longitude, I should have inspected the data thoroughly beforehand. Using the tool provided on https://www.mapdevelopers.com/geocode_bounding_box.php I can get a bounding box around new york city, find minimum and maximum latitude and longitude values, and filter the training data using the found values. This should remove any errors acquired at time of input, and remove any locations that have been input that arent in new york city. \n",
    "![new york city latitude and longitude limits](img/boundingBox.png)"
   ]
  },
  {
   "cell_type": "markdown",
   "metadata": {},
   "source": [
    "Using the latitude and longitude bounds created by the map developer tool above, I'll add an extra +/- 1 to longitude and +/- 0.5 to latitude and filter using the values. This is done to include any trips that begin/end in the outer suburbs. These values could be tweaked to increase the area sample size as well. "
   ]
  },
  {
   "cell_type": "code",
   "execution_count": 13,
   "metadata": {},
   "outputs": [
    {
     "name": "stdout",
     "output_type": "stream",
     "text": [
      "train was  799999 rows long\n",
      "train is now  783443 rows long\n"
     ]
    }
   ],
   "source": [
    "# change these values to increase/decrease bounding box size\n",
    "longitudeBound = np.array([-72.7, -75.26])\n",
    "latitudeBound = np.array([41.42, 39.98])\n",
    "\n",
    "print(\"train was \", int(train.size/len(train.columns)), \"rows long\")\n",
    "\n",
    "# longitudes first\n",
    "train = train.drop(train[train.pickup_longitude > longitudeBound[0]].index)\n",
    "train = train.drop(train[train.pickup_longitude < longitudeBound[1]].index)\n",
    "train = train.drop(train[train.dropoff_longitude > longitudeBound[0]].index)\n",
    "train = train.drop(train[train.dropoff_longitude < longitudeBound[1]].index)\n",
    "\n",
    "# now the latitudes\n",
    "train = train.drop(train[train.pickup_latitude > latitudeBound[0]].index)\n",
    "train = train.drop(train[train.pickup_latitude < latitudeBound[1]].index)\n",
    "train = train.drop(train[train.dropoff_latitude > latitudeBound[0]].index)\n",
    "train = train.drop(train[train.dropoff_latitude < latitudeBound[1]].index)\n",
    "\n",
    "print(\"train is now \", int(train.size/len(train.columns)), \"rows long\")\n",
    "\n",
    "#removing the weird passenger count \n",
    "#train = train.drop(train[train.passenger_count > 6].index)\n",
    "#print(\"train is now \", int(train.size/len(train.columns)), \"rows long\")\n",
    "#train[\"passenger_count\"].value_counts()"
   ]
  },
  {
   "cell_type": "markdown",
   "metadata": {},
   "source": [
    "Next up, I'm going to sort the pickup_datetime column into individual columns. This is so I can categorize and bucketize parameters individually. Also, I believe I can safely remove the key column as this just seems to have the same info but in a worse format. "
   ]
  },
  {
   "cell_type": "code",
   "execution_count": 14,
   "metadata": {},
   "outputs": [],
   "source": [
    "train = train.drop(\"key\", axis=1)"
   ]
  },
  {
   "cell_type": "code",
   "execution_count": 15,
   "metadata": {},
   "outputs": [
    {
     "data": {
      "text/plain": [
       "fare_amount                 float64\n",
       "pickup_datetime      datetime64[ns]\n",
       "pickup_longitude            float64\n",
       "pickup_latitude             float64\n",
       "dropoff_longitude           float64\n",
       "dropoff_latitude            float64\n",
       "passenger_count               int64\n",
       "dtype: object"
      ]
     },
     "execution_count": 15,
     "metadata": {},
     "output_type": "execute_result"
    }
   ],
   "source": [
    "train[\"pickup_datetime\"] = pd.to_datetime(train[\"pickup_datetime\"])\n",
    "train.dtypes"
   ]
  },
  {
   "cell_type": "code",
   "execution_count": 16,
   "metadata": {},
   "outputs": [],
   "source": [
    "train['year'] = train['pickup_datetime'].dt.year\n",
    "train['month'] = train['pickup_datetime'].dt.month\n",
    "train['date'] = train['pickup_datetime'].dt.day\n",
    "train['day'] = train['pickup_datetime'].dt.dayofweek\n",
    "train['hour'] = train['pickup_datetime'].dt.hour"
   ]
  },
  {
   "cell_type": "markdown",
   "metadata": {},
   "source": [
    "After seperating the datetime field into different units of time, I can do some analysis. First I'll check what year all this data has come from. "
   ]
  },
  {
   "cell_type": "code",
   "execution_count": 17,
   "metadata": {},
   "outputs": [
    {
     "data": {
      "image/png": "[encoded data removed]",
      "text/plain": [
       "<Figure size 432x288 with 1 Axes>"
      ]
     },
     "metadata": {
      "needs_background": "light"
     },
     "output_type": "display_data"
    }
   ],
   "source": [
    "train[\"year\"].hist(bins=7)\n",
    "plt.show()"
   ]
  },
  {
   "cell_type": "markdown",
   "metadata": {},
   "source": [
    "Obviously the data hasnt been sampled throughout the entire year of 2015 and i have only got data from approximately half the year here. Im just going to confirm that by plotting a scatterplot of month against year."
   ]
  },
  {
   "cell_type": "code",
   "execution_count": 18,
   "metadata": {},
   "outputs": [
    {
     "data": {
      "image/png": "[encoded data removed]",
      "text/plain": [
       "<Figure size 1080x504 with 1 Axes>"
      ]
     },
     "metadata": {
      "needs_background": "light"
     },
     "output_type": "display_data"
    }
   ],
   "source": [
    "plt.figure(figsize=(15,7))\n",
    "plt.scatter(x=train['month'], y=train['year'], s=1.5)\n",
    "plt.xlabel('month')\n",
    "plt.ylabel('year')\n",
    "plt.show()"
   ]
  },
  {
   "cell_type": "markdown",
   "metadata": {},
   "source": [
    "As predicted, the data only goes up to june 2015. There was no way that taxi rides dropped in popularity that severely."
   ]
  },
  {
   "cell_type": "code",
   "execution_count": 19,
   "metadata": {},
   "outputs": [
    {
     "data": {
      "text/plain": [
       "fare_amount          1.000000\n",
       "pickup_longitude     0.373498\n",
       "pickup_latitude     -0.185647\n",
       "dropoff_longitude    0.285844\n",
       "dropoff_latitude    -0.153292\n",
       "passenger_count      0.013216\n",
       "year                 0.115852\n",
       "month                0.024688\n",
       "date                 0.001779\n",
       "day                  0.003395\n",
       "hour                -0.019433\n",
       "Name: fare_amount, dtype: float64"
      ]
     },
     "execution_count": 19,
     "metadata": {},
     "output_type": "execute_result"
    }
   ],
   "source": [
    "corrMatrix = train.corr()\n",
    "corrMatrix[\"fare_amount\"]"
   ]
  },
  {
   "cell_type": "markdown",
   "metadata": {},
   "source": [
    "Seems after cancelling out a bunch of longitude and latitudes, the pickup and dropoff longitude shows much stronger correlation than before. \n",
    "\n",
    "When was rush hour in NYC in the year 2012? this could be a valuable parameter that correlates well with fare amount. According to a local, \"Rush hour in NYC is usually from about 7:00am-10:00am and 4:00pm-7:00pm during the week\". With this info we can create a new boolean feature called rush_hour."
   ]
  },
  {
   "cell_type": "code",
   "execution_count": 20,
   "metadata": {},
   "outputs": [],
   "source": [
    "train[\"rush_hour\"] = ((train[\"hour\"] < 10) & (train[\"hour\"] > 7)) | ((train[\"hour\"] < 19) & (train[\"hour\"] > 16))"
   ]
  },
  {
   "cell_type": "markdown",
   "metadata": {},
   "source": [
    "Which days fall on weekends? which are during the week? I believe this parameter might have strong correlation with fare amount. Using dt.dayofweek results in values for the day of the week being Monday=0, Sunday=6."
   ]
  },
  {
   "cell_type": "code",
   "execution_count": 21,
   "metadata": {},
   "outputs": [
    {
     "data": {
      "image/png": "[encoded data removed]",
      "text/plain": [
       "<Figure size 1080x504 with 1 Axes>"
      ]
     },
     "metadata": {
      "needs_background": "light"
     },
     "output_type": "display_data"
    }
   ],
   "source": [
    "plt.figure(figsize=(15,7))\n",
    "plt.scatter(x=train['hour'], y=train['fare_amount'], s=1.5)\n",
    "plt.xlabel('Hour')\n",
    "plt.ylabel('Fare')\n",
    "plt.show()"
   ]
  },
  {
   "cell_type": "markdown",
   "metadata": {},
   "source": [
    "I was hoping to reveal some interesting insight to how fares differ by looking at the fare_amount vs. hour scatterplot. Unfortunatley, not a huge distinction between AM/PM, night/day can be identified. However, an obvious fault in the dataset did occur. We can see some records have negative fare_amounts. This doesn't make any sense, so I'll remove them. Also a few huge fare amounts are recorded (400 - 980) but I'll leave them for now."
   ]
  },
  {
   "cell_type": "code",
   "execution_count": 22,
   "metadata": {},
   "outputs": [
    {
     "name": "stdout",
     "output_type": "stream",
     "text": [
      "train was  783443 rows long\n",
      "train is now  783412 rows long\n"
     ]
    }
   ],
   "source": [
    "print(\"train was \", int(train.size/len(train.columns)), \"rows long\")\n",
    "train = train.drop(train[train.fare_amount < 0].index)\n",
    "train.describe()\n",
    "print(\"train is now \", int(train.size/len(train.columns)), \"rows long\")"
   ]
  },
  {
   "cell_type": "markdown",
   "metadata": {},
   "source": [
    "Awesome, no negative fare pricings (though a cost of zero seems a little strange but possible).\n",
    "Next up, an attempt at vectorizing the distance travelled calculation."
   ]
  },
  {
   "cell_type": "code",
   "execution_count": 23,
   "metadata": {},
   "outputs": [],
   "source": [
    "# approximate radius of earth in km\n",
    "R = 6373.0\n",
    "\n",
    "lat1 = np.radians(np.array(train[\"pickup_latitude\"]))\n",
    "lon1 = np.radians(np.array(train[\"pickup_longitude\"]))\n",
    "lat2 = np.radians(np.array(train[\"dropoff_latitude\"]))\n",
    "lon2 = np.radians(np.array(train[\"dropoff_longitude\"]))\n",
    "    \n",
    "dlon = lon2 - lon1\n",
    "dlat = lat2 - lat1\n",
    "    \n",
    "a = np.sin(dlat / 2)**2 + np.cos(lat1) * np.cos(lat2) * np.sin(dlon / 2)**2\n",
    "c = 2 * np.arctan2(np.sqrt(a), np.sqrt(1 - a))\n",
    "    \n",
    "train[\"distance_travelled\"] = c * R"
   ]
  },
  {
   "cell_type": "markdown",
   "metadata": {},
   "source": [
    "WOah! after learning about how to use numpy properly, I tried vectorizing the equation using the built in numpy functions which resulted in insane speed. This really shows the power of the numpy library when comparing to how I previously coded it using a for loop and math library functions. 72 hours vs. approx. 100ms... actually insane.\n",
    "\n",
    "Now that I have The distance travelled (point to point, not directly following the exact route taken) I can test the correlation between fare amount and distance travelled."
   ]
  },
  {
   "cell_type": "code",
   "execution_count": 24,
   "metadata": {},
   "outputs": [
    {
     "name": "stdout",
     "output_type": "stream",
     "text": [
      "fare_amount           1.000000\n",
      "pickup_longitude      0.373584\n",
      "pickup_latitude      -0.185659\n",
      "dropoff_longitude     0.285952\n",
      "dropoff_latitude     -0.153300\n",
      "passenger_count       0.013210\n",
      "year                  0.115906\n",
      "month                 0.024626\n",
      "date                  0.001781\n",
      "day                   0.003403\n",
      "hour                 -0.019454\n",
      "rush_hour            -0.016970\n",
      "distance_travelled    0.813049\n",
      "Name: fare_amount, dtype: float64\n",
      " \n",
      "count    783406.000000\n",
      "mean          3.329531\n",
      "std           3.765573\n",
      "min           0.000000\n",
      "25%           1.255102\n",
      "50%           2.154192\n",
      "75%           3.916850\n",
      "max         132.434920\n",
      "Name: distance_travelled, dtype: float64\n"
     ]
    }
   ],
   "source": [
    "corrMatrix = train.corr()\n",
    "print(corrMatrix[\"fare_amount\"])\n",
    "print(\" \")\n",
    "print(train[\"distance_travelled\"].describe())"
   ]
  },
  {
   "cell_type": "markdown",
   "metadata": {},
   "source": [
    "As expected, a really strong correlation occurs. I'm now going to have a quick look at the data using the describe function. As above, it seems that most of the data falls within an expected range, however, the largest value is 132 kilometers, which seems really unbelievable. I am going to plot the distance travelled against pickup latitude to try visualize outliers. \n",
    "\n",
    "After plotting distance travelled vs pickup latitude, I found the plot difficult to read. though there were some strange patterns occuring, I thought perhaps they were natural and not a bug/data entry error (considering there may be some really common tourist destinations that alot of people from a common pickup location, such as the airport, could be the case). I then decided to plot year vs distance travelled and found some interesting patterns as below..."
   ]
  },
  {
   "cell_type": "code",
   "execution_count": 25,
   "metadata": {},
   "outputs": [
    {
     "data": {
      "image/png": "[encoded data removed]",
      "text/plain": [
       "<Figure size 1080x504 with 1 Axes>"
      ]
     },
     "metadata": {
      "needs_background": "light"
     },
     "output_type": "display_data"
    }
   ],
   "source": [
    "plt.figure(figsize=(15,7))\n",
    "plt.scatter(x=train['distance_travelled'], y=train['year'], s=1.5)\n",
    "plt.xlabel('distance_travelled')\n",
    "plt.ylabel('year')\n",
    "plt.show()"
   ]
  },
  {
   "cell_type": "markdown",
   "metadata": {},
   "source": [
    "Looking at distance travelled against year, it seems like alot of the longer rides start to cease at around 2011-2012. I was thinking that a public transport system to the airport had gone live or something along those lines, but in fact, Uber went live in May 2011 according to wikipedia, and I think this would have had a large enough impact to change these trends."
   ]
  },
  {
   "cell_type": "markdown",
   "metadata": {},
   "source": [
    "NEXT UP:\n",
    "\n",
    "- should i do some bucketizing? (months into seasons, winter may have a higher taxi trip rate) \n",
    "- I still need to standardize or normalize the quantative features (only fitting the transformer to the training data, then, transforming the training, test and future data) .  \n",
    "- I should treat the date-based features as categorical instead of a quantative variable. (One hot encoding)"
   ]
  },
  {
   "cell_type": "code",
   "execution_count": 26,
   "metadata": {},
   "outputs": [
    {
     "data": {
      "text/plain": [
       "fare_amount                  float64\n",
       "pickup_datetime       datetime64[ns]\n",
       "pickup_longitude             float64\n",
       "pickup_latitude              float64\n",
       "dropoff_longitude            float64\n",
       "dropoff_latitude             float64\n",
       "passenger_count                int64\n",
       "year                           int64\n",
       "month                          int64\n",
       "date                           int64\n",
       "day                            int64\n",
       "hour                           int64\n",
       "rush_hour                      int64\n",
       "distance_travelled           float64\n",
       "dtype: object"
      ]
     },
     "execution_count": 26,
     "metadata": {},
     "output_type": "execute_result"
    }
   ],
   "source": [
    "train.rush_hour = train.rush_hour.astype(int)\n",
    "train.dtypes"
   ]
  },
  {
   "cell_type": "markdown",
   "metadata": {},
   "source": [
    "Upon attempting to one hot encode the training data, it is found that NaNs exist in the data. In this instance, all NaNs will be set to 0, further testing will be done later to try other methods."
   ]
  },
  {
   "cell_type": "code",
   "execution_count": 27,
   "metadata": {},
   "outputs": [],
   "source": [
    "train.fillna(0, inplace=True)"
   ]
  },
  {
   "cell_type": "markdown",
   "metadata": {},
   "source": [
    "Not sure if standardize/normalize is needed here, as I'll only use one continuous variable (distance travelled). One hot encoding on the other had will definitely be used."
   ]
  },
  {
   "cell_type": "code",
   "execution_count": 28,
   "metadata": {},
   "outputs": [],
   "source": [
    "from sklearn.preprocessing import OneHotEncoder, StandardScaler\n",
    "\n",
    "columns_to_scale  = ['distance_travelled']\n",
    "scaler = StandardScaler()\n",
    "train[columns_to_scale]  = scaler.fit_transform(train[columns_to_scale]) "
   ]
  },
  {
   "cell_type": "markdown",
   "metadata": {},
   "source": [
    "The above attempt at scaling and one hot encoding froze my computer. most likely a RAM issue. I think I've got to bucketize some of the categorical data first before one hot encoding. Alternatively I could use a smaller dataset."
   ]
  },
  {
   "cell_type": "code",
   "execution_count": 29,
   "metadata": {},
   "outputs": [
    {
     "data": {
      "text/plain": [
       "count    7.834120e+05\n",
       "mean    -2.885481e-16\n",
       "std      1.000001e+00\n",
       "min     -8.841977e-01\n",
       "25%     -5.508920e-01\n",
       "50%     -3.121234e-01\n",
       "75%      1.559727e-01\n",
       "max      3.428578e+01\n",
       "Name: distance_travelled, dtype: float64"
      ]
     },
     "execution_count": 29,
     "metadata": {},
     "output_type": "execute_result"
    }
   ],
   "source": [
    "train['distance_travelled'].describe()"
   ]
  },
  {
   "cell_type": "code",
   "execution_count": 30,
   "metadata": {},
   "outputs": [],
   "source": [
    "train = pd.get_dummies(train, columns=['passenger_count'])"
   ]
  },
  {
   "cell_type": "code",
   "execution_count": 31,
   "metadata": {},
   "outputs": [],
   "source": [
    "train = pd.get_dummies(train, columns=['year'])"
   ]
  },
  {
   "cell_type": "markdown",
   "metadata": {},
   "source": [
    "lets drop the pickup_datetime column as it is a datetime64[ns] object which we cannot use.  The longitude and latitude recordings will also be removed as Ive caclulated the distance travelled. This could be a terrible idea, but I am not sure how to handle this data. Do I bucketize it, then one hot encode? - something to research."
   ]
  },
  {
   "cell_type": "code",
   "execution_count": 32,
   "metadata": {},
   "outputs": [],
   "source": [
    "train = train.drop(\"pickup_datetime\", axis=1)\n",
    "train = train.drop(\"pickup_longitude\", axis=1)\n",
    "train = train.drop(\"pickup_latitude\", axis=1)\n",
    "train = train.drop(\"dropoff_longitude\", axis=1)\n",
    "train = train.drop(\"dropoff_latitude\", axis=1)"
   ]
  },
  {
   "cell_type": "code",
   "execution_count": 33,
   "metadata": {},
   "outputs": [],
   "source": [
    "train = train.drop(\"month\", axis=1)\n",
    "train = train.drop(\"date\", axis=1)\n",
    "train = train.drop(\"hour\", axis=1)\n",
    "train = pd.get_dummies(train, columns=['day'])"
   ]
  },
  {
   "cell_type": "code",
   "execution_count": 34,
   "metadata": {},
   "outputs": [],
   "source": [
    "# Divide this data into training data and label data\n",
    "trainTargets = train[\"fare_amount\"]\n",
    "trainData = train.drop(\"fare_amount\", axis=1)"
   ]
  },
  {
   "cell_type": "markdown",
   "metadata": {},
   "source": [
    "Below I've defined a function that process a dataframe into the correct format that the samples need to be in in order to produce a prediction."
   ]
  },
  {
   "cell_type": "code",
   "execution_count": 35,
   "metadata": {},
   "outputs": [],
   "source": [
    "def preprocess(data):\n",
    "    \n",
    "    # this \"filtering\" is not used:\n",
    "    \n",
    "#    train = train.drop(train[train.passenger_count > 6].index)    \n",
    "#    longitudeBound = np.array([-72.7, -75.26])\n",
    "#    latitudeBound = np.array([41.42, 39.98])\n",
    "#    longitudes first\n",
    "#    train = train.drop(train[train.pickup_longitude > longitudeBound[0]].index)\n",
    "#    train = train.drop(train[train.pickup_longitude < longitudeBound[1]].index)\n",
    "#    train = train.drop(train[train.dropoff_longitude > longitudeBound[0]].index)\n",
    "#    train = train.drop(train[train.dropoff_longitude < longitudeBound[1]].index)\n",
    "#    now the latitudes\n",
    "#    train = train.drop(train[train.pickup_latitude > latitudeBound[0]].index)\n",
    "#    train = train.drop(train[train.pickup_latitude < latitudeBound[1]].index)\n",
    "#    train = train.drop(train[train.dropoff_latitude > latitudeBound[0]].index)\n",
    "#    train = train.drop(train[train.dropoff_latitude < latitudeBound[1]].index)\n",
    "\n",
    "    #data = data.drop(data[data.fare_amount < 0].index)\n",
    " \n",
    "    # replace NaNs with zeros\n",
    "    data.fillna(0, inplace=True)\n",
    "    data = data.drop(\"key\", axis=1)\n",
    "    \n",
    "    # process the dates.\n",
    "    data[\"pickup_datetime\"] = pd.to_datetime(data[\"pickup_datetime\"])\n",
    "    data['year'] = data['pickup_datetime'].dt.year\n",
    "    data['month'] = data['pickup_datetime'].dt.month\n",
    "    data['date'] = data['pickup_datetime'].dt.day\n",
    "    data['day'] = data['pickup_datetime'].dt.dayofweek\n",
    "    data['hour'] = data['pickup_datetime'].dt.hour\n",
    "    \n",
    "    #create the rush hour column\n",
    "    data[\"rush_hour\"] = ((data[\"hour\"] < 10) & (data[\"hour\"] > 7)) | ((data[\"hour\"] < 19) & (data[\"hour\"] > 16))\n",
    "    data.rush_hour = data.rush_hour.astype(int)\n",
    "    \n",
    "    \n",
    "    # create the distance_travelled column\n",
    "    R = 6373.0\n",
    "    lat1 = np.radians(np.array(data[\"pickup_latitude\"]))\n",
    "    lon1 = np.radians(np.array(data[\"pickup_longitude\"]))\n",
    "    lat2 = np.radians(np.array(data[\"dropoff_latitude\"]))\n",
    "    lon2 = np.radians(np.array(data[\"dropoff_longitude\"]))\n",
    "    dlon = lon2 - lon1\n",
    "    dlat = lat2 - lat1\n",
    "    a = np.sin(dlat / 2)**2 + np.cos(lat1) * np.cos(lat2) * np.sin(dlon / 2)**2\n",
    "    c = 2 * np.arctan2(np.sqrt(a), np.sqrt(1 - a))\n",
    "    data[\"distance_travelled\"] = c * R\n",
    "\n",
    "    #scale the continuous data\n",
    "    columns_to_scale  = ['distance_travelled']\n",
    "    scaler = StandardScaler()\n",
    "    data[columns_to_scale]  = scaler.fit_transform(data[columns_to_scale]) \n",
    "\n",
    "    #one hot encode categorical data\n",
    "    data = pd.get_dummies(data, columns=['passenger_count'])\n",
    "    data = pd.get_dummies(data, columns=['year'])\n",
    "    data = pd.get_dummies(data, columns=['day'])\n",
    "\n",
    "    #drop certain columns - subject to change\n",
    "    data = data.drop(\"pickup_datetime\", axis=1)\n",
    "    data = data.drop(\"pickup_longitude\", axis=1)\n",
    "    data = data.drop(\"pickup_latitude\", axis=1)\n",
    "    data = data.drop(\"dropoff_longitude\", axis=1)\n",
    "    data = data.drop(\"dropoff_latitude\", axis=1)    \n",
    "    data = data.drop(\"month\", axis=1)\n",
    "    data = data.drop(\"date\", axis=1)\n",
    "    data = data.drop(\"hour\", axis=1)\n",
    "    \n",
    "    return data\n"
   ]
  },
  {
   "cell_type": "markdown",
   "metadata": {},
   "source": [
    "This next cell will seperate both the train and validation set data from the target (fare_amount).\n",
    "The trainData will be the pre-processed, clean training set, while the validation data is still raw and unfiltered, hopefully positively simulating the test set. The reason for doing this now is so that while filterign and processing the training data, we want to make sure the data and the target matrices are the same row length for our machine learning framework of choice."
   ]
  },
  {
   "cell_type": "code",
   "execution_count": 36,
   "metadata": {},
   "outputs": [
    {
     "name": "stderr",
     "output_type": "stream",
     "text": [
      "/home/mitch/anaconda3/envs/machineLearning/lib/python3.6/site-packages/pandas/core/frame.py:3790: SettingWithCopyWarning: \n",
      "A value is trying to be set on a copy of a slice from a DataFrame\n",
      "\n",
      "See the caveats in the documentation: http://pandas.pydata.org/pandas-docs/stable/indexing.html#indexing-view-versus-copy\n",
      "  downcast=downcast, **kwargs)\n"
     ]
    },
    {
     "data": {
      "text/html": [
       "<div>\n",
       "<style scoped>\n",
       "    .dataframe tbody tr th:only-of-type {\n",
       "        vertical-align: middle;\n",
       "    }\n",
       "\n",
       "    .dataframe tbody tr th {\n",
       "        vertical-align: top;\n",
       "    }\n",
       "\n",
       "    .dataframe thead th {\n",
       "        text-align: right;\n",
       "    }\n",
       "</style>\n",
       "<table border=\"1\" class=\"dataframe\">\n",
       "  <thead>\n",
       "    <tr style=\"text-align: right;\">\n",
       "      <th></th>\n",
       "      <th>rush_hour</th>\n",
       "      <th>distance_travelled</th>\n",
       "      <th>passenger_count_0</th>\n",
       "      <th>passenger_count_1</th>\n",
       "      <th>passenger_count_2</th>\n",
       "      <th>passenger_count_3</th>\n",
       "      <th>passenger_count_4</th>\n",
       "      <th>passenger_count_5</th>\n",
       "      <th>passenger_count_6</th>\n",
       "      <th>year_2009</th>\n",
       "      <th>...</th>\n",
       "      <th>year_2013</th>\n",
       "      <th>year_2014</th>\n",
       "      <th>year_2015</th>\n",
       "      <th>day_0</th>\n",
       "      <th>day_1</th>\n",
       "      <th>day_2</th>\n",
       "      <th>day_3</th>\n",
       "      <th>day_4</th>\n",
       "      <th>day_5</th>\n",
       "      <th>day_6</th>\n",
       "    </tr>\n",
       "  </thead>\n",
       "  <tbody>\n",
       "    <tr>\n",
       "      <th>74694</th>\n",
       "      <td>0</td>\n",
       "      <td>-0.048141</td>\n",
       "      <td>0</td>\n",
       "      <td>1</td>\n",
       "      <td>0</td>\n",
       "      <td>0</td>\n",
       "      <td>0</td>\n",
       "      <td>0</td>\n",
       "      <td>0</td>\n",
       "      <td>0</td>\n",
       "      <td>...</td>\n",
       "      <td>0</td>\n",
       "      <td>0</td>\n",
       "      <td>0</td>\n",
       "      <td>0</td>\n",
       "      <td>1</td>\n",
       "      <td>0</td>\n",
       "      <td>0</td>\n",
       "      <td>0</td>\n",
       "      <td>0</td>\n",
       "      <td>0</td>\n",
       "    </tr>\n",
       "    <tr>\n",
       "      <th>457863</th>\n",
       "      <td>1</td>\n",
       "      <td>-0.047896</td>\n",
       "      <td>0</td>\n",
       "      <td>0</td>\n",
       "      <td>0</td>\n",
       "      <td>0</td>\n",
       "      <td>0</td>\n",
       "      <td>1</td>\n",
       "      <td>0</td>\n",
       "      <td>0</td>\n",
       "      <td>...</td>\n",
       "      <td>0</td>\n",
       "      <td>0</td>\n",
       "      <td>0</td>\n",
       "      <td>0</td>\n",
       "      <td>0</td>\n",
       "      <td>0</td>\n",
       "      <td>1</td>\n",
       "      <td>0</td>\n",
       "      <td>0</td>\n",
       "      <td>0</td>\n",
       "    </tr>\n",
       "    <tr>\n",
       "      <th>515346</th>\n",
       "      <td>0</td>\n",
       "      <td>-0.051717</td>\n",
       "      <td>0</td>\n",
       "      <td>0</td>\n",
       "      <td>1</td>\n",
       "      <td>0</td>\n",
       "      <td>0</td>\n",
       "      <td>0</td>\n",
       "      <td>0</td>\n",
       "      <td>0</td>\n",
       "      <td>...</td>\n",
       "      <td>0</td>\n",
       "      <td>1</td>\n",
       "      <td>0</td>\n",
       "      <td>0</td>\n",
       "      <td>0</td>\n",
       "      <td>0</td>\n",
       "      <td>1</td>\n",
       "      <td>0</td>\n",
       "      <td>0</td>\n",
       "      <td>0</td>\n",
       "    </tr>\n",
       "    <tr>\n",
       "      <th>974956</th>\n",
       "      <td>0</td>\n",
       "      <td>-0.047732</td>\n",
       "      <td>0</td>\n",
       "      <td>0</td>\n",
       "      <td>0</td>\n",
       "      <td>0</td>\n",
       "      <td>0</td>\n",
       "      <td>0</td>\n",
       "      <td>1</td>\n",
       "      <td>0</td>\n",
       "      <td>...</td>\n",
       "      <td>1</td>\n",
       "      <td>0</td>\n",
       "      <td>0</td>\n",
       "      <td>0</td>\n",
       "      <td>0</td>\n",
       "      <td>0</td>\n",
       "      <td>0</td>\n",
       "      <td>1</td>\n",
       "      <td>0</td>\n",
       "      <td>0</td>\n",
       "    </tr>\n",
       "    <tr>\n",
       "      <th>545928</th>\n",
       "      <td>0</td>\n",
       "      <td>-0.046361</td>\n",
       "      <td>0</td>\n",
       "      <td>1</td>\n",
       "      <td>0</td>\n",
       "      <td>0</td>\n",
       "      <td>0</td>\n",
       "      <td>0</td>\n",
       "      <td>0</td>\n",
       "      <td>0</td>\n",
       "      <td>...</td>\n",
       "      <td>1</td>\n",
       "      <td>0</td>\n",
       "      <td>0</td>\n",
       "      <td>0</td>\n",
       "      <td>0</td>\n",
       "      <td>0</td>\n",
       "      <td>0</td>\n",
       "      <td>0</td>\n",
       "      <td>1</td>\n",
       "      <td>0</td>\n",
       "    </tr>\n",
       "  </tbody>\n",
       "</table>\n",
       "<p>5 rows × 23 columns</p>\n",
       "</div>"
      ],
      "text/plain": [
       "        rush_hour  distance_travelled  passenger_count_0  passenger_count_1  \\\n",
       "74694           0           -0.048141                  0                  1   \n",
       "457863          1           -0.047896                  0                  0   \n",
       "515346          0           -0.051717                  0                  0   \n",
       "974956          0           -0.047732                  0                  0   \n",
       "545928          0           -0.046361                  0                  1   \n",
       "\n",
       "        passenger_count_2  passenger_count_3  passenger_count_4  \\\n",
       "74694                   0                  0                  0   \n",
       "457863                  0                  0                  0   \n",
       "515346                  1                  0                  0   \n",
       "974956                  0                  0                  0   \n",
       "545928                  0                  0                  0   \n",
       "\n",
       "        passenger_count_5  passenger_count_6  year_2009  ...    year_2013  \\\n",
       "74694                   0                  0          0  ...            0   \n",
       "457863                  1                  0          0  ...            0   \n",
       "515346                  0                  0          0  ...            0   \n",
       "974956                  0                  1          0  ...            1   \n",
       "545928                  0                  0          0  ...            1   \n",
       "\n",
       "        year_2014  year_2015  day_0  day_1  day_2  day_3  day_4  day_5  day_6  \n",
       "74694           0          0      0      1      0      0      0      0      0  \n",
       "457863          0          0      0      0      0      1      0      0      0  \n",
       "515346          1          0      0      0      0      1      0      0      0  \n",
       "974956          0          0      0      0      0      0      1      0      0  \n",
       "545928          0          0      0      0      0      0      0      1      0  \n",
       "\n",
       "[5 rows x 23 columns]"
      ]
     },
     "execution_count": 36,
     "metadata": {},
     "output_type": "execute_result"
    }
   ],
   "source": [
    "validation = preprocess(validation)\n",
    "\n",
    "# Divide this data into training data and label data\n",
    "validationTargets = validation[\"fare_amount\"]\n",
    "validationData = validation.drop(\"fare_amount\", axis=1)\n",
    "\n",
    "validationData.head()"
   ]
  },
  {
   "cell_type": "markdown",
   "metadata": {},
   "source": [
    "predictive model will go here"
   ]
  },
  {
   "cell_type": "markdown",
   "metadata": {},
   "source": [
    "let's import torch and create an device varable that represents the method of processing. This will pick the gpu if available.\n",
    "\n",
    "I can now use \" someData.to(device) \" to send data to be processed on the gpu."
   ]
  },
  {
   "cell_type": "code",
   "execution_count": 37,
   "metadata": {},
   "outputs": [
    {
     "data": {
      "text/plain": [
       "(200000, 23)"
      ]
     },
     "execution_count": 37,
     "metadata": {},
     "output_type": "execute_result"
    }
   ],
   "source": [
    "validationData.shape"
   ]
  },
  {
   "cell_type": "code",
   "execution_count": 38,
   "metadata": {},
   "outputs": [
    {
     "data": {
      "text/plain": [
       "device(type='cuda', index=0)"
      ]
     },
     "execution_count": 38,
     "metadata": {},
     "output_type": "execute_result"
    }
   ],
   "source": [
    "import torch\n",
    "\n",
    "device = torch.device(\"cuda:0\" if torch.cuda.is_available() else \"cpu\")\n",
    "device"
   ]
  },
  {
   "cell_type": "code",
   "execution_count": 39,
   "metadata": {},
   "outputs": [],
   "source": [
    "from torch import nn\n",
    "from torch import optim\n",
    "\n",
    "# send all data to the gpu, ready for pytorch\n",
    "\n",
    "trainData = torch.tensor(trainData.values).float() # <--- converts to numpy all float for pytorch tensor conversion \n",
    "trainTargets = torch.tensor(trainTargets.values.reshape(trainData.shape[0], 1)).float()\n",
    "\n",
    "validationData = torch.tensor(validationData.values).float() # <--- converts to numpy all float for pytorch tensor conversion \n",
    "validationTargets = torch.tensor(validationTargets.values.reshape(validationData.shape[0], 1)).float()\n",
    "\n",
    "#trainData, trainTargets = trainData.to(device), trainTargets.to(device) # < ---- on the gpu\n",
    "#validationData, validationTargets = validationData.to(device), validationTargets.to(device) # < ---- on the gpu"
   ]
  },
  {
   "cell_type": "code",
   "execution_count": 40,
   "metadata": {},
   "outputs": [],
   "source": [
    "# define the neural network\n",
    "\n",
    "\n",
    "inputDimension = 23\n",
    "hiddenDimension = 138\n",
    "\n",
    "class LinReg(nn.Module):\n",
    "    def __init__(self, inputDimensions, hiddenDimension):\n",
    "        super().__init__()\n",
    "        self.beta = nn.Sequential(\n",
    "            nn.Linear(inputDimension, hiddenDimension),\n",
    "            nn.ReLU(),\n",
    "            nn.Linear(hiddenDimension, hiddenDimension),\n",
    "            nn.ReLU(),\n",
    "            nn.Linear(hiddenDimension, hiddenDimension),\n",
    "            nn.ReLU(),\n",
    "            nn.Linear(hiddenDimension, hiddenDimension),\n",
    "            nn.ReLU(),\n",
    "            nn.Linear(hiddenDimension, 1))\n",
    "        \n",
    "    def forward(self, X):\n",
    "        return self.beta(X)\n",
    "    \n",
    "# model loss optimizer --- every machine learning model\n",
    "\n",
    "model = LinReg(inputDimension, hiddenDimension).to(device) # < ---- on the gpu\n",
    "optimizer = optim.SGD(model.parameters(), lr=0.01)\n",
    "criterion = nn.MSELoss()"
   ]
  },
  {
   "cell_type": "code",
   "execution_count": 41,
   "metadata": {},
   "outputs": [
    {
     "data": {
      "text/plain": [
       "LinReg(\n",
       "  (beta): Sequential(\n",
       "    (0): Linear(in_features=23, out_features=138, bias=True)\n",
       "    (1): ReLU()\n",
       "    (2): Linear(in_features=138, out_features=138, bias=True)\n",
       "    (3): ReLU()\n",
       "    (4): Linear(in_features=138, out_features=138, bias=True)\n",
       "    (5): ReLU()\n",
       "    (6): Linear(in_features=138, out_features=138, bias=True)\n",
       "    (7): ReLU()\n",
       "    (8): Linear(in_features=138, out_features=1, bias=True)\n",
       "  )\n",
       ")"
      ]
     },
     "execution_count": 41,
     "metadata": {},
     "output_type": "execute_result"
    }
   ],
   "source": [
    "model"
   ]
  },
  {
   "cell_type": "markdown",
   "metadata": {},
   "source": [
    "\n",
    "first create a training dataset and a validation dataset:"
   ]
  },
  {
   "cell_type": "code",
   "execution_count": 42,
   "metadata": {},
   "outputs": [],
   "source": [
    "from torch.utils.data import Dataset\n",
    "\n",
    "class trainDataset(Dataset):\n",
    "    def __init__(self):\n",
    "        self.x_data = trainData\n",
    "        self.y_data = trainTargets\n",
    "        self.len = trainData.shape[0]\n",
    "        \n",
    "    def __getitem__(self, index):\n",
    "        return self.x_data[index], self.y_data[index]\n",
    "    \n",
    "    def __len__(self):\n",
    "        return self.len\n",
    "        \n",
    "class validationDataset(Dataset):\n",
    "    def __init__(self):\n",
    "        self.x_data = validationData\n",
    "        self.y_data = validationTargets\n",
    "        self.len = validationData.shape[0]\n",
    "        \n",
    "    def __getitem__(self, index):\n",
    "        return self.x_data[index], self.y_data[index]\n",
    "    \n",
    "    def __len__(self):\n",
    "        return self.len\n",
    "        \n",
    "        \n",
    "tDataset = trainDataset()\n",
    "vDataset = validationDataset()"
   ]
  },
  {
   "cell_type": "markdown",
   "metadata": {},
   "source": [
    "training data loader goes here:"
   ]
  },
  {
   "cell_type": "code",
   "execution_count": 43,
   "metadata": {},
   "outputs": [],
   "source": [
    "from torch.utils.data import DataLoader\n",
    "\n",
    "trainDataLoader = DataLoader(dataset=tDataset,\n",
    "                            batch_size=4096,\n",
    "                            shuffle=False,\n",
    "                            num_workers=2)\n",
    "\n",
    "validationDataLoader = DataLoader(dataset=vDataset,\n",
    "                            batch_size=4096,\n",
    "                            shuffle=False,\n",
    "                            num_workers=2)"
   ]
  },
  {
   "cell_type": "markdown",
   "metadata": {},
   "source": [
    "training loop (changed code from https://github.com/sotte/pytorch_tutorial/blob/master/notebooks/03_transfer_learning.ipynb) goes here:"
   ]
  },
  {
   "cell_type": "code",
   "execution_count": 44,
   "metadata": {},
   "outputs": [
    {
     "name": "stdout",
     "output_type": "stream",
     "text": [
      "Epoch 1/30\n",
      "    batch loss: 37.449\n",
      "  Train Loss: 57.26693450671919\n",
      "  Valid Loss: 109.40549431152344\n",
      "\n",
      "Epoch 2/30\n",
      "    batch loss: 35.420\n",
      "  Train Loss: 27.923367749230568\n",
      "  Valid Loss: 101.49955650634766\n",
      "\n",
      "Epoch 3/30\n",
      "    batch loss: 30.869\n",
      "  Train Loss: 25.82132490317922\n",
      "  Valid Loss: 99.8596255883789\n",
      "\n",
      "Epoch 4/30\n",
      "    batch loss: 26.079\n",
      "  Train Loss: 25.310298388744673\n",
      "  Valid Loss: 98.05503014648437\n",
      "\n",
      "Epoch 5/30\n",
      "    batch loss: 25.847\n",
      "  Train Loss: 24.742149065259248\n",
      "  Valid Loss: 98.23328017822266\n",
      "\n",
      "Epoch 6/30\n",
      "    batch loss: 26.306\n",
      "  Train Loss: 24.570890303110392\n",
      "  Valid Loss: 98.81384724121094\n",
      "\n",
      "Epoch 7/30\n",
      "    batch loss: 26.199\n",
      "  Train Loss: 24.445505319699258\n",
      "  Valid Loss: 98.61456098876953\n",
      "\n",
      "Epoch 8/30\n",
      "    batch loss: 26.001\n",
      "  Train Loss: 24.29959623045966\n",
      "  Valid Loss: 97.74862189697265\n",
      "\n",
      "Epoch 9/30\n",
      "    batch loss: 25.839\n",
      "  Train Loss: 24.19469698782619\n",
      "  Valid Loss: 97.8725960546875\n",
      "\n",
      "Epoch 10/30\n",
      "    batch loss: 25.711\n",
      "  Train Loss: 24.111061552243797\n",
      "  Valid Loss: 97.88209825195312\n",
      "\n",
      "Epoch 11/30\n",
      "    batch loss: 25.803\n",
      "  Train Loss: 24.057791897452166\n",
      "  Valid Loss: 97.91927673583984\n",
      "\n",
      "Epoch 12/30\n",
      "    batch loss: 25.822\n",
      "  Train Loss: 24.00803218823497\n",
      "  Valid Loss: 97.9613658984375\n",
      "\n",
      "Epoch 13/30\n",
      "    batch loss: 25.459\n",
      "  Train Loss: 23.947557263575604\n",
      "  Valid Loss: 97.86120040527344\n",
      "\n",
      "Epoch 14/30\n",
      "    batch loss: 24.972\n",
      "  Train Loss: 23.889754097736805\n",
      "  Valid Loss: 97.54426033447265\n",
      "\n",
      "Epoch 15/30\n",
      "    batch loss: 25.647\n",
      "  Train Loss: 23.820778859590902\n",
      "  Valid Loss: 97.69779551513672\n",
      "\n",
      "Epoch 16/30\n",
      "    batch loss: 25.219\n",
      "  Train Loss: 23.729127463521767\n",
      "  Valid Loss: 97.29283609619141\n",
      "\n",
      "Epoch 17/30\n",
      "    batch loss: 25.094\n",
      "  Train Loss: 23.607597788817902\n",
      "  Valid Loss: 97.19073885253906\n",
      "\n",
      "Epoch 18/30\n",
      "    batch loss: 25.807\n",
      "  Train Loss: 23.497362559285047\n",
      "  Valid Loss: 96.98966844238281\n",
      "\n",
      "Epoch 19/30\n",
      "    batch loss: 25.827\n",
      "  Train Loss: 23.377548730504916\n",
      "  Valid Loss: 96.84285862548828\n",
      "\n",
      "Epoch 20/30\n",
      "    batch loss: 25.604\n",
      "  Train Loss: 23.27318913250781\n",
      "  Valid Loss: 96.55926239501953\n",
      "\n",
      "Epoch 21/30\n",
      "    batch loss: 25.674\n",
      "  Train Loss: 23.19059140249592\n",
      "  Valid Loss: 96.66033734863281\n",
      "\n",
      "Epoch 22/30\n",
      "    batch loss: 25.512\n",
      "  Train Loss: 23.130463434450274\n",
      "  Valid Loss: 96.59270755615235\n",
      "\n",
      "Epoch 23/30\n",
      "    batch loss: 25.174\n",
      "  Train Loss: 23.079972409652036\n",
      "  Valid Loss: 96.06940436767579\n",
      "\n",
      "Epoch 24/30\n",
      "    batch loss: 25.116\n",
      "  Train Loss: 23.046875497461237\n",
      "  Valid Loss: 96.02079813964843\n",
      "\n",
      "Epoch 25/30\n",
      "    batch loss: 24.927\n",
      "  Train Loss: 22.967411424505826\n",
      "  Valid Loss: 95.88667348632812\n",
      "\n",
      "Epoch 26/30\n",
      "    batch loss: 24.760\n",
      "  Train Loss: 22.91977633337155\n",
      "  Valid Loss: 95.71477532714843\n",
      "\n",
      "Epoch 27/30\n",
      "    batch loss: 24.608\n",
      "  Train Loss: 22.87291464404589\n",
      "  Valid Loss: 95.73710516601562\n",
      "\n",
      "Epoch 28/30\n",
      "    batch loss: 24.524\n",
      "  Train Loss: 22.838457392945543\n",
      "  Valid Loss: 96.19260448486328\n",
      "\n",
      "Epoch 29/30\n",
      "    batch loss: 24.457\n",
      "  Train Loss: 22.884313561987895\n",
      "  Valid Loss: 95.92490436523437\n",
      "\n",
      "Epoch 30/30\n",
      "    batch loss: 24.313\n",
      "  Train Loss: 22.833955556927716\n",
      "  Valid Loss: 95.70055769775391\n",
      "\n"
     ]
    }
   ],
   "source": [
    "N_EPOCHS = 30\n",
    "\n",
    "for epoch in range(N_EPOCHS):\n",
    "    print(f\"Epoch {epoch+1}/{N_EPOCHS}\")\n",
    "    \n",
    "    # Train\n",
    "    model.train()  # IMPORTANT\n",
    "    \n",
    "    running_loss, correct, count = 0.0, 0, 0\n",
    "    for X, y in trainDataLoader:\n",
    "        X, y = X.to(device), y.to(device) # <---------- send to device before training, after putting into dataset.\n",
    "        \n",
    "        optimizer.zero_grad()\n",
    "        # with torch.set_grad_enabled(True):\n",
    "        y_ = model(X)\n",
    "        loss = criterion(y_, y)\n",
    "\n",
    "        loss.backward()\n",
    "        optimizer.step()\n",
    "        \n",
    "        count = count + 1\n",
    "        \n",
    "        if count % 100 == 0:\n",
    "        # Statistics\n",
    "            print(f\"    batch loss: {loss.item():0.3f}\")\n",
    "            \n",
    "        _, y_label_ = torch.max(y_, 1)\n",
    "        #correct += (y_label_ == y).sum().item()\n",
    "        running_loss += loss.item() * X.shape[0]\n",
    "    \n",
    "    print(f\"  Train Loss: {running_loss / len(trainDataLoader.dataset)}\")\n",
    "    #print(f\"  Train Acc:  {correct / len(trainDataLoader.dataset)}\")\n",
    "    \n",
    "    count = 0\n",
    "    \n",
    "    # Eval\n",
    "    model.eval()  # IMPORTANT\n",
    "    \n",
    "    running_loss, correct = 0.0, 0\n",
    "    with torch.no_grad():  # IMPORTANT\n",
    "        for X, y in validationDataLoader:\n",
    "            X, y = X.to(device), y.to(device)\n",
    "                    \n",
    "            y_ = model(X)\n",
    "        \n",
    "            _, y_label_ = torch.max(y_, 1)\n",
    "            #correct += (y_label_ == y).sum().item()\n",
    "            \n",
    "            loss = criterion(y_, y)\n",
    "            running_loss += loss.item() * X.shape[0]\n",
    "    \n",
    "    print(f\"  Valid Loss: {running_loss / len(validationDataLoader.dataset)}\")\n",
    "    #print(f\"  Valid Acc:  {correct / len(validationDataLoader.dataset)}\")\n",
    "    print()"
   ]
  },
  {
   "cell_type": "code",
   "execution_count": null,
   "metadata": {},
   "outputs": [],
   "source": []
  },
  {
   "cell_type": "code",
   "execution_count": null,
   "metadata": {},
   "outputs": [],
   "source": []
  }
 ],
 "metadata": {
  "kernelspec": {
   "display_name": "Python 3",
   "language": "python",
   "name": "python3"
  },
  "language_info": {
   "codemirror_mode": {
    "name": "ipython",
    "version": 3
   },
   "file_extension": ".py",
   "mimetype": "text/x-python",
   "name": "python",
   "nbconvert_exporter": "python",
   "pygments_lexer": "ipython3",
   "version": "3.6.6"
  }
 },
 "nbformat": 4,
 "nbformat_minor": 2
}
