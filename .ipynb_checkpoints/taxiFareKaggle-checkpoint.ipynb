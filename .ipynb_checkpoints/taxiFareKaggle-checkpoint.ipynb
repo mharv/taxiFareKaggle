{
 "cells": [
  {
   "cell_type": "markdown",
   "metadata": {},
   "source": [
    "From the Kaggle competition description:\n",
    "\n",
    "\"In this playground competition, hosted in partnership with Google Cloud and Coursera, you are tasked with predicting the fare amount (inclusive of tolls) for a taxi ride in New York City given the pickup and dropoff locations. While you can get a basic estimate based on just the distance between the two points, this will result in an RMSE of $5-$8, depending on the model used (see the starter code for an example of this approach in Kernels). Your challenge is to do better than this using Machine Learning techniques!\"\n",
    "\n"
   ]
  },
  {
   "cell_type": "code",
   "execution_count": 1,
   "metadata": {},
   "outputs": [],
   "source": [
    "import pandas as pd\n",
    "import numpy as np\n",
    "import seaborn as sns\n",
    "from tqdm import tqdm\n",
    "#from sklearn.model_selection import StratifiedShuffleSplit"
   ]
  },
  {
   "cell_type": "markdown",
   "metadata": {},
   "source": [
    "First issue: train.csv is massive! (5.7 gb) \n",
    "Therefore the file must be read and processed in chunks.\n",
    "However, when using pd.read_csv(PATH, chunksize=X), the data type returned is a 'TextFileReader' object.\n",
    "\n",
    "I do not know how to work with the chunksize argument so I'll just use a limited number of rows (10,000,000) for now.\n"
   ]
  },
  {
   "cell_type": "code",
   "execution_count": 2,
   "metadata": {},
   "outputs": [],
   "source": [
    "#trainRawChunks = pd.read_csv(\"/home/mitchell/Desktop/kaggleData/taxiFareKaggle/all/train.csv\", chunksize=500)\n",
    "#testRaw = pd.read_csv(\"/home/mitchell/Desktop/kaggleData/taxiFareKaggle/all/test.csv\")\n",
    "\n",
    "#count = 0\n",
    "#for chunk in trainRawChunks:\n",
    "#    print(chunk.shape)\n",
    "#    count += 1\n",
    "    \n",
    "#print(\"There are: \", 500 * count, \"rows\")\n",
    "    \n",
    "#trainRawChunks[0].head()"
   ]
  },
  {
   "cell_type": "code",
   "execution_count": 3,
   "metadata": {},
   "outputs": [],
   "source": [
    "numberOfSamples = 5000000\n",
    "\n",
    "#LAPTOP PATH: \"/home/mitchell/Desktop/kaggleData/taxiFareKaggle/all/train.csv\"\n",
    "#DESKTOP PATH: \"/media/mitch/Data/kaggleData/taxiFareKaggleData/all/train.csv\"\n",
    "\n",
    "trainRawSegment = pd.read_csv(\"/media/mitch/Data/kaggleData/taxiFareKaggleData/all/train.csv\", nrows=numberOfSamples)\n",
    "\n",
    "\n"
   ]
  },
  {
   "cell_type": "markdown",
   "metadata": {},
   "source": [
    "My Laptop seems to be able to handle 5,000,000 lines of data quite easily (It only has 8 Gb of RAM). Since only a portion of the total data supplied is being used, this already gives the model a disadvantage but also room for improvement if needed."
   ]
  },
  {
   "cell_type": "code",
   "execution_count": 4,
   "metadata": {},
   "outputs": [
    {
     "name": "stdout",
     "output_type": "stream",
     "text": [
      "(5000000, 8)\n"
     ]
    },
    {
     "data": {
      "text/html": [
       "<div>\n",
       "<style scoped>\n",
       "    .dataframe tbody tr th:only-of-type {\n",
       "        vertical-align: middle;\n",
       "    }\n",
       "\n",
       "    .dataframe tbody tr th {\n",
       "        vertical-align: top;\n",
       "    }\n",
       "\n",
       "    .dataframe thead th {\n",
       "        text-align: right;\n",
       "    }\n",
       "</style>\n",
       "<table border=\"1\" class=\"dataframe\">\n",
       "  <thead>\n",
       "    <tr style=\"text-align: right;\">\n",
       "      <th></th>\n",
       "      <th>key</th>\n",
       "      <th>fare_amount</th>\n",
       "      <th>pickup_datetime</th>\n",
       "      <th>pickup_longitude</th>\n",
       "      <th>pickup_latitude</th>\n",
       "      <th>dropoff_longitude</th>\n",
       "      <th>dropoff_latitude</th>\n",
       "      <th>passenger_count</th>\n",
       "    </tr>\n",
       "  </thead>\n",
       "  <tbody>\n",
       "    <tr>\n",
       "      <th>0</th>\n",
       "      <td>2009-06-15 17:26:21.0000001</td>\n",
       "      <td>4.5</td>\n",
       "      <td>2009-06-15 17:26:21 UTC</td>\n",
       "      <td>-73.844311</td>\n",
       "      <td>40.721319</td>\n",
       "      <td>-73.841610</td>\n",
       "      <td>40.712278</td>\n",
       "      <td>1</td>\n",
       "    </tr>\n",
       "    <tr>\n",
       "      <th>1</th>\n",
       "      <td>2010-01-05 16:52:16.0000002</td>\n",
       "      <td>16.9</td>\n",
       "      <td>2010-01-05 16:52:16 UTC</td>\n",
       "      <td>-74.016048</td>\n",
       "      <td>40.711303</td>\n",
       "      <td>-73.979268</td>\n",
       "      <td>40.782004</td>\n",
       "      <td>1</td>\n",
       "    </tr>\n",
       "    <tr>\n",
       "      <th>2</th>\n",
       "      <td>2011-08-18 00:35:00.00000049</td>\n",
       "      <td>5.7</td>\n",
       "      <td>2011-08-18 00:35:00 UTC</td>\n",
       "      <td>-73.982738</td>\n",
       "      <td>40.761270</td>\n",
       "      <td>-73.991242</td>\n",
       "      <td>40.750562</td>\n",
       "      <td>2</td>\n",
       "    </tr>\n",
       "    <tr>\n",
       "      <th>3</th>\n",
       "      <td>2012-04-21 04:30:42.0000001</td>\n",
       "      <td>7.7</td>\n",
       "      <td>2012-04-21 04:30:42 UTC</td>\n",
       "      <td>-73.987130</td>\n",
       "      <td>40.733143</td>\n",
       "      <td>-73.991567</td>\n",
       "      <td>40.758092</td>\n",
       "      <td>1</td>\n",
       "    </tr>\n",
       "    <tr>\n",
       "      <th>4</th>\n",
       "      <td>2010-03-09 07:51:00.000000135</td>\n",
       "      <td>5.3</td>\n",
       "      <td>2010-03-09 07:51:00 UTC</td>\n",
       "      <td>-73.968095</td>\n",
       "      <td>40.768008</td>\n",
       "      <td>-73.956655</td>\n",
       "      <td>40.783762</td>\n",
       "      <td>1</td>\n",
       "    </tr>\n",
       "  </tbody>\n",
       "</table>\n",
       "</div>"
      ],
      "text/plain": [
       "                             key  fare_amount          pickup_datetime  \\\n",
       "0    2009-06-15 17:26:21.0000001          4.5  2009-06-15 17:26:21 UTC   \n",
       "1    2010-01-05 16:52:16.0000002         16.9  2010-01-05 16:52:16 UTC   \n",
       "2   2011-08-18 00:35:00.00000049          5.7  2011-08-18 00:35:00 UTC   \n",
       "3    2012-04-21 04:30:42.0000001          7.7  2012-04-21 04:30:42 UTC   \n",
       "4  2010-03-09 07:51:00.000000135          5.3  2010-03-09 07:51:00 UTC   \n",
       "\n",
       "   pickup_longitude  pickup_latitude  dropoff_longitude  dropoff_latitude  \\\n",
       "0        -73.844311        40.721319         -73.841610         40.712278   \n",
       "1        -74.016048        40.711303         -73.979268         40.782004   \n",
       "2        -73.982738        40.761270         -73.991242         40.750562   \n",
       "3        -73.987130        40.733143         -73.991567         40.758092   \n",
       "4        -73.968095        40.768008         -73.956655         40.783762   \n",
       "\n",
       "   passenger_count  \n",
       "0                1  \n",
       "1                1  \n",
       "2                2  \n",
       "3                1  \n",
       "4                1  "
      ]
     },
     "execution_count": 4,
     "metadata": {},
     "output_type": "execute_result"
    }
   ],
   "source": [
    "print(trainRawSegment.shape)\n",
    "trainRawSegment.head()"
   ]
  },
  {
   "cell_type": "markdown",
   "metadata": {},
   "source": [
    "Firstly, the raw data will be shuffled even though there seems to be no pattern of how it was input to the dataset. This is so when the validation set is separated from the training set, there is a fair representation of data in each. However, scikit-learn's stratified shuffle split can be used to ensure that this happens. This function also does the separation of the two datasets automatically based on the argument that is passed. \n",
    "\n",
    "For this implementation, a simple shuffle of the dataset and then use of the head() and tail() functions will be used to create a 80/20 split of the raw data."
   ]
  },
  {
   "cell_type": "code",
   "execution_count": 5,
   "metadata": {},
   "outputs": [
    {
     "data": {
      "text/html": [
       "<div>\n",
       "<style scoped>\n",
       "    .dataframe tbody tr th:only-of-type {\n",
       "        vertical-align: middle;\n",
       "    }\n",
       "\n",
       "    .dataframe tbody tr th {\n",
       "        vertical-align: top;\n",
       "    }\n",
       "\n",
       "    .dataframe thead th {\n",
       "        text-align: right;\n",
       "    }\n",
       "</style>\n",
       "<table border=\"1\" class=\"dataframe\">\n",
       "  <thead>\n",
       "    <tr style=\"text-align: right;\">\n",
       "      <th></th>\n",
       "      <th>key</th>\n",
       "      <th>fare_amount</th>\n",
       "      <th>pickup_datetime</th>\n",
       "      <th>pickup_longitude</th>\n",
       "      <th>pickup_latitude</th>\n",
       "      <th>dropoff_longitude</th>\n",
       "      <th>dropoff_latitude</th>\n",
       "      <th>passenger_count</th>\n",
       "    </tr>\n",
       "  </thead>\n",
       "  <tbody>\n",
       "    <tr>\n",
       "      <th>3748577</th>\n",
       "      <td>2013-06-10 02:44:15.0000002</td>\n",
       "      <td>13.0</td>\n",
       "      <td>2013-06-10 02:44:15 UTC</td>\n",
       "      <td>-73.983533</td>\n",
       "      <td>40.761973</td>\n",
       "      <td>-74.004933</td>\n",
       "      <td>40.722918</td>\n",
       "      <td>3</td>\n",
       "    </tr>\n",
       "    <tr>\n",
       "      <th>4555504</th>\n",
       "      <td>2013-12-14 18:19:00.00000065</td>\n",
       "      <td>12.0</td>\n",
       "      <td>2013-12-14 18:19:00 UTC</td>\n",
       "      <td>-73.980170</td>\n",
       "      <td>40.775655</td>\n",
       "      <td>-73.985268</td>\n",
       "      <td>40.761922</td>\n",
       "      <td>2</td>\n",
       "    </tr>\n",
       "    <tr>\n",
       "      <th>2388454</th>\n",
       "      <td>2013-04-18 08:42:40.0000004</td>\n",
       "      <td>10.0</td>\n",
       "      <td>2013-04-18 08:42:40 UTC</td>\n",
       "      <td>-74.007055</td>\n",
       "      <td>40.743501</td>\n",
       "      <td>-73.985872</td>\n",
       "      <td>40.752677</td>\n",
       "      <td>1</td>\n",
       "    </tr>\n",
       "    <tr>\n",
       "      <th>3738046</th>\n",
       "      <td>2011-11-29 22:12:52.0000001</td>\n",
       "      <td>7.3</td>\n",
       "      <td>2011-11-29 22:12:52 UTC</td>\n",
       "      <td>-73.985400</td>\n",
       "      <td>40.727500</td>\n",
       "      <td>-74.008100</td>\n",
       "      <td>40.739200</td>\n",
       "      <td>0</td>\n",
       "    </tr>\n",
       "    <tr>\n",
       "      <th>1572731</th>\n",
       "      <td>2012-10-29 10:18:06.0000002</td>\n",
       "      <td>8.0</td>\n",
       "      <td>2012-10-29 10:18:06 UTC</td>\n",
       "      <td>-74.005311</td>\n",
       "      <td>40.720995</td>\n",
       "      <td>-73.983172</td>\n",
       "      <td>40.725207</td>\n",
       "      <td>1</td>\n",
       "    </tr>\n",
       "  </tbody>\n",
       "</table>\n",
       "</div>"
      ],
      "text/plain": [
       "                                  key  fare_amount          pickup_datetime  \\\n",
       "3748577   2013-06-10 02:44:15.0000002         13.0  2013-06-10 02:44:15 UTC   \n",
       "4555504  2013-12-14 18:19:00.00000065         12.0  2013-12-14 18:19:00 UTC   \n",
       "2388454   2013-04-18 08:42:40.0000004         10.0  2013-04-18 08:42:40 UTC   \n",
       "3738046   2011-11-29 22:12:52.0000001          7.3  2011-11-29 22:12:52 UTC   \n",
       "1572731   2012-10-29 10:18:06.0000002          8.0  2012-10-29 10:18:06 UTC   \n",
       "\n",
       "         pickup_longitude  pickup_latitude  dropoff_longitude  \\\n",
       "3748577        -73.983533        40.761973         -74.004933   \n",
       "4555504        -73.980170        40.775655         -73.985268   \n",
       "2388454        -74.007055        40.743501         -73.985872   \n",
       "3738046        -73.985400        40.727500         -74.008100   \n",
       "1572731        -74.005311        40.720995         -73.983172   \n",
       "\n",
       "         dropoff_latitude  passenger_count  \n",
       "3748577         40.722918                3  \n",
       "4555504         40.761922                2  \n",
       "2388454         40.752677                1  \n",
       "3738046         40.739200                0  \n",
       "1572731         40.725207                1  "
      ]
     },
     "execution_count": 5,
     "metadata": {},
     "output_type": "execute_result"
    }
   ],
   "source": [
    "np.random.seed(0)\n",
    "trainRawSegment = trainRawSegment.iloc[np.random.permutation(np.arange(len(trainRawSegment)))]\n",
    "trainRawSegment.head()"
   ]
  },
  {
   "cell_type": "code",
   "execution_count": 6,
   "metadata": {},
   "outputs": [],
   "source": [
    "#must typecast to int for head and tail to work as it doesn't handle floating point numbers.\n",
    "\n",
    "train = trainRawSegment.head(int(numberOfSamples*0.8))\n",
    "validation = trainRawSegment.tail(int(numberOfSamples*0.2))"
   ]
  },
  {
   "cell_type": "code",
   "execution_count": 7,
   "metadata": {},
   "outputs": [
    {
     "name": "stdout",
     "output_type": "stream",
     "text": [
      "(4000000, 8)\n",
      "(1000000, 8)\n"
     ]
    }
   ],
   "source": [
    "print(train.shape)\n",
    "print(validation.shape)"
   ]
  },
  {
   "cell_type": "markdown",
   "metadata": {},
   "source": [
    "Looking through the data, things that stand out are dates and times in the \"key\" & \"pickup_datetime\" columns. These could be split into separate individual features and checked for correlation with \"fare_amount\". The pairs of longitude and latitude features could be made into cross features. Time could be bucketed into morning, afternoon and evening categories."
   ]
  },
  {
   "cell_type": "code",
   "execution_count": 8,
   "metadata": {},
   "outputs": [
    {
     "name": "stdout",
     "output_type": "stream",
     "text": [
      "8\n"
     ]
    }
   ],
   "source": [
    "train[\"passenger_count\"].value_counts()\n",
    "print(len(train.columns))"
   ]
  },
  {
   "cell_type": "markdown",
   "metadata": {},
   "source": [
    "Inspection of the \"passenger_count\" column shows some crazy errors. specifically the taxis that were able to fit 49 to 208 passengers in the one trip. In all seriousness, this looks like an input error or error code. The trips that noted 9 passengers down are a bit of a mystery, as either it was a data entry error or possibly those taxis did actually have that many passengers. \n",
    "\n",
    "These outliers (passenger_count > 6) will be removed from the dataset as they hold such an insignificant percentage of data 11/5,000,000."
   ]
  },
  {
   "cell_type": "code",
   "execution_count": 9,
   "metadata": {},
   "outputs": [
    {
     "name": "stdout",
     "output_type": "stream",
     "text": [
      "train is now  3999989 rows long\n"
     ]
    },
    {
     "data": {
      "text/plain": [
       "1    2766832\n",
       "2     590953\n",
       "5     283066\n",
       "3     175579\n",
       "6      84826\n",
       "4      84603\n",
       "0      14130\n",
       "Name: passenger_count, dtype: int64"
      ]
     },
     "execution_count": 9,
     "metadata": {},
     "output_type": "execute_result"
    }
   ],
   "source": [
    "#removing the weird passenger count \n",
    "train = train.drop(train[train.passenger_count > 6].index)\n",
    "print(\"train is now \", int(train.size/len(train.columns)), \"rows long\")\n",
    "train[\"passenger_count\"].value_counts()"
   ]
  },
  {
   "cell_type": "code",
   "execution_count": 10,
   "metadata": {},
   "outputs": [
    {
     "data": {
      "image/png": "[encoded data removed]",
      "text/plain": [
       "<Figure size 432x288 with 1 Axes>"
      ]
     },
     "metadata": {
      "needs_background": "light"
     },
     "output_type": "display_data"
    }
   ],
   "source": [
    "%matplotlib inline\n",
    "import matplotlib.pyplot as plt\n",
    "train[\"passenger_count\"].hist(bins=10, range=(0, 8))\n",
    "plt.show()"
   ]
  },
  {
   "cell_type": "markdown",
   "metadata": {},
   "source": [
    "Using pandas corr function, the correlation between columns can be acquired.  "
   ]
  },
  {
   "cell_type": "code",
   "execution_count": 12,
   "metadata": {},
   "outputs": [
    {
     "data": {
      "text/plain": [
       "fare_amount          1.000000\n",
       "pickup_longitude     0.008985\n",
       "pickup_latitude     -0.006786\n",
       "dropoff_longitude    0.009424\n",
       "dropoff_latitude    -0.007088\n",
       "passenger_count      0.013020\n",
       "Name: fare_amount, dtype: float64"
      ]
     },
     "execution_count": 12,
     "metadata": {},
     "output_type": "execute_result"
    }
   ],
   "source": [
    "corrMatrix = train.corr()\n",
    "corrMatrix[\"fare_amount\"]"
   ]
  },
  {
   "cell_type": "markdown",
   "metadata": {},
   "source": [
    "There is no feature that has an obvious correlation with fare_amount. Passenger_count has the highest correlation with the target value fare_amount out of the data provided. This is probably due to larger groups of people taking longer trips together to save on costs.\n",
    "\n",
    "As this function only provides correlation of linear relationships, it is missing out on the non-linear relationships. Next up, testing with different combinations of features. The main combination that will be tested is distance travelled. This will be found by taking the absolute of pythagorean distance of pickup_longitude minus dropoff_longitude and pickup_latitude minus dropoff_latitude.  "
   ]
  },
  {
   "cell_type": "markdown",
   "metadata": {},
   "source": [
    "This next code iterates through the training set, calculating the distance between pickup and dropoff locations and assigning them to the distance_travelled column. However, using tqdm on the iterator, we see that this calculation will take approx. 72 hours for the 4 million samples. This is way too long. I'm going to have to figure out another way to calculate this feature. (cython, some other software that is fast dealing with large datasets)."
   ]
  },
  {
   "cell_type": "code",
   "execution_count": 13,
   "metadata": {},
   "outputs": [
    {
     "data": {
      "text/plain": [
       "'\\n\\n# https://stackoverflow.com/questions/19412462/getting-distance-between-two-points-based-on-latitude-longitude\\n\\nfrom math import sin, cos, sqrt, atan2, radians\\n\\ntrain.loc[:, \"distance_travelled\"] = np.nan\\n\\ntrainLength = len(train[\"passenger_count\"])\\n\\n# approximate radius of earth in km\\nR = 6373.0\\n\\nfor i in tqdm(range(trainLength)):\\n    lat1 = radians(train[\"pickup_latitude\"].iloc[i])\\n    lon1 = radians(train[\"pickup_longitude\"].iloc[i])\\n    lat2 = radians(train[\"dropoff_latitude\"].iloc[i])\\n    lon2 = radians(train[\"dropoff_longitude\"].iloc[i])\\n    \\n    dlon = lon2 - lon1\\n    dlat = lat2 - lat1\\n    \\n    a = sin(dlat / 2)**2 + cos(lat1) * cos(lat2) * sin(dlon / 2)**2\\n    c = 2 * atan2(sqrt(a), sqrt(1 - a))\\n    \\n    train.loc[train.index[i], \"distance_travelled\"] = R * c\\n    \\ntrain.head()\\n'"
      ]
     },
     "execution_count": 13,
     "metadata": {},
     "output_type": "execute_result"
    }
   ],
   "source": [
    "##################################################################\n",
    "#\n",
    "#\n",
    "#         DONT RUN THIS CELL\n",
    "#\n",
    "#\n",
    "##################################################################\n",
    "'''\n",
    "\n",
    "# https://stackoverflow.com/questions/19412462/getting-distance-between-two-points-based-on-latitude-longitude\n",
    "\n",
    "from math import sin, cos, sqrt, atan2, radians\n",
    "\n",
    "train.loc[:, \"distance_travelled\"] = np.nan\n",
    "\n",
    "trainLength = len(train[\"passenger_count\"])\n",
    "\n",
    "# approximate radius of earth in km\n",
    "R = 6373.0\n",
    "\n",
    "for i in tqdm(range(trainLength)):\n",
    "    lat1 = radians(train[\"pickup_latitude\"].iloc[i])\n",
    "    lon1 = radians(train[\"pickup_longitude\"].iloc[i])\n",
    "    lat2 = radians(train[\"dropoff_latitude\"].iloc[i])\n",
    "    lon2 = radians(train[\"dropoff_longitude\"].iloc[i])\n",
    "    \n",
    "    dlon = lon2 - lon1\n",
    "    dlat = lat2 - lat1\n",
    "    \n",
    "    a = sin(dlat / 2)**2 + cos(lat1) * cos(lat2) * sin(dlon / 2)**2\n",
    "    c = 2 * atan2(sqrt(a), sqrt(1 - a))\n",
    "    \n",
    "    train.loc[train.index[i], \"distance_travelled\"] = R * c\n",
    "    \n",
    "train.head()\n",
    "'''"
   ]
  },
  {
   "cell_type": "markdown",
   "metadata": {},
   "source": [
    "Before processing latitude and longitude, I should have inspected the data thoroughly beforehand. Using the tool provided on https://www.mapdevelopers.com/geocode_bounding_box.php I can get a bounding box around new york city, find minimum and maximum latitude and longitude values, and filter the training data using the found values. This should remove any errors acquired at time of input, and remove any locations that have been input that arent in new york city. \n",
    "![new york city latitude and longitude limits](img/boundingBox.png)"
   ]
  },
  {
   "cell_type": "markdown",
   "metadata": {},
   "source": [
    "Using the latitude and longitude bounds created by the map developer tool above, I'll add an extra +/- 1 to longitude and +/- 0.5 to latitude and filter using the values. This is done to include any trips that begin/end in the outer suburbs. These values could be tweaked to increase the area sample size as well. "
   ]
  },
  {
   "cell_type": "code",
   "execution_count": 14,
   "metadata": {},
   "outputs": [
    {
     "name": "stdout",
     "output_type": "stream",
     "text": [
      "train was  3999989 rows long\n",
      "train is now  3915753 rows long\n"
     ]
    }
   ],
   "source": [
    "# change these values to increase/decrease bounding box size\n",
    "longitudeBound = np.array([-72.7, -75.26])\n",
    "latitudeBound = np.array([41.42, 39.98])\n",
    "\n",
    "print(\"train was \", int(train.size/len(train.columns)), \"rows long\")\n",
    "\n",
    "# longitudes first\n",
    "train = train.drop(train[train.pickup_longitude > longitudeBound[0]].index)\n",
    "train = train.drop(train[train.pickup_longitude < longitudeBound[1]].index)\n",
    "train = train.drop(train[train.dropoff_longitude > longitudeBound[0]].index)\n",
    "train = train.drop(train[train.dropoff_longitude < longitudeBound[1]].index)\n",
    "\n",
    "# now the latitudes\n",
    "train = train.drop(train[train.pickup_latitude > latitudeBound[0]].index)\n",
    "train = train.drop(train[train.pickup_latitude < latitudeBound[1]].index)\n",
    "train = train.drop(train[train.dropoff_latitude > latitudeBound[0]].index)\n",
    "train = train.drop(train[train.dropoff_latitude < latitudeBound[1]].index)\n",
    "\n",
    "print(\"train is now \", int(train.size/len(train.columns)), \"rows long\")\n",
    "\n",
    "#removing the weird passenger count \n",
    "#train = train.drop(train[train.passenger_count > 6].index)\n",
    "#print(\"train is now \", int(train.size/len(train.columns)), \"rows long\")\n",
    "#train[\"passenger_count\"].value_counts()"
   ]
  },
  {
   "cell_type": "markdown",
   "metadata": {},
   "source": [
    "Next up, I'm going to sort the pickup_datetime column into individual columns. This is so I can categorize and bucketize parameters individually. Also, I believe I can safely remove the key column as this just seems to have the same info but in a worse format. "
   ]
  },
  {
   "cell_type": "code",
   "execution_count": 18,
   "metadata": {},
   "outputs": [
    {
     "data": {
      "text/html": [
       "<div>\n",
       "<style scoped>\n",
       "    .dataframe tbody tr th:only-of-type {\n",
       "        vertical-align: middle;\n",
       "    }\n",
       "\n",
       "    .dataframe tbody tr th {\n",
       "        vertical-align: top;\n",
       "    }\n",
       "\n",
       "    .dataframe thead th {\n",
       "        text-align: right;\n",
       "    }\n",
       "</style>\n",
       "<table border=\"1\" class=\"dataframe\">\n",
       "  <thead>\n",
       "    <tr style=\"text-align: right;\">\n",
       "      <th></th>\n",
       "      <th>fare_amount</th>\n",
       "      <th>pickup_datetime</th>\n",
       "      <th>pickup_longitude</th>\n",
       "      <th>pickup_latitude</th>\n",
       "      <th>dropoff_longitude</th>\n",
       "      <th>dropoff_latitude</th>\n",
       "      <th>passenger_count</th>\n",
       "    </tr>\n",
       "  </thead>\n",
       "  <tbody>\n",
       "    <tr>\n",
       "      <th>3748577</th>\n",
       "      <td>13.0</td>\n",
       "      <td>2013-06-10 02:44:15 UTC</td>\n",
       "      <td>-73.983533</td>\n",
       "      <td>40.761973</td>\n",
       "      <td>-74.004933</td>\n",
       "      <td>40.722918</td>\n",
       "      <td>3</td>\n",
       "    </tr>\n",
       "    <tr>\n",
       "      <th>4555504</th>\n",
       "      <td>12.0</td>\n",
       "      <td>2013-12-14 18:19:00 UTC</td>\n",
       "      <td>-73.980170</td>\n",
       "      <td>40.775655</td>\n",
       "      <td>-73.985268</td>\n",
       "      <td>40.761922</td>\n",
       "      <td>2</td>\n",
       "    </tr>\n",
       "    <tr>\n",
       "      <th>2388454</th>\n",
       "      <td>10.0</td>\n",
       "      <td>2013-04-18 08:42:40 UTC</td>\n",
       "      <td>-74.007055</td>\n",
       "      <td>40.743501</td>\n",
       "      <td>-73.985872</td>\n",
       "      <td>40.752677</td>\n",
       "      <td>1</td>\n",
       "    </tr>\n",
       "    <tr>\n",
       "      <th>3738046</th>\n",
       "      <td>7.3</td>\n",
       "      <td>2011-11-29 22:12:52 UTC</td>\n",
       "      <td>-73.985400</td>\n",
       "      <td>40.727500</td>\n",
       "      <td>-74.008100</td>\n",
       "      <td>40.739200</td>\n",
       "      <td>0</td>\n",
       "    </tr>\n",
       "    <tr>\n",
       "      <th>1572731</th>\n",
       "      <td>8.0</td>\n",
       "      <td>2012-10-29 10:18:06 UTC</td>\n",
       "      <td>-74.005311</td>\n",
       "      <td>40.720995</td>\n",
       "      <td>-73.983172</td>\n",
       "      <td>40.725207</td>\n",
       "      <td>1</td>\n",
       "    </tr>\n",
       "  </tbody>\n",
       "</table>\n",
       "</div>"
      ],
      "text/plain": [
       "         fare_amount          pickup_datetime  pickup_longitude  \\\n",
       "3748577         13.0  2013-06-10 02:44:15 UTC        -73.983533   \n",
       "4555504         12.0  2013-12-14 18:19:00 UTC        -73.980170   \n",
       "2388454         10.0  2013-04-18 08:42:40 UTC        -74.007055   \n",
       "3738046          7.3  2011-11-29 22:12:52 UTC        -73.985400   \n",
       "1572731          8.0  2012-10-29 10:18:06 UTC        -74.005311   \n",
       "\n",
       "         pickup_latitude  dropoff_longitude  dropoff_latitude  passenger_count  \n",
       "3748577        40.761973         -74.004933         40.722918                3  \n",
       "4555504        40.775655         -73.985268         40.761922                2  \n",
       "2388454        40.743501         -73.985872         40.752677                1  \n",
       "3738046        40.727500         -74.008100         40.739200                0  \n",
       "1572731        40.720995         -73.983172         40.725207                1  "
      ]
     },
     "execution_count": 18,
     "metadata": {},
     "output_type": "execute_result"
    }
   ],
   "source": [
    "train = train.drop(\"key\", axis=1)\n",
    "train.head()"
   ]
  },
  {
   "cell_type": "code",
   "execution_count": 21,
   "metadata": {},
   "outputs": [
    {
     "data": {
      "text/plain": [
       "fare_amount                 float64\n",
       "pickup_datetime      datetime64[ns]\n",
       "pickup_longitude            float64\n",
       "pickup_latitude             float64\n",
       "dropoff_longitude           float64\n",
       "dropoff_latitude            float64\n",
       "passenger_count               int64\n",
       "dtype: object"
      ]
     },
     "execution_count": 21,
     "metadata": {},
     "output_type": "execute_result"
    }
   ],
   "source": [
    "train[\"pickup_datetime\"] = pd.to_datetime(train[\"pickup_datetime\"])\n",
    "train.dtypes"
   ]
  },
  {
   "cell_type": "code",
   "execution_count": 22,
   "metadata": {},
   "outputs": [],
   "source": [
    "train['year'] = train['pickup_datetime'].dt.year\n",
    "train['month'] = train['pickup_datetime'].dt.month\n",
    "train['date'] = train['pickup_datetime'].dt.day\n",
    "train['day'] = train['pickup_datetime'].dt.dayofweek\n",
    "train['hour'] = train['pickup_datetime'].dt.hour"
   ]
  },
  {
   "cell_type": "markdown",
   "metadata": {},
   "source": [
    "After seperating the datetime field into different units of time, I can do some analysis. First I'll check what year all this data has come from. "
   ]
  },
  {
   "cell_type": "code",
   "execution_count": 26,
   "metadata": {},
   "outputs": [
    {
     "data": {
      "image/png": "[encoded data removed]",
      "text/plain": [
       "<Figure size 432x288 with 1 Axes>"
      ]
     },
     "metadata": {
      "needs_background": "light"
     },
     "output_type": "display_data"
    }
   ],
   "source": [
    "train[\"year\"].hist(bins=7)\n",
    "plt.show()"
   ]
  },
  {
   "cell_type": "code",
   "execution_count": 24,
   "metadata": {},
   "outputs": [
    {
     "data": {
      "text/plain": [
       "fare_amount          1.000000\n",
       "pickup_longitude     0.375392\n",
       "pickup_latitude     -0.188298\n",
       "dropoff_longitude    0.279530\n",
       "dropoff_latitude    -0.152046\n",
       "passenger_count      0.013976\n",
       "year                 0.116078\n",
       "month                0.024589\n",
       "date                 0.001198\n",
       "day                  0.002816\n",
       "hour                -0.017192\n",
       "Name: fare_amount, dtype: float64"
      ]
     },
     "execution_count": 24,
     "metadata": {},
     "output_type": "execute_result"
    }
   ],
   "source": [
    "corrMatrix = train.corr()\n",
    "corrMatrix[\"fare_amount\"]"
   ]
  },
  {
   "cell_type": "markdown",
   "metadata": {},
   "source": [
    "Seems after cancelling out a bunch of longitude and latitudes, the pickup and dropoff longitude shows much stronger correlation than before. \n",
    "\n",
    "When was rush hour in NYC in the year 2012? this could be a valuable parameter that correlates well with fare amount. According to a local, \"Rush hour in NYC is usually from about 7:00am-10:00am and 4:00pm-7:00pm during the week\". With this info we can create a new boolean feature called rush_hour."
   ]
  },
  {
   "cell_type": "code",
   "execution_count": 33,
   "metadata": {},
   "outputs": [
    {
     "data": {
      "text/html": [
       "<div>\n",
       "<style scoped>\n",
       "    .dataframe tbody tr th:only-of-type {\n",
       "        vertical-align: middle;\n",
       "    }\n",
       "\n",
       "    .dataframe tbody tr th {\n",
       "        vertical-align: top;\n",
       "    }\n",
       "\n",
       "    .dataframe thead th {\n",
       "        text-align: right;\n",
       "    }\n",
       "</style>\n",
       "<table border=\"1\" class=\"dataframe\">\n",
       "  <thead>\n",
       "    <tr style=\"text-align: right;\">\n",
       "      <th></th>\n",
       "      <th>fare_amount</th>\n",
       "      <th>pickup_datetime</th>\n",
       "      <th>pickup_longitude</th>\n",
       "      <th>pickup_latitude</th>\n",
       "      <th>dropoff_longitude</th>\n",
       "      <th>dropoff_latitude</th>\n",
       "      <th>passenger_count</th>\n",
       "      <th>year</th>\n",
       "      <th>month</th>\n",
       "      <th>date</th>\n",
       "      <th>day</th>\n",
       "      <th>hour</th>\n",
       "      <th>rush_hour</th>\n",
       "    </tr>\n",
       "  </thead>\n",
       "  <tbody>\n",
       "    <tr>\n",
       "      <th>3748577</th>\n",
       "      <td>13.0</td>\n",
       "      <td>2013-06-10 02:44:15</td>\n",
       "      <td>-73.983533</td>\n",
       "      <td>40.761973</td>\n",
       "      <td>-74.004933</td>\n",
       "      <td>40.722918</td>\n",
       "      <td>3</td>\n",
       "      <td>2013</td>\n",
       "      <td>6</td>\n",
       "      <td>10</td>\n",
       "      <td>0</td>\n",
       "      <td>2</td>\n",
       "      <td>False</td>\n",
       "    </tr>\n",
       "    <tr>\n",
       "      <th>4555504</th>\n",
       "      <td>12.0</td>\n",
       "      <td>2013-12-14 18:19:00</td>\n",
       "      <td>-73.980170</td>\n",
       "      <td>40.775655</td>\n",
       "      <td>-73.985268</td>\n",
       "      <td>40.761922</td>\n",
       "      <td>2</td>\n",
       "      <td>2013</td>\n",
       "      <td>12</td>\n",
       "      <td>14</td>\n",
       "      <td>5</td>\n",
       "      <td>18</td>\n",
       "      <td>True</td>\n",
       "    </tr>\n",
       "    <tr>\n",
       "      <th>2388454</th>\n",
       "      <td>10.0</td>\n",
       "      <td>2013-04-18 08:42:40</td>\n",
       "      <td>-74.007055</td>\n",
       "      <td>40.743501</td>\n",
       "      <td>-73.985872</td>\n",
       "      <td>40.752677</td>\n",
       "      <td>1</td>\n",
       "      <td>2013</td>\n",
       "      <td>4</td>\n",
       "      <td>18</td>\n",
       "      <td>3</td>\n",
       "      <td>8</td>\n",
       "      <td>True</td>\n",
       "    </tr>\n",
       "    <tr>\n",
       "      <th>3738046</th>\n",
       "      <td>7.3</td>\n",
       "      <td>2011-11-29 22:12:52</td>\n",
       "      <td>-73.985400</td>\n",
       "      <td>40.727500</td>\n",
       "      <td>-74.008100</td>\n",
       "      <td>40.739200</td>\n",
       "      <td>0</td>\n",
       "      <td>2011</td>\n",
       "      <td>11</td>\n",
       "      <td>29</td>\n",
       "      <td>1</td>\n",
       "      <td>22</td>\n",
       "      <td>False</td>\n",
       "    </tr>\n",
       "    <tr>\n",
       "      <th>1572731</th>\n",
       "      <td>8.0</td>\n",
       "      <td>2012-10-29 10:18:06</td>\n",
       "      <td>-74.005311</td>\n",
       "      <td>40.720995</td>\n",
       "      <td>-73.983172</td>\n",
       "      <td>40.725207</td>\n",
       "      <td>1</td>\n",
       "      <td>2012</td>\n",
       "      <td>10</td>\n",
       "      <td>29</td>\n",
       "      <td>0</td>\n",
       "      <td>10</td>\n",
       "      <td>False</td>\n",
       "    </tr>\n",
       "  </tbody>\n",
       "</table>\n",
       "</div>"
      ],
      "text/plain": [
       "         fare_amount     pickup_datetime  pickup_longitude  pickup_latitude  \\\n",
       "3748577         13.0 2013-06-10 02:44:15        -73.983533        40.761973   \n",
       "4555504         12.0 2013-12-14 18:19:00        -73.980170        40.775655   \n",
       "2388454         10.0 2013-04-18 08:42:40        -74.007055        40.743501   \n",
       "3738046          7.3 2011-11-29 22:12:52        -73.985400        40.727500   \n",
       "1572731          8.0 2012-10-29 10:18:06        -74.005311        40.720995   \n",
       "\n",
       "         dropoff_longitude  dropoff_latitude  passenger_count  year  month  \\\n",
       "3748577         -74.004933         40.722918                3  2013      6   \n",
       "4555504         -73.985268         40.761922                2  2013     12   \n",
       "2388454         -73.985872         40.752677                1  2013      4   \n",
       "3738046         -74.008100         40.739200                0  2011     11   \n",
       "1572731         -73.983172         40.725207                1  2012     10   \n",
       "\n",
       "         date  day  hour  rush_hour  \n",
       "3748577    10    0     2      False  \n",
       "4555504    14    5    18       True  \n",
       "2388454    18    3     8       True  \n",
       "3738046    29    1    22      False  \n",
       "1572731    29    0    10      False  "
      ]
     },
     "execution_count": 33,
     "metadata": {},
     "output_type": "execute_result"
    }
   ],
   "source": [
    "train[\"rush_hour\"] = ((train[\"hour\"] < 10) & (train[\"hour\"] > 7)) | ((train[\"hour\"] < 19) & (train[\"hour\"] > 16))"
   ]
  },
  {
   "cell_type": "markdown",
   "metadata": {},
   "source": [
    "Which days fall on weekends? which are during the week? I believe this parameter might have strong correlation with fare amount. Using dt.dayofweek results in values for the day of the week being Monday=0, Sunday=6."
   ]
  },
  {
   "cell_type": "code",
   "execution_count": 35,
   "metadata": {},
   "outputs": [
    {
     "data": {
      "text/html": [
       "<div>\n",
       "<style scoped>\n",
       "    .dataframe tbody tr th:only-of-type {\n",
       "        vertical-align: middle;\n",
       "    }\n",
       "\n",
       "    .dataframe tbody tr th {\n",
       "        vertical-align: top;\n",
       "    }\n",
       "\n",
       "    .dataframe thead th {\n",
       "        text-align: right;\n",
       "    }\n",
       "</style>\n",
       "<table border=\"1\" class=\"dataframe\">\n",
       "  <thead>\n",
       "    <tr style=\"text-align: right;\">\n",
       "      <th></th>\n",
       "      <th>fare_amount</th>\n",
       "      <th>pickup_datetime</th>\n",
       "      <th>pickup_longitude</th>\n",
       "      <th>pickup_latitude</th>\n",
       "      <th>dropoff_longitude</th>\n",
       "      <th>dropoff_latitude</th>\n",
       "      <th>passenger_count</th>\n",
       "      <th>year</th>\n",
       "      <th>month</th>\n",
       "      <th>date</th>\n",
       "      <th>day</th>\n",
       "      <th>hour</th>\n",
       "      <th>rush_hour</th>\n",
       "      <th>weekend</th>\n",
       "    </tr>\n",
       "  </thead>\n",
       "  <tbody>\n",
       "    <tr>\n",
       "      <th>3748577</th>\n",
       "      <td>13.0</td>\n",
       "      <td>2013-06-10 02:44:15</td>\n",
       "      <td>-73.983533</td>\n",
       "      <td>40.761973</td>\n",
       "      <td>-74.004933</td>\n",
       "      <td>40.722918</td>\n",
       "      <td>3</td>\n",
       "      <td>2013</td>\n",
       "      <td>6</td>\n",
       "      <td>10</td>\n",
       "      <td>0</td>\n",
       "      <td>2</td>\n",
       "      <td>False</td>\n",
       "      <td>True</td>\n",
       "    </tr>\n",
       "    <tr>\n",
       "      <th>4555504</th>\n",
       "      <td>12.0</td>\n",
       "      <td>2013-12-14 18:19:00</td>\n",
       "      <td>-73.980170</td>\n",
       "      <td>40.775655</td>\n",
       "      <td>-73.985268</td>\n",
       "      <td>40.761922</td>\n",
       "      <td>2</td>\n",
       "      <td>2013</td>\n",
       "      <td>12</td>\n",
       "      <td>14</td>\n",
       "      <td>5</td>\n",
       "      <td>18</td>\n",
       "      <td>True</td>\n",
       "      <td>False</td>\n",
       "    </tr>\n",
       "    <tr>\n",
       "      <th>2388454</th>\n",
       "      <td>10.0</td>\n",
       "      <td>2013-04-18 08:42:40</td>\n",
       "      <td>-74.007055</td>\n",
       "      <td>40.743501</td>\n",
       "      <td>-73.985872</td>\n",
       "      <td>40.752677</td>\n",
       "      <td>1</td>\n",
       "      <td>2013</td>\n",
       "      <td>4</td>\n",
       "      <td>18</td>\n",
       "      <td>3</td>\n",
       "      <td>8</td>\n",
       "      <td>True</td>\n",
       "      <td>True</td>\n",
       "    </tr>\n",
       "    <tr>\n",
       "      <th>3738046</th>\n",
       "      <td>7.3</td>\n",
       "      <td>2011-11-29 22:12:52</td>\n",
       "      <td>-73.985400</td>\n",
       "      <td>40.727500</td>\n",
       "      <td>-74.008100</td>\n",
       "      <td>40.739200</td>\n",
       "      <td>0</td>\n",
       "      <td>2011</td>\n",
       "      <td>11</td>\n",
       "      <td>29</td>\n",
       "      <td>1</td>\n",
       "      <td>22</td>\n",
       "      <td>False</td>\n",
       "      <td>True</td>\n",
       "    </tr>\n",
       "    <tr>\n",
       "      <th>1572731</th>\n",
       "      <td>8.0</td>\n",
       "      <td>2012-10-29 10:18:06</td>\n",
       "      <td>-74.005311</td>\n",
       "      <td>40.720995</td>\n",
       "      <td>-73.983172</td>\n",
       "      <td>40.725207</td>\n",
       "      <td>1</td>\n",
       "      <td>2012</td>\n",
       "      <td>10</td>\n",
       "      <td>29</td>\n",
       "      <td>0</td>\n",
       "      <td>10</td>\n",
       "      <td>False</td>\n",
       "      <td>True</td>\n",
       "    </tr>\n",
       "  </tbody>\n",
       "</table>\n",
       "</div>"
      ],
      "text/plain": [
       "         fare_amount     pickup_datetime  pickup_longitude  pickup_latitude  \\\n",
       "3748577         13.0 2013-06-10 02:44:15        -73.983533        40.761973   \n",
       "4555504         12.0 2013-12-14 18:19:00        -73.980170        40.775655   \n",
       "2388454         10.0 2013-04-18 08:42:40        -74.007055        40.743501   \n",
       "3738046          7.3 2011-11-29 22:12:52        -73.985400        40.727500   \n",
       "1572731          8.0 2012-10-29 10:18:06        -74.005311        40.720995   \n",
       "\n",
       "         dropoff_longitude  dropoff_latitude  passenger_count  year  month  \\\n",
       "3748577         -74.004933         40.722918                3  2013      6   \n",
       "4555504         -73.985268         40.761922                2  2013     12   \n",
       "2388454         -73.985872         40.752677                1  2013      4   \n",
       "3738046         -74.008100         40.739200                0  2011     11   \n",
       "1572731         -73.983172         40.725207                1  2012     10   \n",
       "\n",
       "         date  day  hour  rush_hour  weekend  \n",
       "3748577    10    0     2      False     True  \n",
       "4555504    14    5    18       True    False  \n",
       "2388454    18    3     8       True     True  \n",
       "3738046    29    1    22      False     True  \n",
       "1572731    29    0    10      False     True  "
      ]
     },
     "execution_count": 35,
     "metadata": {},
     "output_type": "execute_result"
    }
   ],
   "source": [
    "#train[\"weekend\"] = train[\"day\"] < 5\n",
    "train.head()"
   ]
  },
  {
   "cell_type": "code",
   "execution_count": 41,
   "metadata": {},
   "outputs": [
    {
     "data": {
      "image/png": "[encoded data removed]",
      "text/plain": [
       "<Figure size 1080x504 with 1 Axes>"
      ]
     },
     "metadata": {
      "needs_background": "light"
     },
     "output_type": "display_data"
    }
   ],
   "source": [
    "plt.figure(figsize=(15,7))\n",
    "plt.scatter(x=train['hour'], y=train['fare_amount'], s=1.5)\n",
    "plt.xlabel('Hour')\n",
    "plt.ylabel('Fare')\n",
    "plt.show()"
   ]
  },
  {
   "cell_type": "markdown",
   "metadata": {},
   "source": [
    "I was hoping to reveal some interesting insight to how fares differ by looking at the fare_amount vs. hour scatterplot. Unfortunatley, not a huge distinction between AM/PM, night/day can be identified. However, an obvious fault in the dataset did occur. We can see some records have negative fare_amounts. This doesn't make any sense, so I'll remove them. Also a few huge fare amounts are recorded (400 - 980) but I'll leave them for now."
   ]
  },
  {
   "cell_type": "code",
   "execution_count": 42,
   "metadata": {},
   "outputs": [
    {
     "data": {
      "text/html": [
       "<div>\n",
       "<style scoped>\n",
       "    .dataframe tbody tr th:only-of-type {\n",
       "        vertical-align: middle;\n",
       "    }\n",
       "\n",
       "    .dataframe tbody tr th {\n",
       "        vertical-align: top;\n",
       "    }\n",
       "\n",
       "    .dataframe thead th {\n",
       "        text-align: right;\n",
       "    }\n",
       "</style>\n",
       "<table border=\"1\" class=\"dataframe\">\n",
       "  <thead>\n",
       "    <tr style=\"text-align: right;\">\n",
       "      <th></th>\n",
       "      <th>fare_amount</th>\n",
       "      <th>pickup_longitude</th>\n",
       "      <th>pickup_latitude</th>\n",
       "      <th>dropoff_longitude</th>\n",
       "      <th>dropoff_latitude</th>\n",
       "      <th>passenger_count</th>\n",
       "      <th>year</th>\n",
       "      <th>month</th>\n",
       "      <th>date</th>\n",
       "      <th>day</th>\n",
       "      <th>hour</th>\n",
       "    </tr>\n",
       "  </thead>\n",
       "  <tbody>\n",
       "    <tr>\n",
       "      <th>count</th>\n",
       "      <td>3.915601e+06</td>\n",
       "      <td>3.915601e+06</td>\n",
       "      <td>3.915601e+06</td>\n",
       "      <td>3.915577e+06</td>\n",
       "      <td>3.915577e+06</td>\n",
       "      <td>3.915601e+06</td>\n",
       "      <td>3.915601e+06</td>\n",
       "      <td>3.915601e+06</td>\n",
       "      <td>3.915601e+06</td>\n",
       "      <td>3.915601e+06</td>\n",
       "      <td>3.915601e+06</td>\n",
       "    </tr>\n",
       "    <tr>\n",
       "      <th>mean</th>\n",
       "      <td>1.132390e+01</td>\n",
       "      <td>-7.397518e+01</td>\n",
       "      <td>4.075103e+01</td>\n",
       "      <td>-7.397433e+01</td>\n",
       "      <td>4.075140e+01</td>\n",
       "      <td>1.684546e+00</td>\n",
       "      <td>2.011736e+03</td>\n",
       "      <td>6.268364e+00</td>\n",
       "      <td>1.572122e+01</td>\n",
       "      <td>3.042163e+00</td>\n",
       "      <td>1.350971e+01</td>\n",
       "    </tr>\n",
       "    <tr>\n",
       "      <th>std</th>\n",
       "      <td>9.717337e+00</td>\n",
       "      <td>3.903059e-02</td>\n",
       "      <td>2.991221e-02</td>\n",
       "      <td>3.812447e-02</td>\n",
       "      <td>3.304655e-02</td>\n",
       "      <td>1.307748e+00</td>\n",
       "      <td>1.863025e+00</td>\n",
       "      <td>3.436803e+00</td>\n",
       "      <td>8.684745e+00</td>\n",
       "      <td>1.949256e+00</td>\n",
       "      <td>6.514326e+00</td>\n",
       "    </tr>\n",
       "    <tr>\n",
       "      <th>min</th>\n",
       "      <td>0.000000e+00</td>\n",
       "      <td>-7.519909e+01</td>\n",
       "      <td>3.998553e+01</td>\n",
       "      <td>-7.518117e+01</td>\n",
       "      <td>3.998074e+01</td>\n",
       "      <td>0.000000e+00</td>\n",
       "      <td>2.009000e+03</td>\n",
       "      <td>1.000000e+00</td>\n",
       "      <td>1.000000e+00</td>\n",
       "      <td>0.000000e+00</td>\n",
       "      <td>0.000000e+00</td>\n",
       "    </tr>\n",
       "    <tr>\n",
       "      <th>25%</th>\n",
       "      <td>6.000000e+00</td>\n",
       "      <td>-7.399228e+01</td>\n",
       "      <td>4.073655e+01</td>\n",
       "      <td>-7.399158e+01</td>\n",
       "      <td>4.073559e+01</td>\n",
       "      <td>1.000000e+00</td>\n",
       "      <td>2.010000e+03</td>\n",
       "      <td>3.000000e+00</td>\n",
       "      <td>8.000000e+00</td>\n",
       "      <td>1.000000e+00</td>\n",
       "      <td>9.000000e+00</td>\n",
       "    </tr>\n",
       "    <tr>\n",
       "      <th>50%</th>\n",
       "      <td>8.500000e+00</td>\n",
       "      <td>-7.398210e+01</td>\n",
       "      <td>4.075335e+01</td>\n",
       "      <td>-7.398061e+01</td>\n",
       "      <td>4.075387e+01</td>\n",
       "      <td>1.000000e+00</td>\n",
       "      <td>2.012000e+03</td>\n",
       "      <td>6.000000e+00</td>\n",
       "      <td>1.600000e+01</td>\n",
       "      <td>3.000000e+00</td>\n",
       "      <td>1.400000e+01</td>\n",
       "    </tr>\n",
       "    <tr>\n",
       "      <th>75%</th>\n",
       "      <td>1.250000e+01</td>\n",
       "      <td>-7.396834e+01</td>\n",
       "      <td>4.076754e+01</td>\n",
       "      <td>-7.396534e+01</td>\n",
       "      <td>4.076841e+01</td>\n",
       "      <td>2.000000e+00</td>\n",
       "      <td>2.013000e+03</td>\n",
       "      <td>9.000000e+00</td>\n",
       "      <td>2.300000e+01</td>\n",
       "      <td>5.000000e+00</td>\n",
       "      <td>1.900000e+01</td>\n",
       "    </tr>\n",
       "    <tr>\n",
       "      <th>max</th>\n",
       "      <td>9.520000e+02</td>\n",
       "      <td>-7.270944e+01</td>\n",
       "      <td>4.141706e+01</td>\n",
       "      <td>-7.271667e+01</td>\n",
       "      <td>4.141358e+01</td>\n",
       "      <td>6.000000e+00</td>\n",
       "      <td>2.015000e+03</td>\n",
       "      <td>1.200000e+01</td>\n",
       "      <td>3.100000e+01</td>\n",
       "      <td>6.000000e+00</td>\n",
       "      <td>2.300000e+01</td>\n",
       "    </tr>\n",
       "  </tbody>\n",
       "</table>\n",
       "</div>"
      ],
      "text/plain": [
       "        fare_amount  pickup_longitude  pickup_latitude  dropoff_longitude  \\\n",
       "count  3.915601e+06      3.915601e+06     3.915601e+06       3.915577e+06   \n",
       "mean   1.132390e+01     -7.397518e+01     4.075103e+01      -7.397433e+01   \n",
       "std    9.717337e+00      3.903059e-02     2.991221e-02       3.812447e-02   \n",
       "min    0.000000e+00     -7.519909e+01     3.998553e+01      -7.518117e+01   \n",
       "25%    6.000000e+00     -7.399228e+01     4.073655e+01      -7.399158e+01   \n",
       "50%    8.500000e+00     -7.398210e+01     4.075335e+01      -7.398061e+01   \n",
       "75%    1.250000e+01     -7.396834e+01     4.076754e+01      -7.396534e+01   \n",
       "max    9.520000e+02     -7.270944e+01     4.141706e+01      -7.271667e+01   \n",
       "\n",
       "       dropoff_latitude  passenger_count          year         month  \\\n",
       "count      3.915577e+06     3.915601e+06  3.915601e+06  3.915601e+06   \n",
       "mean       4.075140e+01     1.684546e+00  2.011736e+03  6.268364e+00   \n",
       "std        3.304655e-02     1.307748e+00  1.863025e+00  3.436803e+00   \n",
       "min        3.998074e+01     0.000000e+00  2.009000e+03  1.000000e+00   \n",
       "25%        4.073559e+01     1.000000e+00  2.010000e+03  3.000000e+00   \n",
       "50%        4.075387e+01     1.000000e+00  2.012000e+03  6.000000e+00   \n",
       "75%        4.076841e+01     2.000000e+00  2.013000e+03  9.000000e+00   \n",
       "max        4.141358e+01     6.000000e+00  2.015000e+03  1.200000e+01   \n",
       "\n",
       "               date           day          hour  \n",
       "count  3.915601e+06  3.915601e+06  3.915601e+06  \n",
       "mean   1.572122e+01  3.042163e+00  1.350971e+01  \n",
       "std    8.684745e+00  1.949256e+00  6.514326e+00  \n",
       "min    1.000000e+00  0.000000e+00  0.000000e+00  \n",
       "25%    8.000000e+00  1.000000e+00  9.000000e+00  \n",
       "50%    1.600000e+01  3.000000e+00  1.400000e+01  \n",
       "75%    2.300000e+01  5.000000e+00  1.900000e+01  \n",
       "max    3.100000e+01  6.000000e+00  2.300000e+01  "
      ]
     },
     "execution_count": 42,
     "metadata": {},
     "output_type": "execute_result"
    }
   ],
   "source": [
    "train = train.drop(train[train.fare_amount < 0].index)\n",
    "train.describe()"
   ]
  },
  {
   "cell_type": "markdown",
   "metadata": {},
   "source": [
    "Awesome, no negative fare pricings (though a cost of zero seems very strange but possible)."
   ]
  },
  {
   "cell_type": "code",
   "execution_count": null,
   "metadata": {},
   "outputs": [],
   "source": []
  },
  {
   "cell_type": "code",
   "execution_count": null,
   "metadata": {},
   "outputs": [],
   "source": []
  },
  {
   "cell_type": "code",
   "execution_count": null,
   "metadata": {},
   "outputs": [],
   "source": []
  },
  {
   "cell_type": "code",
   "execution_count": null,
   "metadata": {},
   "outputs": [],
   "source": []
  },
  {
   "cell_type": "markdown",
   "metadata": {},
   "source": [
    "This next cell will seperate both the train and validation set data from the target (fare_amount).\n",
    "The trainData will be the pre-processed, clean training set, while the validation data is still raw and unfiltered, hopefully positively simulating the test set. The reason for doing this now is so that while filterign and processing the training data, we want to make sure the data and the target matrices are the same row length for our machine learning framework of choice."
   ]
  },
  {
   "cell_type": "code",
   "execution_count": null,
   "metadata": {},
   "outputs": [],
   "source": [
    "trainTargets = train[\"fare_amount\"]\n",
    "trainData = train.drop(\"fare_amount\", axis=1)\n",
    "validationTargets = validation[\"fare_amount\"]\n",
    "validationData = validation.drop(\"fare_amount\", axis=1)"
   ]
  }
 ],
 "metadata": {
  "kernelspec": {
   "display_name": "Python 3",
   "language": "python",
   "name": "python3"
  },
  "language_info": {
   "codemirror_mode": {
    "name": "ipython",
    "version": 3
   },
   "file_extension": ".py",
   "mimetype": "text/x-python",
   "name": "python",
   "nbconvert_exporter": "python",
   "pygments_lexer": "ipython3",
   "version": "3.6.6"
  }
 },
 "nbformat": 4,
 "nbformat_minor": 2
}
