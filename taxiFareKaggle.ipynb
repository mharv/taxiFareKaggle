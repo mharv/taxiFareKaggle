{
 "cells": [
  {
   "cell_type": "markdown",
   "metadata": {},
   "source": [
    "## New York City Taxi Fare Prediction"
   ]
  },
  {
   "cell_type": "markdown",
   "metadata": {},
   "source": [
    "From the Kaggle competition description:\n",
    "\n",
    "\"In this playground competition, hosted in partnership with Google Cloud and Coursera, you are tasked with predicting the fare amount (inclusive of tolls) for a taxi ride in New York City given the pickup and dropoff locations. While you can get a basic estimate based on just the distance between the two points, this will result in an RMSE of $5-$8, depending on the model used (see the starter code for an example of this approach in Kernels). Your challenge is to do better than this using Machine Learning techniques!\""
   ]
  },
  {
   "cell_type": "markdown",
   "metadata": {},
   "source": [
    "## Reading data and exploration"
   ]
  },
  {
   "cell_type": "code",
   "execution_count": 1,
   "metadata": {},
   "outputs": [],
   "source": [
    "import pandas as pd\n",
    "import numpy as np\n",
    "import seaborn as sns\n",
    "from tqdm import tqdm"
   ]
  },
  {
   "cell_type": "markdown",
   "metadata": {},
   "source": [
    "First issue: train.csv is massive! (5.7 gb) \n",
    "Therefore the file must be read and processed in chunks.\n",
    "However, when using pd.read_csv(PATH, chunksize=X), the data type returned is a 'TextFileReader' object.\n",
    "\n",
    "I do not know how to work with the chunksize argument so I'll just use a limited number of rows (1,000,000) for now."
   ]
  },
  {
   "cell_type": "code",
   "execution_count": 2,
   "metadata": {},
   "outputs": [],
   "source": [
    "numberOfSamples = 2500000\n",
    "\n",
    "LAPTOPPATH = \"/home/mitchell/Desktop/kaggleData/taxiFareKaggle/all/train.csv\"\n",
    "DESKTOPPATH = \"/mnt/b405f74a-72c4-4e5a-8bd4-d763618331be/kaggleData/taxiFareKaggleData/all/train.csv\"\n",
    "\n",
    "trainRawSegment = pd.read_csv(DESKTOPPATH, nrows=numberOfSamples)"
   ]
  },
  {
   "cell_type": "markdown",
   "metadata": {},
   "source": [
    "My Laptop seems to be able to handle 5,000,000 lines of data quite easily (It only has 8 Gb of RAM). Since only a portion of the total data supplied is being used, this already gives the model a disadvantage but also room for improvement if needed. I'll use 1,000,000 rows of data for development and switch to a larger dataset when needed."
   ]
  },
  {
   "cell_type": "code",
   "execution_count": 3,
   "metadata": {},
   "outputs": [
    {
     "name": "stdout",
     "output_type": "stream",
     "text": [
      "(2500000, 8)\n"
     ]
    },
    {
     "data": {
      "text/html": [
       "<div>\n",
       "<style scoped>\n",
       "    .dataframe tbody tr th:only-of-type {\n",
       "        vertical-align: middle;\n",
       "    }\n",
       "\n",
       "    .dataframe tbody tr th {\n",
       "        vertical-align: top;\n",
       "    }\n",
       "\n",
       "    .dataframe thead th {\n",
       "        text-align: right;\n",
       "    }\n",
       "</style>\n",
       "<table border=\"1\" class=\"dataframe\">\n",
       "  <thead>\n",
       "    <tr style=\"text-align: right;\">\n",
       "      <th></th>\n",
       "      <th>key</th>\n",
       "      <th>fare_amount</th>\n",
       "      <th>pickup_datetime</th>\n",
       "      <th>pickup_longitude</th>\n",
       "      <th>pickup_latitude</th>\n",
       "      <th>dropoff_longitude</th>\n",
       "      <th>dropoff_latitude</th>\n",
       "      <th>passenger_count</th>\n",
       "    </tr>\n",
       "  </thead>\n",
       "  <tbody>\n",
       "    <tr>\n",
       "      <th>0</th>\n",
       "      <td>2009-06-15 17:26:21.0000001</td>\n",
       "      <td>4.5</td>\n",
       "      <td>2009-06-15 17:26:21 UTC</td>\n",
       "      <td>-73.844311</td>\n",
       "      <td>40.721319</td>\n",
       "      <td>-73.841610</td>\n",
       "      <td>40.712278</td>\n",
       "      <td>1</td>\n",
       "    </tr>\n",
       "    <tr>\n",
       "      <th>1</th>\n",
       "      <td>2010-01-05 16:52:16.0000002</td>\n",
       "      <td>16.9</td>\n",
       "      <td>2010-01-05 16:52:16 UTC</td>\n",
       "      <td>-74.016048</td>\n",
       "      <td>40.711303</td>\n",
       "      <td>-73.979268</td>\n",
       "      <td>40.782004</td>\n",
       "      <td>1</td>\n",
       "    </tr>\n",
       "    <tr>\n",
       "      <th>2</th>\n",
       "      <td>2011-08-18 00:35:00.00000049</td>\n",
       "      <td>5.7</td>\n",
       "      <td>2011-08-18 00:35:00 UTC</td>\n",
       "      <td>-73.982738</td>\n",
       "      <td>40.761270</td>\n",
       "      <td>-73.991242</td>\n",
       "      <td>40.750562</td>\n",
       "      <td>2</td>\n",
       "    </tr>\n",
       "    <tr>\n",
       "      <th>3</th>\n",
       "      <td>2012-04-21 04:30:42.0000001</td>\n",
       "      <td>7.7</td>\n",
       "      <td>2012-04-21 04:30:42 UTC</td>\n",
       "      <td>-73.987130</td>\n",
       "      <td>40.733143</td>\n",
       "      <td>-73.991567</td>\n",
       "      <td>40.758092</td>\n",
       "      <td>1</td>\n",
       "    </tr>\n",
       "    <tr>\n",
       "      <th>4</th>\n",
       "      <td>2010-03-09 07:51:00.000000135</td>\n",
       "      <td>5.3</td>\n",
       "      <td>2010-03-09 07:51:00 UTC</td>\n",
       "      <td>-73.968095</td>\n",
       "      <td>40.768008</td>\n",
       "      <td>-73.956655</td>\n",
       "      <td>40.783762</td>\n",
       "      <td>1</td>\n",
       "    </tr>\n",
       "  </tbody>\n",
       "</table>\n",
       "</div>"
      ],
      "text/plain": [
       "                             key  fare_amount          pickup_datetime  \\\n",
       "0    2009-06-15 17:26:21.0000001          4.5  2009-06-15 17:26:21 UTC   \n",
       "1    2010-01-05 16:52:16.0000002         16.9  2010-01-05 16:52:16 UTC   \n",
       "2   2011-08-18 00:35:00.00000049          5.7  2011-08-18 00:35:00 UTC   \n",
       "3    2012-04-21 04:30:42.0000001          7.7  2012-04-21 04:30:42 UTC   \n",
       "4  2010-03-09 07:51:00.000000135          5.3  2010-03-09 07:51:00 UTC   \n",
       "\n",
       "   pickup_longitude  pickup_latitude  dropoff_longitude  dropoff_latitude  \\\n",
       "0        -73.844311        40.721319         -73.841610         40.712278   \n",
       "1        -74.016048        40.711303         -73.979268         40.782004   \n",
       "2        -73.982738        40.761270         -73.991242         40.750562   \n",
       "3        -73.987130        40.733143         -73.991567         40.758092   \n",
       "4        -73.968095        40.768008         -73.956655         40.783762   \n",
       "\n",
       "   passenger_count  \n",
       "0                1  \n",
       "1                1  \n",
       "2                2  \n",
       "3                1  \n",
       "4                1  "
      ]
     },
     "execution_count": 3,
     "metadata": {},
     "output_type": "execute_result"
    }
   ],
   "source": [
    "print(trainRawSegment.shape)\n",
    "trainRawSegment.head()"
   ]
  },
  {
   "cell_type": "markdown",
   "metadata": {},
   "source": [
    "Firstly, the raw data will be shuffled even though there seems to be no pattern of how it was input to the dataset. This is so when the validation set is separated from the training set, there is a fair representation of data in each. However, scikit-learn's stratified shuffle split can be used to ensure that this happens. This function also does the separation of the two datasets automatically based on the argument that is passed. \n",
    "\n",
    "The purpose of this notebook is to gain familiarity and perform testing with pytorch, so a simple shuffle of the dataset and then use of the head() and tail() functions will be used to create a 80/20 split of the raw data."
   ]
  },
  {
   "cell_type": "code",
   "execution_count": 4,
   "metadata": {},
   "outputs": [
    {
     "data": {
      "text/html": [
       "<div>\n",
       "<style scoped>\n",
       "    .dataframe tbody tr th:only-of-type {\n",
       "        vertical-align: middle;\n",
       "    }\n",
       "\n",
       "    .dataframe tbody tr th {\n",
       "        vertical-align: top;\n",
       "    }\n",
       "\n",
       "    .dataframe thead th {\n",
       "        text-align: right;\n",
       "    }\n",
       "</style>\n",
       "<table border=\"1\" class=\"dataframe\">\n",
       "  <thead>\n",
       "    <tr style=\"text-align: right;\">\n",
       "      <th></th>\n",
       "      <th>key</th>\n",
       "      <th>fare_amount</th>\n",
       "      <th>pickup_datetime</th>\n",
       "      <th>pickup_longitude</th>\n",
       "      <th>pickup_latitude</th>\n",
       "      <th>dropoff_longitude</th>\n",
       "      <th>dropoff_latitude</th>\n",
       "      <th>passenger_count</th>\n",
       "    </tr>\n",
       "  </thead>\n",
       "  <tbody>\n",
       "    <tr>\n",
       "      <th>103401</th>\n",
       "      <td>2013-05-28 14:43:00.000000186</td>\n",
       "      <td>9.0</td>\n",
       "      <td>2013-05-28 14:43:00 UTC</td>\n",
       "      <td>-73.978142</td>\n",
       "      <td>40.762660</td>\n",
       "      <td>-73.977202</td>\n",
       "      <td>40.754118</td>\n",
       "      <td>1</td>\n",
       "    </tr>\n",
       "    <tr>\n",
       "      <th>2167674</th>\n",
       "      <td>2012-03-05 14:11:00.000000113</td>\n",
       "      <td>7.3</td>\n",
       "      <td>2012-03-05 14:11:00 UTC</td>\n",
       "      <td>-73.992670</td>\n",
       "      <td>40.743127</td>\n",
       "      <td>-73.972532</td>\n",
       "      <td>40.746207</td>\n",
       "      <td>1</td>\n",
       "    </tr>\n",
       "    <tr>\n",
       "      <th>202020</th>\n",
       "      <td>2009-02-26 13:59:31.0000002</td>\n",
       "      <td>6.5</td>\n",
       "      <td>2009-02-26 13:59:31 UTC</td>\n",
       "      <td>-73.981882</td>\n",
       "      <td>40.768630</td>\n",
       "      <td>-73.968936</td>\n",
       "      <td>40.766980</td>\n",
       "      <td>1</td>\n",
       "    </tr>\n",
       "    <tr>\n",
       "      <th>337217</th>\n",
       "      <td>2009-06-30 22:33:00.000000183</td>\n",
       "      <td>22.1</td>\n",
       "      <td>2009-06-30 22:33:00 UTC</td>\n",
       "      <td>-73.969782</td>\n",
       "      <td>40.745222</td>\n",
       "      <td>-73.962003</td>\n",
       "      <td>40.674558</td>\n",
       "      <td>1</td>\n",
       "    </tr>\n",
       "    <tr>\n",
       "      <th>530340</th>\n",
       "      <td>2011-11-19 07:49:13.0000002</td>\n",
       "      <td>8.1</td>\n",
       "      <td>2011-11-19 07:49:13 UTC</td>\n",
       "      <td>-73.956300</td>\n",
       "      <td>40.767900</td>\n",
       "      <td>-73.978800</td>\n",
       "      <td>40.777600</td>\n",
       "      <td>1</td>\n",
       "    </tr>\n",
       "  </tbody>\n",
       "</table>\n",
       "</div>"
      ],
      "text/plain": [
       "                                   key  fare_amount          pickup_datetime  \\\n",
       "103401   2013-05-28 14:43:00.000000186          9.0  2013-05-28 14:43:00 UTC   \n",
       "2167674  2012-03-05 14:11:00.000000113          7.3  2012-03-05 14:11:00 UTC   \n",
       "202020     2009-02-26 13:59:31.0000002          6.5  2009-02-26 13:59:31 UTC   \n",
       "337217   2009-06-30 22:33:00.000000183         22.1  2009-06-30 22:33:00 UTC   \n",
       "530340     2011-11-19 07:49:13.0000002          8.1  2011-11-19 07:49:13 UTC   \n",
       "\n",
       "         pickup_longitude  pickup_latitude  dropoff_longitude  \\\n",
       "103401         -73.978142        40.762660         -73.977202   \n",
       "2167674        -73.992670        40.743127         -73.972532   \n",
       "202020         -73.981882        40.768630         -73.968936   \n",
       "337217         -73.969782        40.745222         -73.962003   \n",
       "530340         -73.956300        40.767900         -73.978800   \n",
       "\n",
       "         dropoff_latitude  passenger_count  \n",
       "103401          40.754118                1  \n",
       "2167674         40.746207                1  \n",
       "202020          40.766980                1  \n",
       "337217          40.674558                1  \n",
       "530340          40.777600                1  "
      ]
     },
     "execution_count": 4,
     "metadata": {},
     "output_type": "execute_result"
    }
   ],
   "source": [
    "np.random.seed(0)\n",
    "trainRawSegment = trainRawSegment.iloc[np.random.permutation(np.arange(len(trainRawSegment)))]\n",
    "trainRawSegment.head()"
   ]
  },
  {
   "cell_type": "code",
   "execution_count": 5,
   "metadata": {},
   "outputs": [],
   "source": [
    "# must typecast to int for head and tail to work as it doesn't handle floating point numbers.\n",
    "train = trainRawSegment.head(int(numberOfSamples*0.8))\n",
    "validation = trainRawSegment.tail(int(numberOfSamples*0.2))"
   ]
  },
  {
   "cell_type": "code",
   "execution_count": 6,
   "metadata": {},
   "outputs": [
    {
     "name": "stdout",
     "output_type": "stream",
     "text": [
      "(2000000, 8)\n",
      "(500000, 8)\n"
     ]
    }
   ],
   "source": [
    "print(train.shape)\n",
    "print(validation.shape)"
   ]
  },
  {
   "cell_type": "markdown",
   "metadata": {},
   "source": [
    "Looking through the data, things that stand out are dates and times in the \"key\" & \"pickup_datetime\" columns. These could be split into separate individual features and checked for correlation with \"fare_amount\". The pairs of longitude and latitude features could be made into cross features. Time could be bucketed into morning, afternoon and evening categories."
   ]
  },
  {
   "cell_type": "code",
   "execution_count": 7,
   "metadata": {},
   "outputs": [
    {
     "name": "stdout",
     "output_type": "stream",
     "text": [
      "8\n"
     ]
    }
   ],
   "source": [
    "train[\"passenger_count\"].value_counts()\n",
    "print(len(train.columns))"
   ]
  },
  {
   "cell_type": "markdown",
   "metadata": {},
   "source": [
    "Inspection of the \"passenger_count\" column shows some crazy errors. specifically the taxis that were able to fit 49 to 208 passengers in the one trip. In all seriousness, this looks like an input error or error code. The trips that noted 9 passengers down are a bit of a mystery, as either it was a data entry error or possibly those taxis did actually have that many passengers. \n",
    "\n",
    "These outliers (passenger_count > 6) will be removed from the dataset as they hold such an insignificant percentage of data 11/5,000,000."
   ]
  },
  {
   "cell_type": "code",
   "execution_count": 8,
   "metadata": {},
   "outputs": [
    {
     "name": "stdout",
     "output_type": "stream",
     "text": [
      "train is now  1999996 rows long\n"
     ]
    },
    {
     "data": {
      "text/plain": [
       "1    1383728\n",
       "2     295370\n",
       "5     141493\n",
       "3      87707\n",
       "4      42534\n",
       "6      42136\n",
       "0       7028\n",
       "Name: passenger_count, dtype: int64"
      ]
     },
     "execution_count": 8,
     "metadata": {},
     "output_type": "execute_result"
    }
   ],
   "source": [
    "#removing the weird passenger count \n",
    "train = train.drop(train[train.passenger_count > 6].index)\n",
    "print(\"train is now \", int(train.size/len(train.columns)), \"rows long\")\n",
    "train[\"passenger_count\"].value_counts()"
   ]
  },
  {
   "cell_type": "code",
   "execution_count": 9,
   "metadata": {},
   "outputs": [
    {
     "data": {
      "image/png": "[encoded data removed]",
      "text/plain": [
       "<Figure size 432x288 with 1 Axes>"
      ]
     },
     "metadata": {
      "needs_background": "light"
     },
     "output_type": "display_data"
    }
   ],
   "source": [
    "%matplotlib inline\n",
    "import matplotlib.pyplot as plt\n",
    "train[\"passenger_count\"].hist(bins=10, range=(0, 8))\n",
    "plt.show()"
   ]
  },
  {
   "cell_type": "markdown",
   "metadata": {},
   "source": [
    "Using pandas corr function, the correlation between columns can be acquired.  "
   ]
  },
  {
   "cell_type": "code",
   "execution_count": 10,
   "metadata": {},
   "outputs": [
    {
     "data": {
      "text/plain": [
       "fare_amount          1.000000\n",
       "pickup_longitude     0.008267\n",
       "pickup_latitude     -0.007206\n",
       "dropoff_longitude    0.008438\n",
       "dropoff_latitude    -0.005609\n",
       "passenger_count      0.013035\n",
       "Name: fare_amount, dtype: float64"
      ]
     },
     "execution_count": 10,
     "metadata": {},
     "output_type": "execute_result"
    }
   ],
   "source": [
    "corrMatrix = train.corr()\n",
    "corrMatrix[\"fare_amount\"]"
   ]
  },
  {
   "cell_type": "markdown",
   "metadata": {},
   "source": [
    "There is no feature that has an obvious correlation with fare_amount. Passenger_count has the highest correlation with the target value fare_amount out of the data provided. This is probably due to larger groups of people taking longer trips together to save on costs.\n",
    "\n",
    "As this function only provides correlation of linear relationships, it is missing out on the non-linear relationships. Next up, testing with different combinations of features. The main combination that will be tested is distance travelled. This will be found by taking the absolute of pythagorean distance of pickup_longitude minus dropoff_longitude and pickup_latitude minus dropoff_latitude.  "
   ]
  },
  {
   "cell_type": "markdown",
   "metadata": {},
   "source": [
    "This next code iterates through the training set, calculating the distance between pickup and dropoff locations and assigning them to the distance_travelled column."
   ]
  },
  {
   "cell_type": "code",
   "execution_count": 11,
   "metadata": {},
   "outputs": [
    {
     "data": {
      "text/plain": [
       "'\\n\\n# https://stackoverflow.com/questions/19412462/getting-distance-between-two-points-based-on-latitude-longitude\\n\\nfrom math import sin, cos, sqrt, atan2, radians\\n\\ntrain.loc[:, \"distance_travelled\"] = np.nan\\n\\ntrainLength = len(train[\"passenger_count\"])\\n\\n# approximate radius of earth in km\\nR = 6373.0\\n\\nfor i in tqdm(range(trainLength)):\\n    lat1 = radians(train[\"pickup_latitude\"].iloc[i])\\n    lon1 = radians(train[\"pickup_longitude\"].iloc[i])\\n    lat2 = radians(train[\"dropoff_latitude\"].iloc[i])\\n    lon2 = radians(train[\"dropoff_longitude\"].iloc[i])\\n    \\n    dlon = lon2 - lon1\\n    dlat = lat2 - lat1\\n    \\n    a = sin(dlat / 2)**2 + cos(lat1) * cos(lat2) * sin(dlon / 2)**2\\n    c = 2 * atan2(sqrt(a), sqrt(1 - a))\\n    \\n    train.loc[train.index[i], \"distance_travelled\"] = R * c\\n    \\ntrain.head()\\n'"
      ]
     },
     "execution_count": 11,
     "metadata": {},
     "output_type": "execute_result"
    }
   ],
   "source": [
    "##################################################################\n",
    "#\n",
    "#\n",
    "#         DONT RUN THIS CELL\n",
    "#       This has been kept to show what not to do!\n",
    "#\n",
    "#\n",
    "##################################################################\n",
    "'''\n",
    "\n",
    "# https://stackoverflow.com/questions/19412462/getting-distance-between-two-points-based-on-latitude-longitude\n",
    "\n",
    "from math import sin, cos, sqrt, atan2, radians\n",
    "\n",
    "train.loc[:, \"distance_travelled\"] = np.nan\n",
    "\n",
    "trainLength = len(train[\"passenger_count\"])\n",
    "\n",
    "# approximate radius of earth in km\n",
    "R = 6373.0\n",
    "\n",
    "for i in tqdm(range(trainLength)):\n",
    "    lat1 = radians(train[\"pickup_latitude\"].iloc[i])\n",
    "    lon1 = radians(train[\"pickup_longitude\"].iloc[i])\n",
    "    lat2 = radians(train[\"dropoff_latitude\"].iloc[i])\n",
    "    lon2 = radians(train[\"dropoff_longitude\"].iloc[i])\n",
    "    \n",
    "    dlon = lon2 - lon1\n",
    "    dlat = lat2 - lat1\n",
    "    \n",
    "    a = sin(dlat / 2)**2 + cos(lat1) * cos(lat2) * sin(dlon / 2)**2\n",
    "    c = 2 * atan2(sqrt(a), sqrt(1 - a))\n",
    "    \n",
    "    train.loc[train.index[i], \"distance_travelled\"] = R * c\n",
    "    \n",
    "train.head()\n",
    "'''"
   ]
  },
  {
   "cell_type": "markdown",
   "metadata": {},
   "source": [
    "Using tqdm on the iterator, we see that this calculation will take approx. 72 hours for the 4 million samples. This is way too long. I'm going to have to figure out another way to calculate this feature. (cython, some other software that is fast dealing with large datasets)."
   ]
  },
  {
   "cell_type": "markdown",
   "metadata": {},
   "source": [
    "Before processing latitude and longitude, I should have inspected the data thoroughly beforehand. Using the tool provided on https://www.mapdevelopers.com/geocode_bounding_box.php I can get a bounding box around new york city, find minimum and maximum latitude and longitude values, and filter the training data using the found values. This should remove any errors acquired at time of input, and remove any locations that have been input that arent in new york city. \n",
    "![new york city latitude and longitude limits](img/boundingBox.png)"
   ]
  },
  {
   "cell_type": "markdown",
   "metadata": {},
   "source": [
    "Using the latitude and longitude bounds created by the map developer tool above, I'll add an extra +/- 1 to longitude and +/- 0.5 to latitude and filter using the values. This is done to include any trips that begin/end in the outer suburbs. These values could be tweaked to increase the area sample size as well. "
   ]
  },
  {
   "cell_type": "code",
   "execution_count": 12,
   "metadata": {},
   "outputs": [
    {
     "name": "stdout",
     "output_type": "stream",
     "text": [
      "train was  1999996 rows long\n",
      "train is now  1958012 rows long\n"
     ]
    }
   ],
   "source": [
    "# change these values to increase/decrease bounding box size\n",
    "longitudeBound = np.array([-72.7, -75.26])\n",
    "latitudeBound = np.array([41.42, 39.98])\n",
    "\n",
    "print(\"train was \", int(train.size/len(train.columns)), \"rows long\")\n",
    "\n",
    "# longitudes first\n",
    "train = train.drop(train[train.pickup_longitude > longitudeBound[0]].index)\n",
    "train = train.drop(train[train.pickup_longitude < longitudeBound[1]].index)\n",
    "train = train.drop(train[train.dropoff_longitude > longitudeBound[0]].index)\n",
    "train = train.drop(train[train.dropoff_longitude < longitudeBound[1]].index)\n",
    "\n",
    "# now the latitudes\n",
    "train = train.drop(train[train.pickup_latitude > latitudeBound[0]].index)\n",
    "train = train.drop(train[train.pickup_latitude < latitudeBound[1]].index)\n",
    "train = train.drop(train[train.dropoff_latitude > latitudeBound[0]].index)\n",
    "train = train.drop(train[train.dropoff_latitude < latitudeBound[1]].index)\n",
    "\n",
    "print(\"train is now \", int(train.size/len(train.columns)), \"rows long\")\n",
    "\n",
    "#removing the weird passenger count \n",
    "#train = train.drop(train[train.passenger_count > 6].index)\n",
    "#print(\"train is now \", int(train.size/len(train.columns)), \"rows long\")\n",
    "#train[\"passenger_count\"].value_counts()"
   ]
  },
  {
   "cell_type": "markdown",
   "metadata": {},
   "source": [
    "Next up, I'm going to sort the pickup_datetime column into individual columns. This is so I can categorize and bucketize parameters individually. Also, I believe I can safely remove the key column as this just seems to have the same info but in a worse format. "
   ]
  },
  {
   "cell_type": "code",
   "execution_count": 13,
   "metadata": {},
   "outputs": [],
   "source": [
    "train = train.drop(\"key\", axis=1)"
   ]
  },
  {
   "cell_type": "code",
   "execution_count": 14,
   "metadata": {},
   "outputs": [
    {
     "data": {
      "text/plain": [
       "fare_amount                 float64\n",
       "pickup_datetime      datetime64[ns]\n",
       "pickup_longitude            float64\n",
       "pickup_latitude             float64\n",
       "dropoff_longitude           float64\n",
       "dropoff_latitude            float64\n",
       "passenger_count               int64\n",
       "dtype: object"
      ]
     },
     "execution_count": 14,
     "metadata": {},
     "output_type": "execute_result"
    }
   ],
   "source": [
    "train[\"pickup_datetime\"] = pd.to_datetime(train[\"pickup_datetime\"])\n",
    "train.dtypes"
   ]
  },
  {
   "cell_type": "code",
   "execution_count": 15,
   "metadata": {},
   "outputs": [],
   "source": [
    "train['year'] = train['pickup_datetime'].dt.year\n",
    "train['month'] = train['pickup_datetime'].dt.month\n",
    "train['date'] = train['pickup_datetime'].dt.day\n",
    "train['day'] = train['pickup_datetime'].dt.dayofweek\n",
    "train['hour'] = train['pickup_datetime'].dt.hour"
   ]
  },
  {
   "cell_type": "markdown",
   "metadata": {},
   "source": [
    "After seperating the datetime field into different units of time, I can do some analysis. First I'll check what year all this data has come from. "
   ]
  },
  {
   "cell_type": "code",
   "execution_count": 16,
   "metadata": {},
   "outputs": [
    {
     "data": {
      "image/png": "[encoded data removed]",
      "text/plain": [
       "<Figure size 432x288 with 1 Axes>"
      ]
     },
     "metadata": {
      "needs_background": "light"
     },
     "output_type": "display_data"
    }
   ],
   "source": [
    "train[\"year\"].hist(bins=7)\n",
    "plt.show()"
   ]
  },
  {
   "cell_type": "markdown",
   "metadata": {},
   "source": [
    "Obviously the data hasnt been sampled throughout the entire year of 2015 and i have only got data from approximately half the year here. Im just going to confirm that by plotting a scatterplot of month against year."
   ]
  },
  {
   "cell_type": "code",
   "execution_count": 17,
   "metadata": {},
   "outputs": [
    {
     "data": {
      "image/png": "[encoded data removed]",
      "text/plain": [
       "<Figure size 1080x504 with 1 Axes>"
      ]
     },
     "metadata": {
      "needs_background": "light"
     },
     "output_type": "display_data"
    }
   ],
   "source": [
    "plt.figure(figsize=(15,7))\n",
    "plt.scatter(x=train['month'], y=train['year'], s=1.5)\n",
    "plt.xlabel('month')\n",
    "plt.ylabel('year')\n",
    "plt.show()"
   ]
  },
  {
   "cell_type": "markdown",
   "metadata": {},
   "source": [
    "As predicted, the data only goes up to june 2015. There was no way that taxi rides dropped in popularity that severely."
   ]
  },
  {
   "cell_type": "code",
   "execution_count": 18,
   "metadata": {},
   "outputs": [
    {
     "data": {
      "text/plain": [
       "fare_amount          1.000000\n",
       "pickup_longitude     0.374262\n",
       "pickup_latitude     -0.186757\n",
       "dropoff_longitude    0.281643\n",
       "dropoff_latitude    -0.153505\n",
       "passenger_count      0.013892\n",
       "year                 0.116736\n",
       "month                0.025097\n",
       "date                 0.000210\n",
       "day                  0.002302\n",
       "hour                -0.017469\n",
       "Name: fare_amount, dtype: float64"
      ]
     },
     "execution_count": 18,
     "metadata": {},
     "output_type": "execute_result"
    }
   ],
   "source": [
    "corrMatrix = train.corr()\n",
    "corrMatrix[\"fare_amount\"]"
   ]
  },
  {
   "cell_type": "markdown",
   "metadata": {},
   "source": [
    "Seems after cancelling out a bunch of longitude and latitudes, the pickup and dropoff longitude shows much stronger correlation than before. \n",
    "\n",
    "When was rush hour in NYC in the year 2012? this could be a valuable parameter that correlates well with fare amount. According to a local, \"Rush hour in NYC is usually from about 7:00am-10:00am and 4:00pm-7:00pm during the week\". With this info we can create a new boolean feature called rush_hour."
   ]
  },
  {
   "cell_type": "code",
   "execution_count": 19,
   "metadata": {},
   "outputs": [],
   "source": [
    "train[\"rush_hour\"] = ((train[\"hour\"] < 10) & (train[\"hour\"] > 7)) | ((train[\"hour\"] < 19) & (train[\"hour\"] > 16))"
   ]
  },
  {
   "cell_type": "markdown",
   "metadata": {},
   "source": [
    "Which days fall on weekends? which are during the week? I believe this parameter might have strong correlation with fare amount. Using dt.dayofweek results in values for the day of the week being Monday=0, Sunday=6."
   ]
  },
  {
   "cell_type": "code",
   "execution_count": 20,
   "metadata": {},
   "outputs": [
    {
     "data": {
      "image/png": "[encoded data removed]",
      "text/plain": [
       "<Figure size 1080x504 with 1 Axes>"
      ]
     },
     "metadata": {
      "needs_background": "light"
     },
     "output_type": "display_data"
    }
   ],
   "source": [
    "plt.figure(figsize=(15,7))\n",
    "plt.scatter(x=train['hour'], y=train['fare_amount'], s=1.5)\n",
    "plt.xlabel('Hour')\n",
    "plt.ylabel('Fare')\n",
    "plt.show()"
   ]
  },
  {
   "cell_type": "markdown",
   "metadata": {},
   "source": [
    "I was hoping to reveal some interesting insight to how fares differ by looking at the fare_amount vs. hour scatterplot. Unfortunatley, not a huge distinction between AM/PM, night/day can be identified. However, an obvious fault in the dataset did occur. We can see some records have negative fare_amounts. This doesn't make any sense, so I'll remove them. Also a few huge fare amounts are recorded (400 - 980) but I'll leave them for now."
   ]
  },
  {
   "cell_type": "code",
   "execution_count": 21,
   "metadata": {},
   "outputs": [
    {
     "name": "stdout",
     "output_type": "stream",
     "text": [
      "train was  1958012 rows long\n",
      "train is now  1957943 rows long\n"
     ]
    }
   ],
   "source": [
    "print(\"train was \", int(train.size/len(train.columns)), \"rows long\")\n",
    "train = train.drop(train[train.fare_amount < 0].index)\n",
    "train.describe()\n",
    "print(\"train is now \", int(train.size/len(train.columns)), \"rows long\")"
   ]
  },
  {
   "cell_type": "markdown",
   "metadata": {},
   "source": [
    "Awesome, no negative fare pricings (though a cost of zero seems a little strange but possible).\n",
    "Next up, an attempt at vectorizing the distance travelled calculation."
   ]
  },
  {
   "cell_type": "code",
   "execution_count": 22,
   "metadata": {},
   "outputs": [],
   "source": [
    "# approximate radius of earth in km\n",
    "R = 6373.0\n",
    "\n",
    "lat1 = np.radians(np.array(train[\"pickup_latitude\"]))\n",
    "lon1 = np.radians(np.array(train[\"pickup_longitude\"]))\n",
    "lat2 = np.radians(np.array(train[\"dropoff_latitude\"]))\n",
    "lon2 = np.radians(np.array(train[\"dropoff_longitude\"]))\n",
    "    \n",
    "dlon = lon2 - lon1\n",
    "dlat = lat2 - lat1\n",
    "    \n",
    "a = np.sin(dlat / 2)**2 + np.cos(lat1) * np.cos(lat2) * np.sin(dlon / 2)**2\n",
    "c = 2 * np.arctan2(np.sqrt(a), np.sqrt(1 - a))\n",
    "    \n",
    "train[\"distance_travelled\"] = c * R"
   ]
  },
  {
   "cell_type": "markdown",
   "metadata": {},
   "source": [
    "WOah! after learning about how to use numpy properly, I tried vectorizing the equation using the built in numpy functions which resulted in insane speed. This really shows the power of the numpy library when comparing to how I previously coded it using a for loop and math library functions. 72 hours vs. approx. 100ms... actually insane.\n",
    "\n",
    "Now that I have The distance travelled (point to point, not directly following the exact route taken) I can test the correlation between fare amount and distance travelled."
   ]
  },
  {
   "cell_type": "code",
   "execution_count": 23,
   "metadata": {},
   "outputs": [
    {
     "name": "stdout",
     "output_type": "stream",
     "text": [
      "fare_amount           1.000000\n",
      "pickup_longitude      0.374319\n",
      "pickup_latitude      -0.186783\n",
      "dropoff_longitude     0.281717\n",
      "dropoff_latitude     -0.153524\n",
      "passenger_count       0.013897\n",
      "year                  0.116789\n",
      "month                 0.025041\n",
      "date                  0.000228\n",
      "day                   0.002308\n",
      "hour                 -0.017478\n",
      "rush_hour            -0.016532\n",
      "distance_travelled    0.816301\n",
      "Name: fare_amount, dtype: float64\n",
      " \n",
      "count    1.957928e+06\n",
      "mean     3.331347e+00\n",
      "std      3.788612e+00\n",
      "min      0.000000e+00\n",
      "25%      1.254573e+00\n",
      "50%      2.153362e+00\n",
      "75%      3.911045e+00\n",
      "max      1.161715e+02\n",
      "Name: distance_travelled, dtype: float64\n"
     ]
    }
   ],
   "source": [
    "corrMatrix = train.corr()\n",
    "print(corrMatrix[\"fare_amount\"])\n",
    "print(\" \")\n",
    "print(train[\"distance_travelled\"].describe())"
   ]
  },
  {
   "cell_type": "markdown",
   "metadata": {},
   "source": [
    "As expected, a really strong correlation occurs. I'm now going to have a quick look at the data using the describe function. As above, it seems that most of the data falls within an expected range, however, the largest value is 132 kilometers, which seems really unbelievable. I am going to plot the distance travelled against pickup latitude to try visualize outliers. \n",
    "\n",
    "After plotting distance travelled vs pickup latitude, I found the plot difficult to read. though there were some strange patterns occuring, I thought perhaps they were natural and not a bug/data entry error (considering there may be some really common tourist destinations that alot of people from a common pickup location, such as the airport, could be the case). I then decided to plot year vs distance travelled and found some interesting patterns as below..."
   ]
  },
  {
   "cell_type": "code",
   "execution_count": 24,
   "metadata": {},
   "outputs": [
    {
     "data": {
      "image/png": "[encoded data removed]",
      "text/plain": [
       "<Figure size 1080x504 with 1 Axes>"
      ]
     },
     "metadata": {
      "needs_background": "light"
     },
     "output_type": "display_data"
    }
   ],
   "source": [
    "plt.figure(figsize=(15,7))\n",
    "plt.scatter(x=train['distance_travelled'], y=train['year'], s=1.5)\n",
    "plt.xlabel('distance_travelled')\n",
    "plt.ylabel('year')\n",
    "plt.show()"
   ]
  },
  {
   "cell_type": "markdown",
   "metadata": {},
   "source": [
    "Looking at distance travelled against year, it seems like alot of the longer rides start to cease at around 2011-2012. I was thinking that a public transport system to the airport had gone live or something along those lines, but in fact, Uber went live in May 2011 according to wikipedia, and I think this would have had a large enough impact to change these trends."
   ]
  },
  {
   "cell_type": "markdown",
   "metadata": {},
   "source": [
    "NEXT UP:\n",
    "\n",
    "- should i do some bucketizing? (months into seasons, winter may have a higher taxi trip rate) \n",
    "- I still need to standardize or normalize the quantative features (only fitting the transformer to the training data, then, transforming the training, test and future data) .  \n",
    "- I should treat the date-based features as categorical instead of a quantative variable. (One hot encoding)"
   ]
  },
  {
   "cell_type": "code",
   "execution_count": 25,
   "metadata": {},
   "outputs": [
    {
     "data": {
      "text/plain": [
       "fare_amount                  float64\n",
       "pickup_datetime       datetime64[ns]\n",
       "pickup_longitude             float64\n",
       "pickup_latitude              float64\n",
       "dropoff_longitude            float64\n",
       "dropoff_latitude             float64\n",
       "passenger_count                int64\n",
       "year                           int64\n",
       "month                          int64\n",
       "date                           int64\n",
       "day                            int64\n",
       "hour                           int64\n",
       "rush_hour                      int64\n",
       "distance_travelled           float64\n",
       "dtype: object"
      ]
     },
     "execution_count": 25,
     "metadata": {},
     "output_type": "execute_result"
    }
   ],
   "source": [
    "train.rush_hour = train.rush_hour.astype(int)\n",
    "train.dtypes"
   ]
  },
  {
   "cell_type": "markdown",
   "metadata": {},
   "source": [
    "Upon attempting to one hot encode the training data, it is found that NaNs exist in the data. In this instance, all NaNs will be set to 0, further testing will be done later to try other methods."
   ]
  },
  {
   "cell_type": "code",
   "execution_count": 26,
   "metadata": {},
   "outputs": [],
   "source": [
    "train.fillna(0, inplace=True)"
   ]
  },
  {
   "cell_type": "markdown",
   "metadata": {},
   "source": [
    "Not sure if standardize/normalize is needed here, as I'll only use one continuous variable (distance travelled). One hot encoding on the other had will definitely be used."
   ]
  },
  {
   "cell_type": "code",
   "execution_count": 27,
   "metadata": {},
   "outputs": [],
   "source": [
    "from sklearn.preprocessing import OneHotEncoder, StandardScaler\n",
    "\n",
    "columns_to_scale  = ['distance_travelled']\n",
    "scaler = StandardScaler()\n",
    "train[columns_to_scale]  = scaler.fit_transform(train[columns_to_scale]) "
   ]
  },
  {
   "cell_type": "markdown",
   "metadata": {},
   "source": [
    "The above attempt at scaling and one hot encoding froze my computer. most likely a RAM issue. I think I've got to bucketize some of the categorical data first before one hot encoding. Alternatively I could use a smaller dataset."
   ]
  },
  {
   "cell_type": "code",
   "execution_count": 28,
   "metadata": {},
   "outputs": [
    {
     "data": {
      "text/plain": [
       "count    1.957943e+06\n",
       "mean     1.453493e-16\n",
       "std      1.000000e+00\n",
       "min     -8.792999e-01\n",
       "25%     -5.481600e-01\n",
       "50%     -3.109278e-01\n",
       "75%      1.530156e-01\n",
       "max      2.978408e+01\n",
       "Name: distance_travelled, dtype: float64"
      ]
     },
     "execution_count": 28,
     "metadata": {},
     "output_type": "execute_result"
    }
   ],
   "source": [
    "train['distance_travelled'].describe()"
   ]
  },
  {
   "cell_type": "code",
   "execution_count": 29,
   "metadata": {},
   "outputs": [],
   "source": [
    "train = pd.get_dummies(train, columns=['passenger_count'])"
   ]
  },
  {
   "cell_type": "code",
   "execution_count": 30,
   "metadata": {},
   "outputs": [],
   "source": [
    "train = pd.get_dummies(train, columns=['year'])"
   ]
  },
  {
   "cell_type": "markdown",
   "metadata": {},
   "source": [
    "lets drop the pickup_datetime column as it is a datetime64[ns] object which we cannot use.  The longitude and latitude recordings will also be removed as Ive caclulated the distance travelled. This could be a terrible idea, but I am not sure how to handle this data. Do I bucketize it, then one hot encode? - something to research."
   ]
  },
  {
   "cell_type": "code",
   "execution_count": 31,
   "metadata": {},
   "outputs": [],
   "source": [
    "train = train.drop(\"pickup_datetime\", axis=1)\n",
    "train = train.drop(\"pickup_longitude\", axis=1)\n",
    "train = train.drop(\"pickup_latitude\", axis=1)\n",
    "train = train.drop(\"dropoff_longitude\", axis=1)\n",
    "train = train.drop(\"dropoff_latitude\", axis=1)"
   ]
  },
  {
   "cell_type": "code",
   "execution_count": 32,
   "metadata": {},
   "outputs": [],
   "source": [
    "train = train.drop(\"month\", axis=1)\n",
    "train = train.drop(\"date\", axis=1)\n",
    "train = train.drop(\"hour\", axis=1)\n",
    "train = pd.get_dummies(train, columns=['day'])"
   ]
  },
  {
   "cell_type": "code",
   "execution_count": 33,
   "metadata": {},
   "outputs": [],
   "source": [
    "# Divide this data into training data and label data\n",
    "trainTargets = train[\"fare_amount\"]\n",
    "trainData = train.drop(\"fare_amount\", axis=1)"
   ]
  },
  {
   "cell_type": "markdown",
   "metadata": {},
   "source": [
    "Below I've defined a function that process a dataframe into the correct format that the samples need to be in in order to produce a prediction."
   ]
  },
  {
   "cell_type": "code",
   "execution_count": 34,
   "metadata": {},
   "outputs": [],
   "source": [
    "def preprocess(data):\n",
    "    \n",
    "    # this \"filtering\" is not used:\n",
    "    \n",
    "#    train = train.drop(train[train.passenger_count > 6].index)    \n",
    "#    longitudeBound = np.array([-72.7, -75.26])\n",
    "#    latitudeBound = np.array([41.42, 39.98])\n",
    "#    longitudes first\n",
    "#    train = train.drop(train[train.pickup_longitude > longitudeBound[0]].index)\n",
    "#    train = train.drop(train[train.pickup_longitude < longitudeBound[1]].index)\n",
    "#    train = train.drop(train[train.dropoff_longitude > longitudeBound[0]].index)\n",
    "#    train = train.drop(train[train.dropoff_longitude < longitudeBound[1]].index)\n",
    "#    now the latitudes\n",
    "#    train = train.drop(train[train.pickup_latitude > latitudeBound[0]].index)\n",
    "#    train = train.drop(train[train.pickup_latitude < latitudeBound[1]].index)\n",
    "#    train = train.drop(train[train.dropoff_latitude > latitudeBound[0]].index)\n",
    "#    train = train.drop(train[train.dropoff_latitude < latitudeBound[1]].index)\n",
    "\n",
    "    #data = data.drop(data[data.fare_amount < 0].index)\n",
    " \n",
    "    # replace NaNs with zeros\n",
    "    data.fillna(0, inplace=True)\n",
    "    data = data.drop(\"key\", axis=1)\n",
    "    \n",
    "    # process the dates.\n",
    "    data[\"pickup_datetime\"] = pd.to_datetime(data[\"pickup_datetime\"])\n",
    "    data['year'] = data['pickup_datetime'].dt.year\n",
    "    data['month'] = data['pickup_datetime'].dt.month\n",
    "    data['date'] = data['pickup_datetime'].dt.day\n",
    "    data['day'] = data['pickup_datetime'].dt.dayofweek\n",
    "    data['hour'] = data['pickup_datetime'].dt.hour\n",
    "    \n",
    "    #create the rush hour column\n",
    "    data[\"rush_hour\"] = ((data[\"hour\"] < 10) & (data[\"hour\"] > 7)) | ((data[\"hour\"] < 19) & (data[\"hour\"] > 16))\n",
    "    data.rush_hour = data.rush_hour.astype(int)\n",
    "    \n",
    "    \n",
    "    # create the distance_travelled column\n",
    "    R = 6373.0\n",
    "    lat1 = np.radians(np.array(data[\"pickup_latitude\"]))\n",
    "    lon1 = np.radians(np.array(data[\"pickup_longitude\"]))\n",
    "    lat2 = np.radians(np.array(data[\"dropoff_latitude\"]))\n",
    "    lon2 = np.radians(np.array(data[\"dropoff_longitude\"]))\n",
    "    dlon = lon2 - lon1\n",
    "    dlat = lat2 - lat1\n",
    "    a = np.sin(dlat / 2)**2 + np.cos(lat1) * np.cos(lat2) * np.sin(dlon / 2)**2\n",
    "    c = 2 * np.arctan2(np.sqrt(a), np.sqrt(1 - a))\n",
    "    data[\"distance_travelled\"] = c * R\n",
    "\n",
    "    #scale the continuous data\n",
    "    columns_to_scale  = ['distance_travelled']\n",
    "    scaler = StandardScaler()\n",
    "    data[columns_to_scale]  = scaler.fit_transform(data[columns_to_scale]) \n",
    "\n",
    "    #one hot encode categorical data\n",
    "    data = pd.get_dummies(data, columns=['passenger_count'])\n",
    "    data = pd.get_dummies(data, columns=['year'])\n",
    "    data = pd.get_dummies(data, columns=['day'])\n",
    "\n",
    "    #drop certain columns - subject to change\n",
    "    data = data.drop(\"pickup_datetime\", axis=1)\n",
    "    data = data.drop(\"pickup_longitude\", axis=1)\n",
    "    data = data.drop(\"pickup_latitude\", axis=1)\n",
    "    data = data.drop(\"dropoff_longitude\", axis=1)\n",
    "    data = data.drop(\"dropoff_latitude\", axis=1)    \n",
    "    data = data.drop(\"month\", axis=1)\n",
    "    data = data.drop(\"date\", axis=1)\n",
    "    data = data.drop(\"hour\", axis=1)\n",
    "    \n",
    "    return data\n"
   ]
  },
  {
   "cell_type": "markdown",
   "metadata": {},
   "source": [
    "This next cell will seperate both the train and validation set data from the target (fare_amount).\n",
    "The trainData will be the pre-processed, clean training set, while the validation data is still raw and unfiltered, hopefully positively simulating the test set. The reason for doing this now is so that while filterign and processing the training data, we want to make sure the data and the target matrices are the same row length for our machine learning framework of choice."
   ]
  },
  {
   "cell_type": "code",
   "execution_count": 35,
   "metadata": {},
   "outputs": [
    {
     "name": "stderr",
     "output_type": "stream",
     "text": [
      "/home/mitch/anaconda3/envs/machineLearning/lib/python3.6/site-packages/pandas/core/frame.py:3790: SettingWithCopyWarning: \n",
      "A value is trying to be set on a copy of a slice from a DataFrame\n",
      "\n",
      "See the caveats in the documentation: http://pandas.pydata.org/pandas-docs/stable/indexing.html#indexing-view-versus-copy\n",
      "  downcast=downcast, **kwargs)\n"
     ]
    }
   ],
   "source": [
    "validation = preprocess(validation)\n",
    "\n",
    "# Divide this data into training data and label data\n",
    "validationTargets = validation[\"fare_amount\"]\n",
    "validationData = validation.drop(\"fare_amount\", axis=1)"
   ]
  },
  {
   "cell_type": "markdown",
   "metadata": {},
   "source": [
    "## Modelling using pytorch neural network"
   ]
  },
  {
   "cell_type": "markdown",
   "metadata": {},
   "source": [
    "The main purpose of this notebook is to gain familiarity with pytorch."
   ]
  },
  {
   "cell_type": "code",
   "execution_count": 36,
   "metadata": {},
   "outputs": [
    {
     "name": "stdout",
     "output_type": "stream",
     "text": [
      "cuda:0\n"
     ]
    }
   ],
   "source": [
    "# imports\n",
    "\n",
    "import torch\n",
    "from torch import nn\n",
    "from torch import optim\n",
    "from torch.utils.data import Dataset\n",
    "from torch.utils.data import DataLoader\n",
    "import torch.nn.functional as F\n",
    "\n",
    "# these lines assign the gpu to device if it is available.\n",
    "# later on the \" .to(device) \" is used to train the model on the device available.\n",
    "\n",
    "device = torch.device(\"cuda:0\" if torch.cuda.is_available() else \"cpu\")\n",
    "print(device)"
   ]
  },
  {
   "cell_type": "code",
   "execution_count": null,
   "metadata": {},
   "outputs": [],
   "source": []
  },
  {
   "cell_type": "code",
   "execution_count": 37,
   "metadata": {},
   "outputs": [],
   "source": [
    "# converts dataframe contents to numpy array, that are all float type for pytorch tensor conversion \n",
    "# pytorch tensor is data type used with pytorch. \n",
    "\n",
    "trainData = torch.tensor(trainData.values).float() \n",
    "validationData = torch.tensor(validationData.values).float()\n",
    "\n",
    "# These next lines are important here. does the same thing as before,\n",
    "# however, the reshape transforms the training and validation labels into 1 coloumn with multiple rows.\n",
    " \n",
    "trainTargets = torch.tensor(trainTargets.values.reshape(trainData.shape[0], 1)).float()\n",
    "validationTargets = torch.tensor(validationTargets.values.reshape(validationData.shape[0], 1)).float()"
   ]
  },
  {
   "cell_type": "code",
   "execution_count": 38,
   "metadata": {},
   "outputs": [],
   "source": [
    "# define the neural network\n",
    "\n",
    "inputDimension = trainData.shape[1]\n",
    "hiddenDimension = round(trainData.shape[1]/2)\n",
    "\n",
    "# Trying leaky relu next.\n",
    "# added dropout to see if there improvements on generalization\n",
    "\n",
    "class LinReg(nn.Module):\n",
    "    def __init__(self, inputDimensions, hiddenDimensions):\n",
    "        super().__init__()\n",
    "        self.fc1 = nn.Linear(inputDimensions, hiddenDimensions)\n",
    "        self.fc2 = nn.Linear(hiddenDimensions, hiddenDimensions)\n",
    "        self.fc3 = nn.Linear(hiddenDimensions, hiddenDimensions)\n",
    "        self.fc4 = nn.Linear(hiddenDimensions, hiddenDimensions)\n",
    "        self.fc5 = nn.Linear(hiddenDimensions, 1)\n",
    "        self.dropout = nn.Dropout(0.2)\n",
    "        \n",
    "    def forward(self, x):\n",
    "        x = F.relu(self.fc1(x))\n",
    "        x = self.dropout(x)\n",
    "        x = F.relu(self.fc2(x))\n",
    "        x = self.dropout(x)\n",
    "        x = F.relu(self.fc3(x))\n",
    "        x = self.dropout(x)\n",
    "        x = F.relu(self.fc4(x))\n",
    "        x = self.dropout(x)\n",
    "        x = F.relu(self.fc5(x))\n",
    "        return x\n",
    "    \n",
    "# model loss optimizer --- every machine learning model\n",
    "\n",
    "model = LinReg(inputDimension, hiddenDimension).to(device) # < ---- on the gpu\n",
    "optimizer = optim.SGD(model.parameters(), lr=0.01)\n",
    "criterion = nn.MSELoss()\n"
   ]
  },
  {
   "cell_type": "code",
   "execution_count": 39,
   "metadata": {},
   "outputs": [
    {
     "data": {
      "text/plain": [
       "LinReg(\n",
       "  (fc1): Linear(in_features=23, out_features=12, bias=True)\n",
       "  (fc2): Linear(in_features=12, out_features=12, bias=True)\n",
       "  (fc3): Linear(in_features=12, out_features=12, bias=True)\n",
       "  (fc4): Linear(in_features=12, out_features=12, bias=True)\n",
       "  (fc5): Linear(in_features=12, out_features=1, bias=True)\n",
       "  (dropout): Dropout(p=0.2)\n",
       ")"
      ]
     },
     "execution_count": 39,
     "metadata": {},
     "output_type": "execute_result"
    }
   ],
   "source": [
    "model"
   ]
  },
  {
   "cell_type": "markdown",
   "metadata": {},
   "source": [
    "\n",
    "first create a training dataset and a validation dataset:"
   ]
  },
  {
   "cell_type": "code",
   "execution_count": 40,
   "metadata": {},
   "outputs": [],
   "source": [
    "\n",
    "\n",
    "class trainDataset(Dataset):\n",
    "    def __init__(self):\n",
    "        self.x_data = trainData\n",
    "        self.y_data = trainTargets\n",
    "        self.len = trainData.shape[0]\n",
    "        \n",
    "    def __getitem__(self, index):\n",
    "        return self.x_data[index], self.y_data[index]\n",
    "    \n",
    "    def __len__(self):\n",
    "        return self.len\n",
    "        \n",
    "class validationDataset(Dataset):\n",
    "    def __init__(self):\n",
    "        self.x_data = validationData\n",
    "        self.y_data = validationTargets\n",
    "        self.len = validationData.shape[0]\n",
    "        \n",
    "    def __getitem__(self, index):\n",
    "        return self.x_data[index], self.y_data[index]\n",
    "    \n",
    "    def __len__(self):\n",
    "        return self.len\n",
    "        \n",
    "        \n",
    "tDataset = trainDataset()\n",
    "vDataset = validationDataset()"
   ]
  },
  {
   "cell_type": "markdown",
   "metadata": {},
   "source": [
    "training data loader goes here:"
   ]
  },
  {
   "cell_type": "code",
   "execution_count": 41,
   "metadata": {},
   "outputs": [],
   "source": [
    "\n",
    "\n",
    "trainDataLoader = DataLoader(dataset=tDataset,\n",
    "                            batch_size=4096,\n",
    "                            shuffle=False,\n",
    "                            num_workers=2)\n",
    "\n",
    "validationDataLoader = DataLoader(dataset=vDataset,\n",
    "                            batch_size=4096,\n",
    "                            shuffle=False,\n",
    "                            num_workers=2)"
   ]
  },
  {
   "cell_type": "markdown",
   "metadata": {},
   "source": [
    "training loop (changed code from https://github.com/sotte/pytorch_tutorial/blob/master/notebooks/03_transfer_learning.ipynb) goes here:\n",
    "\n",
    "\n",
    "This training loop needs severe improvement."
   ]
  },
  {
   "cell_type": "code",
   "execution_count": 42,
   "metadata": {},
   "outputs": [
    {
     "name": "stdout",
     "output_type": "stream",
     "text": [
      "Epoch 1/10\n",
      "    batch loss: 269.316\n",
      "    batch loss: 234.172\n",
      "    batch loss: 99.478\n",
      "    batch loss: 43.304\n",
      "    batch loss: 35.107\n",
      "    batch loss: 40.944\n",
      "    batch loss: 43.730\n",
      "    batch loss: 28.843\n",
      "    batch loss: 42.801\n",
      "  Train Loss: 91.31509958952047\n",
      "  Valid Loss: 102.25385351513673\n",
      "Epoch 2/10\n",
      "    batch loss: 80.923\n",
      "    batch loss: 32.466\n",
      "    batch loss: 29.749\n",
      "    batch loss: 29.163\n",
      "    batch loss: 28.423\n",
      "    batch loss: 24.892\n",
      "    batch loss: 38.875\n",
      "    batch loss: 24.698\n",
      "    batch loss: 33.502\n",
      "  Train Loss: 32.87774059750881\n",
      "  Valid Loss: 101.18467973730469\n",
      "Epoch 3/10\n",
      "    batch loss: 77.908\n",
      "    batch loss: 30.310\n",
      "    batch loss: 29.078\n",
      "    batch loss: 29.215\n",
      "    batch loss: 27.260\n",
      "    batch loss: 23.268\n",
      "    batch loss: 34.225\n",
      "    batch loss: 22.941\n",
      "    batch loss: 30.929\n",
      "  Train Loss: 30.85631372021649\n",
      "  Valid Loss: 101.33959273779297\n",
      "Epoch 4/10\n",
      "    batch loss: 76.502\n",
      "    batch loss: 29.677\n",
      "    batch loss: 26.647\n",
      "    batch loss: 28.507\n",
      "    batch loss: 26.060\n",
      "    batch loss: 22.167\n",
      "    batch loss: 32.926\n",
      "    batch loss: 23.498\n",
      "    batch loss: 31.823\n",
      "  Train Loss: 30.280140014445553\n",
      "  Valid Loss: 98.57055777197266\n",
      "Epoch 5/10\n",
      "    batch loss: 73.907\n",
      "    batch loss: 27.258\n",
      "    batch loss: 27.239\n",
      "    batch loss: 28.010\n",
      "    batch loss: 26.719\n",
      "    batch loss: 21.733\n",
      "    batch loss: 35.647\n",
      "    batch loss: 21.921\n",
      "    batch loss: 32.105\n",
      "  Train Loss: 29.80822218016278\n",
      "  Valid Loss: 101.25057095263672\n",
      "Epoch 6/10\n",
      "    batch loss: 75.193\n",
      "    batch loss: 28.490\n",
      "    batch loss: 29.094\n",
      "    batch loss: 28.286\n",
      "    batch loss: 25.421\n",
      "    batch loss: 21.534\n",
      "    batch loss: 33.836\n",
      "    batch loss: 23.195\n",
      "    batch loss: 31.963\n",
      "  Train Loss: 29.797573559791296\n",
      "  Valid Loss: 108.68778847509766\n",
      "Epoch 7/10\n",
      "    batch loss: 77.468\n",
      "    batch loss: 31.112\n",
      "    batch loss: 26.859\n",
      "    batch loss: 28.056\n",
      "    batch loss: 24.785\n",
      "    batch loss: 22.054\n",
      "    batch loss: 34.266\n",
      "    batch loss: 22.733\n",
      "    batch loss: 31.070\n",
      "  Train Loss: 29.80023916793546\n",
      "  Valid Loss: 104.28108503857422\n",
      "Epoch 8/10\n",
      "    batch loss: 76.605\n",
      "    batch loss: 28.034\n",
      "    batch loss: 26.700\n",
      "    batch loss: 28.730\n",
      "    batch loss: 26.358\n",
      "    batch loss: 21.757\n",
      "    batch loss: 34.007\n",
      "    batch loss: 23.057\n",
      "    batch loss: 33.318\n",
      "  Train Loss: 29.905761031485394\n",
      "  Valid Loss: 99.38540765673828\n",
      "Epoch 9/10\n",
      "    batch loss: 77.203\n",
      "    batch loss: 29.388\n",
      "    batch loss: 27.204\n",
      "    batch loss: 27.725\n",
      "    batch loss: 27.905\n",
      "    batch loss: 22.292\n",
      "    batch loss: 33.871\n",
      "    batch loss: 24.425\n",
      "    batch loss: 33.238\n",
      "  Train Loss: 29.878818945630417\n",
      "  Valid Loss: 101.55151998339844\n",
      "Epoch 10/10\n",
      "    batch loss: 75.924\n",
      "    batch loss: 26.748\n",
      "    batch loss: 26.493\n",
      "    batch loss: 28.390\n",
      "    batch loss: 26.686\n",
      "    batch loss: 21.256\n",
      "    batch loss: 33.014\n",
      "    batch loss: 23.739\n",
      "    batch loss: 30.978\n",
      "  Train Loss: 29.691617709713498\n",
      "  Valid Loss: 99.67990439648437\n"
     ]
    }
   ],
   "source": [
    "# STILL NEEDS HUGE IMPROVEMENT!\n",
    "\n",
    "\n",
    "\n",
    "\n",
    "\n",
    "\n",
    "\n",
    "\n",
    "\n",
    "N_EPOCHS = 10\n",
    "\n",
    "for epoch in range(N_EPOCHS):\n",
    "    print(f\"Epoch {epoch+1}/{N_EPOCHS}\")\n",
    "    \n",
    "    # Train\n",
    "    model.train()  # IMPORTANT\n",
    "    \n",
    "    running_loss, correct, count = 0.0, 0, 0\n",
    "    for X, y in trainDataLoader:\n",
    "        X, y = X.to(device), y.to(device) # <---------- send to device before training, after putting into dataset.\n",
    "        \n",
    "        optimizer.zero_grad()\n",
    "        # with torch.set_grad_enabled(True):\n",
    "        y_ = model(X)\n",
    "        loss = criterion(y_, y)\n",
    "\n",
    "        loss.backward()\n",
    "        optimizer.step()\n",
    "        \n",
    "        count = count + 1\n",
    "        \n",
    "        if count % 50 == 0:\n",
    "        # Statistics\n",
    "            print(f\"    batch loss: {loss.item():0.3f}\")\n",
    "            \n",
    "        _, y_label_ = torch.max(y_, 1)\n",
    "        #correct += (y_label_ == y).sum().item()\n",
    "        running_loss += loss.item() * X.shape[0]\n",
    "    \n",
    "    print(f\"  Train Loss: {running_loss / len(trainDataLoader.dataset)}\")\n",
    "    #print(f\"  Train Acc:  {correct / len(trainDataLoader.dataset)}\")\n",
    "    \n",
    "    count = 0\n",
    "    \n",
    "    # Eval\n",
    "    model.eval()  # IMPORTANT\n",
    "    \n",
    "    running_loss, correct = 0.0, 0\n",
    "    with torch.no_grad():  # IMPORTANT\n",
    "        for X, y in validationDataLoader:\n",
    "            X, y = X.to(device), y.to(device)\n",
    "                    \n",
    "            y_ = model(X)\n",
    "        \n",
    "            _, y_label_ = torch.max(y_, 1)\n",
    "            #correct += (y_label_ == y).sum().item()\n",
    "            \n",
    "            loss = criterion(y_, y)\n",
    "            running_loss += loss.item() * X.shape[0]\n",
    "    \n",
    "    print(f\"  Valid Loss: {running_loss / len(validationDataLoader.dataset)}\")"
   ]
  },
  {
   "cell_type": "code",
   "execution_count": null,
   "metadata": {},
   "outputs": [],
   "source": []
  },
  {
   "cell_type": "code",
   "execution_count": null,
   "metadata": {},
   "outputs": [],
   "source": []
  }
 ],
 "metadata": {
  "kernelspec": {
   "display_name": "Python 3",
   "language": "python",
   "name": "python3"
  },
  "language_info": {
   "codemirror_mode": {
    "name": "ipython",
    "version": 3
   },
   "file_extension": ".py",
   "mimetype": "text/x-python",
   "name": "python",
   "nbconvert_exporter": "python",
   "pygments_lexer": "ipython3",
   "version": "3.6.6"
  }
 },
 "nbformat": 4,
 "nbformat_minor": 2
}
