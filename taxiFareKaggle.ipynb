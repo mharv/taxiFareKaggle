{
 "cells": [
  {
   "cell_type": "markdown",
   "metadata": {},
   "source": [
    "From the Kaggle competition description:\n",
    "\n",
    "\"In this playground competition, hosted in partnership with Google Cloud and Coursera, you are tasked with predicting the fare amount (inclusive of tolls) for a taxi ride in New York City given the pickup and dropoff locations. While you can get a basic estimate based on just the distance between the two points, this will result in an RMSE of $5-$8, depending on the model used (see the starter code for an example of this approach in Kernels). Your challenge is to do better than this using Machine Learning techniques!\"\n",
    "\n"
   ]
  },
  {
   "cell_type": "code",
   "execution_count": 3,
   "metadata": {},
   "outputs": [],
   "source": [
    "import pandas as pd\n",
    "import numpy as np\n",
    "import seaborn as sns\n",
    "from tqdm import tqdm\n",
    "#from sklearn.model_selection import StratifiedShuffleSplit"
   ]
  },
  {
   "cell_type": "markdown",
   "metadata": {},
   "source": [
    "First issue: train.csv is massive! (5.7 gb) \n",
    "Therefore the file must be read and processed in chunks.\n",
    "However, when using pd.read_csv(PATH, chunksize=X), the data type returned is a 'TextFileReader' object.\n",
    "\n",
    "I do not know how to work with the chunksize argument so I'll just use a limited number of rows (10,000,000) for now.\n"
   ]
  },
  {
   "cell_type": "code",
   "execution_count": 4,
   "metadata": {},
   "outputs": [],
   "source": [
    "#trainRawChunks = pd.read_csv(\"/home/mitchell/Desktop/kaggleData/taxiFareKaggle/all/train.csv\", chunksize=500)\n",
    "#testRaw = pd.read_csv(\"/home/mitchell/Desktop/kaggleData/taxiFareKaggle/all/test.csv\")\n",
    "\n",
    "#count = 0\n",
    "#for chunk in trainRawChunks:\n",
    "#    print(chunk.shape)\n",
    "#    count += 1\n",
    "    \n",
    "#print(\"There are: \", 500 * count, \"rows\")\n",
    "    \n",
    "#trainRawChunks[0].head()"
   ]
  },
  {
   "cell_type": "code",
   "execution_count": 5,
   "metadata": {},
   "outputs": [],
   "source": [
    "numberOfSamples = 500000\n",
    "\n",
    "#LAPTOP PATH: \"/home/mitchell/Desktop/kaggleData/taxiFareKaggle/all/train.csv\"\n",
    "#DESKTOP PATH: \"/media/mitch/Data/kaggleData/taxiFareKaggleData/all/train.csv\"\n",
    "\n",
    "trainRawSegment = pd.read_csv(\"/media/mitch/Data/kaggleData/taxiFareKaggleData/all/train.csv\", nrows=numberOfSamples)\n",
    "\n",
    "\n"
   ]
  },
  {
   "cell_type": "markdown",
   "metadata": {},
   "source": [
    "My Laptop seems to be able to handle 5,000,000 lines of data quite easily (It only has 8 Gb of RAM). Since only a portion of the total data supplied is being used, this already gives the model a disadvantage but also room for improvement if needed."
   ]
  },
  {
   "cell_type": "code",
   "execution_count": 6,
   "metadata": {},
   "outputs": [
    {
     "name": "stdout",
     "output_type": "stream",
     "text": [
      "(500000, 8)\n"
     ]
    },
    {
     "data": {
      "text/html": [
       "<div>\n",
       "<style scoped>\n",
       "    .dataframe tbody tr th:only-of-type {\n",
       "        vertical-align: middle;\n",
       "    }\n",
       "\n",
       "    .dataframe tbody tr th {\n",
       "        vertical-align: top;\n",
       "    }\n",
       "\n",
       "    .dataframe thead th {\n",
       "        text-align: right;\n",
       "    }\n",
       "</style>\n",
       "<table border=\"1\" class=\"dataframe\">\n",
       "  <thead>\n",
       "    <tr style=\"text-align: right;\">\n",
       "      <th></th>\n",
       "      <th>key</th>\n",
       "      <th>fare_amount</th>\n",
       "      <th>pickup_datetime</th>\n",
       "      <th>pickup_longitude</th>\n",
       "      <th>pickup_latitude</th>\n",
       "      <th>dropoff_longitude</th>\n",
       "      <th>dropoff_latitude</th>\n",
       "      <th>passenger_count</th>\n",
       "    </tr>\n",
       "  </thead>\n",
       "  <tbody>\n",
       "    <tr>\n",
       "      <th>0</th>\n",
       "      <td>2009-06-15 17:26:21.0000001</td>\n",
       "      <td>4.5</td>\n",
       "      <td>2009-06-15 17:26:21 UTC</td>\n",
       "      <td>-73.844311</td>\n",
       "      <td>40.721319</td>\n",
       "      <td>-73.841610</td>\n",
       "      <td>40.712278</td>\n",
       "      <td>1</td>\n",
       "    </tr>\n",
       "    <tr>\n",
       "      <th>1</th>\n",
       "      <td>2010-01-05 16:52:16.0000002</td>\n",
       "      <td>16.9</td>\n",
       "      <td>2010-01-05 16:52:16 UTC</td>\n",
       "      <td>-74.016048</td>\n",
       "      <td>40.711303</td>\n",
       "      <td>-73.979268</td>\n",
       "      <td>40.782004</td>\n",
       "      <td>1</td>\n",
       "    </tr>\n",
       "    <tr>\n",
       "      <th>2</th>\n",
       "      <td>2011-08-18 00:35:00.00000049</td>\n",
       "      <td>5.7</td>\n",
       "      <td>2011-08-18 00:35:00 UTC</td>\n",
       "      <td>-73.982738</td>\n",
       "      <td>40.761270</td>\n",
       "      <td>-73.991242</td>\n",
       "      <td>40.750562</td>\n",
       "      <td>2</td>\n",
       "    </tr>\n",
       "    <tr>\n",
       "      <th>3</th>\n",
       "      <td>2012-04-21 04:30:42.0000001</td>\n",
       "      <td>7.7</td>\n",
       "      <td>2012-04-21 04:30:42 UTC</td>\n",
       "      <td>-73.987130</td>\n",
       "      <td>40.733143</td>\n",
       "      <td>-73.991567</td>\n",
       "      <td>40.758092</td>\n",
       "      <td>1</td>\n",
       "    </tr>\n",
       "    <tr>\n",
       "      <th>4</th>\n",
       "      <td>2010-03-09 07:51:00.000000135</td>\n",
       "      <td>5.3</td>\n",
       "      <td>2010-03-09 07:51:00 UTC</td>\n",
       "      <td>-73.968095</td>\n",
       "      <td>40.768008</td>\n",
       "      <td>-73.956655</td>\n",
       "      <td>40.783762</td>\n",
       "      <td>1</td>\n",
       "    </tr>\n",
       "  </tbody>\n",
       "</table>\n",
       "</div>"
      ],
      "text/plain": [
       "                             key  fare_amount          pickup_datetime  \\\n",
       "0    2009-06-15 17:26:21.0000001          4.5  2009-06-15 17:26:21 UTC   \n",
       "1    2010-01-05 16:52:16.0000002         16.9  2010-01-05 16:52:16 UTC   \n",
       "2   2011-08-18 00:35:00.00000049          5.7  2011-08-18 00:35:00 UTC   \n",
       "3    2012-04-21 04:30:42.0000001          7.7  2012-04-21 04:30:42 UTC   \n",
       "4  2010-03-09 07:51:00.000000135          5.3  2010-03-09 07:51:00 UTC   \n",
       "\n",
       "   pickup_longitude  pickup_latitude  dropoff_longitude  dropoff_latitude  \\\n",
       "0        -73.844311        40.721319         -73.841610         40.712278   \n",
       "1        -74.016048        40.711303         -73.979268         40.782004   \n",
       "2        -73.982738        40.761270         -73.991242         40.750562   \n",
       "3        -73.987130        40.733143         -73.991567         40.758092   \n",
       "4        -73.968095        40.768008         -73.956655         40.783762   \n",
       "\n",
       "   passenger_count  \n",
       "0                1  \n",
       "1                1  \n",
       "2                2  \n",
       "3                1  \n",
       "4                1  "
      ]
     },
     "execution_count": 6,
     "metadata": {},
     "output_type": "execute_result"
    }
   ],
   "source": [
    "print(trainRawSegment.shape)\n",
    "trainRawSegment.head()"
   ]
  },
  {
   "cell_type": "markdown",
   "metadata": {},
   "source": [
    "Firstly, the raw data will be shuffled even though there seems to be no pattern of how it was input to the dataset. This is so when the validation set is separated from the training set, there is a fair representation of data in each. However, scikit-learn's stratified shuffle split can be used to ensure that this happens. This function also does the separation of the two datasets automatically based on the argument that is passed. \n",
    "\n",
    "For this implementation, a simple shuffle of the dataset and then use of the head() and tail() functions will be used to create a 80/20 split of the raw data."
   ]
  },
  {
   "cell_type": "code",
   "execution_count": 7,
   "metadata": {},
   "outputs": [
    {
     "data": {
      "text/html": [
       "<div>\n",
       "<style scoped>\n",
       "    .dataframe tbody tr th:only-of-type {\n",
       "        vertical-align: middle;\n",
       "    }\n",
       "\n",
       "    .dataframe tbody tr th {\n",
       "        vertical-align: top;\n",
       "    }\n",
       "\n",
       "    .dataframe thead th {\n",
       "        text-align: right;\n",
       "    }\n",
       "</style>\n",
       "<table border=\"1\" class=\"dataframe\">\n",
       "  <thead>\n",
       "    <tr style=\"text-align: right;\">\n",
       "      <th></th>\n",
       "      <th>key</th>\n",
       "      <th>fare_amount</th>\n",
       "      <th>pickup_datetime</th>\n",
       "      <th>pickup_longitude</th>\n",
       "      <th>pickup_latitude</th>\n",
       "      <th>dropoff_longitude</th>\n",
       "      <th>dropoff_latitude</th>\n",
       "      <th>passenger_count</th>\n",
       "    </tr>\n",
       "  </thead>\n",
       "  <tbody>\n",
       "    <tr>\n",
       "      <th>194257</th>\n",
       "      <td>2014-06-17 18:09:09.0000001</td>\n",
       "      <td>24.5</td>\n",
       "      <td>2014-06-17 18:09:09 UTC</td>\n",
       "      <td>-74.010745</td>\n",
       "      <td>40.709325</td>\n",
       "      <td>-73.924750</td>\n",
       "      <td>40.690980</td>\n",
       "      <td>2</td>\n",
       "    </tr>\n",
       "    <tr>\n",
       "      <th>396319</th>\n",
       "      <td>2013-09-01 09:26:00.00000041</td>\n",
       "      <td>6.5</td>\n",
       "      <td>2013-09-01 09:26:00 UTC</td>\n",
       "      <td>-73.992822</td>\n",
       "      <td>40.728227</td>\n",
       "      <td>-74.002087</td>\n",
       "      <td>40.738277</td>\n",
       "      <td>2</td>\n",
       "    </tr>\n",
       "    <tr>\n",
       "      <th>138738</th>\n",
       "      <td>2010-06-29 21:19:00.000000216</td>\n",
       "      <td>6.9</td>\n",
       "      <td>2010-06-29 21:19:00 UTC</td>\n",
       "      <td>-73.990750</td>\n",
       "      <td>40.730687</td>\n",
       "      <td>-73.990847</td>\n",
       "      <td>40.749648</td>\n",
       "      <td>1</td>\n",
       "    </tr>\n",
       "    <tr>\n",
       "      <th>66570</th>\n",
       "      <td>2010-11-23 12:51:18.0000001</td>\n",
       "      <td>4.1</td>\n",
       "      <td>2010-11-23 12:51:18 UTC</td>\n",
       "      <td>-74.005450</td>\n",
       "      <td>40.745924</td>\n",
       "      <td>-73.998245</td>\n",
       "      <td>40.756035</td>\n",
       "      <td>1</td>\n",
       "    </tr>\n",
       "    <tr>\n",
       "      <th>149424</th>\n",
       "      <td>2009-11-24 15:50:59.0000002</td>\n",
       "      <td>11.7</td>\n",
       "      <td>2009-11-24 15:50:59 UTC</td>\n",
       "      <td>-73.980270</td>\n",
       "      <td>40.745946</td>\n",
       "      <td>-73.976583</td>\n",
       "      <td>40.780798</td>\n",
       "      <td>1</td>\n",
       "    </tr>\n",
       "  </tbody>\n",
       "</table>\n",
       "</div>"
      ],
      "text/plain": [
       "                                  key  fare_amount          pickup_datetime  \\\n",
       "194257    2014-06-17 18:09:09.0000001         24.5  2014-06-17 18:09:09 UTC   \n",
       "396319   2013-09-01 09:26:00.00000041          6.5  2013-09-01 09:26:00 UTC   \n",
       "138738  2010-06-29 21:19:00.000000216          6.9  2010-06-29 21:19:00 UTC   \n",
       "66570     2010-11-23 12:51:18.0000001          4.1  2010-11-23 12:51:18 UTC   \n",
       "149424    2009-11-24 15:50:59.0000002         11.7  2009-11-24 15:50:59 UTC   \n",
       "\n",
       "        pickup_longitude  pickup_latitude  dropoff_longitude  \\\n",
       "194257        -74.010745        40.709325         -73.924750   \n",
       "396319        -73.992822        40.728227         -74.002087   \n",
       "138738        -73.990750        40.730687         -73.990847   \n",
       "66570         -74.005450        40.745924         -73.998245   \n",
       "149424        -73.980270        40.745946         -73.976583   \n",
       "\n",
       "        dropoff_latitude  passenger_count  \n",
       "194257         40.690980                2  \n",
       "396319         40.738277                2  \n",
       "138738         40.749648                1  \n",
       "66570          40.756035                1  \n",
       "149424         40.780798                1  "
      ]
     },
     "execution_count": 7,
     "metadata": {},
     "output_type": "execute_result"
    }
   ],
   "source": [
    "np.random.seed(0)\n",
    "trainRawSegment = trainRawSegment.iloc[np.random.permutation(np.arange(len(trainRawSegment)))]\n",
    "trainRawSegment.head()"
   ]
  },
  {
   "cell_type": "code",
   "execution_count": 8,
   "metadata": {},
   "outputs": [],
   "source": [
    "#must typecast to int for head and tail to work as it doesn't handle floating point numbers.\n",
    "\n",
    "train = trainRawSegment.head(int(numberOfSamples*0.8))\n",
    "validation = trainRawSegment.tail(int(numberOfSamples*0.2))"
   ]
  },
  {
   "cell_type": "code",
   "execution_count": 9,
   "metadata": {},
   "outputs": [
    {
     "name": "stdout",
     "output_type": "stream",
     "text": [
      "(400000, 8)\n",
      "(100000, 8)\n"
     ]
    }
   ],
   "source": [
    "print(train.shape)\n",
    "print(validation.shape)"
   ]
  },
  {
   "cell_type": "markdown",
   "metadata": {},
   "source": [
    "Looking through the data, things that stand out are dates and times in the \"key\" & \"pickup_datetime\" columns. These could be split into separate individual features and checked for correlation with \"fare_amount\". The pairs of longitude and latitude features could be made into cross features. Time could be bucketed into morning, afternoon and evening categories."
   ]
  },
  {
   "cell_type": "code",
   "execution_count": 10,
   "metadata": {},
   "outputs": [
    {
     "name": "stdout",
     "output_type": "stream",
     "text": [
      "8\n"
     ]
    }
   ],
   "source": [
    "train[\"passenger_count\"].value_counts()\n",
    "print(len(train.columns))"
   ]
  },
  {
   "cell_type": "markdown",
   "metadata": {},
   "source": [
    "Inspection of the \"passenger_count\" column shows some crazy errors. specifically the taxis that were able to fit 49 to 208 passengers in the one trip. In all seriousness, this looks like an input error or error code. The trips that noted 9 passengers down are a bit of a mystery, as either it was a data entry error or possibly those taxis did actually have that many passengers. \n",
    "\n",
    "These outliers (passenger_count > 6) will be removed from the dataset as they hold such an insignificant percentage of data 11/5,000,000."
   ]
  },
  {
   "cell_type": "code",
   "execution_count": 11,
   "metadata": {},
   "outputs": [
    {
     "name": "stdout",
     "output_type": "stream",
     "text": [
      "train is now  400000 rows long\n"
     ]
    },
    {
     "data": {
      "text/plain": [
       "1    276829\n",
       "2     59140\n",
       "5     28238\n",
       "3     17460\n",
       "4      8466\n",
       "6      8432\n",
       "0      1435\n",
       "Name: passenger_count, dtype: int64"
      ]
     },
     "execution_count": 11,
     "metadata": {},
     "output_type": "execute_result"
    }
   ],
   "source": [
    "#removing the weird passenger count \n",
    "train = train.drop(train[train.passenger_count > 6].index)\n",
    "print(\"train is now \", int(train.size/len(train.columns)), \"rows long\")\n",
    "train[\"passenger_count\"].value_counts()"
   ]
  },
  {
   "cell_type": "code",
   "execution_count": 12,
   "metadata": {},
   "outputs": [
    {
     "data": {
      "image/png": "[encoded data removed]",
      "text/plain": [
       "<Figure size 432x288 with 1 Axes>"
      ]
     },
     "metadata": {
      "needs_background": "light"
     },
     "output_type": "display_data"
    }
   ],
   "source": [
    "%matplotlib inline\n",
    "import matplotlib.pyplot as plt\n",
    "train[\"passenger_count\"].hist(bins=10, range=(0, 8))\n",
    "plt.show()"
   ]
  },
  {
   "cell_type": "markdown",
   "metadata": {},
   "source": [
    "Using pandas corr function, the correlation between columns can be acquired.  "
   ]
  },
  {
   "cell_type": "code",
   "execution_count": 13,
   "metadata": {},
   "outputs": [
    {
     "data": {
      "text/plain": [
       "fare_amount          1.000000\n",
       "pickup_longitude     0.010054\n",
       "pickup_latitude     -0.008599\n",
       "dropoff_longitude    0.010870\n",
       "dropoff_latitude    -0.008449\n",
       "passenger_count      0.013913\n",
       "Name: fare_amount, dtype: float64"
      ]
     },
     "execution_count": 13,
     "metadata": {},
     "output_type": "execute_result"
    }
   ],
   "source": [
    "corrMatrix = train.corr()\n",
    "corrMatrix[\"fare_amount\"]"
   ]
  },
  {
   "cell_type": "markdown",
   "metadata": {},
   "source": [
    "There is no feature that has an obvious correlation with fare_amount. Passenger_count has the highest correlation with the target value fare_amount out of the data provided. This is probably due to larger groups of people taking longer trips together to save on costs.\n",
    "\n",
    "As this function only provides correlation of linear relationships, it is missing out on the non-linear relationships. Next up, testing with different combinations of features. The main combination that will be tested is distance travelled. This will be found by taking the absolute of pythagorean distance of pickup_longitude minus dropoff_longitude and pickup_latitude minus dropoff_latitude.  "
   ]
  },
  {
   "cell_type": "markdown",
   "metadata": {},
   "source": [
    "This next code iterates through the training set, calculating the distance between pickup and dropoff locations and assigning them to the distance_travelled column."
   ]
  },
  {
   "cell_type": "code",
   "execution_count": 14,
   "metadata": {},
   "outputs": [
    {
     "data": {
      "text/plain": [
       "'\\n\\n# https://stackoverflow.com/questions/19412462/getting-distance-between-two-points-based-on-latitude-longitude\\n\\nfrom math import sin, cos, sqrt, atan2, radians\\n\\ntrain.loc[:, \"distance_travelled\"] = np.nan\\n\\ntrainLength = len(train[\"passenger_count\"])\\n\\n# approximate radius of earth in km\\nR = 6373.0\\n\\nfor i in tqdm(range(trainLength)):\\n    lat1 = radians(train[\"pickup_latitude\"].iloc[i])\\n    lon1 = radians(train[\"pickup_longitude\"].iloc[i])\\n    lat2 = radians(train[\"dropoff_latitude\"].iloc[i])\\n    lon2 = radians(train[\"dropoff_longitude\"].iloc[i])\\n    \\n    dlon = lon2 - lon1\\n    dlat = lat2 - lat1\\n    \\n    a = sin(dlat / 2)**2 + cos(lat1) * cos(lat2) * sin(dlon / 2)**2\\n    c = 2 * atan2(sqrt(a), sqrt(1 - a))\\n    \\n    train.loc[train.index[i], \"distance_travelled\"] = R * c\\n    \\ntrain.head()\\n'"
      ]
     },
     "execution_count": 14,
     "metadata": {},
     "output_type": "execute_result"
    }
   ],
   "source": [
    "##################################################################\n",
    "#\n",
    "#\n",
    "#         DONT RUN THIS CELL\n",
    "#       This has been kept to show what not to do!\n",
    "#\n",
    "#\n",
    "##################################################################\n",
    "'''\n",
    "\n",
    "# https://stackoverflow.com/questions/19412462/getting-distance-between-two-points-based-on-latitude-longitude\n",
    "\n",
    "from math import sin, cos, sqrt, atan2, radians\n",
    "\n",
    "train.loc[:, \"distance_travelled\"] = np.nan\n",
    "\n",
    "trainLength = len(train[\"passenger_count\"])\n",
    "\n",
    "# approximate radius of earth in km\n",
    "R = 6373.0\n",
    "\n",
    "for i in tqdm(range(trainLength)):\n",
    "    lat1 = radians(train[\"pickup_latitude\"].iloc[i])\n",
    "    lon1 = radians(train[\"pickup_longitude\"].iloc[i])\n",
    "    lat2 = radians(train[\"dropoff_latitude\"].iloc[i])\n",
    "    lon2 = radians(train[\"dropoff_longitude\"].iloc[i])\n",
    "    \n",
    "    dlon = lon2 - lon1\n",
    "    dlat = lat2 - lat1\n",
    "    \n",
    "    a = sin(dlat / 2)**2 + cos(lat1) * cos(lat2) * sin(dlon / 2)**2\n",
    "    c = 2 * atan2(sqrt(a), sqrt(1 - a))\n",
    "    \n",
    "    train.loc[train.index[i], \"distance_travelled\"] = R * c\n",
    "    \n",
    "train.head()\n",
    "'''\n",
    "\n",
    "\n"
   ]
  },
  {
   "cell_type": "markdown",
   "metadata": {},
   "source": [
    "Using tqdm on the iterator, we see that this calculation will take approx. 72 hours for the 4 million samples. This is way too long. I'm going to have to figure out another way to calculate this feature. (cython, some other software that is fast dealing with large datasets)."
   ]
  },
  {
   "cell_type": "markdown",
   "metadata": {},
   "source": [
    "Before processing latitude and longitude, I should have inspected the data thoroughly beforehand. Using the tool provided on https://www.mapdevelopers.com/geocode_bounding_box.php I can get a bounding box around new york city, find minimum and maximum latitude and longitude values, and filter the training data using the found values. This should remove any errors acquired at time of input, and remove any locations that have been input that arent in new york city. \n",
    "![new york city latitude and longitude limits](img/boundingBox.png)"
   ]
  },
  {
   "cell_type": "markdown",
   "metadata": {},
   "source": [
    "Using the latitude and longitude bounds created by the map developer tool above, I'll add an extra +/- 1 to longitude and +/- 0.5 to latitude and filter using the values. This is done to include any trips that begin/end in the outer suburbs. These values could be tweaked to increase the area sample size as well. "
   ]
  },
  {
   "cell_type": "code",
   "execution_count": 15,
   "metadata": {},
   "outputs": [
    {
     "name": "stdout",
     "output_type": "stream",
     "text": [
      "train was  400000 rows long\n",
      "train is now  391676 rows long\n"
     ]
    }
   ],
   "source": [
    "# change these values to increase/decrease bounding box size\n",
    "longitudeBound = np.array([-72.7, -75.26])\n",
    "latitudeBound = np.array([41.42, 39.98])\n",
    "\n",
    "print(\"train was \", int(train.size/len(train.columns)), \"rows long\")\n",
    "\n",
    "# longitudes first\n",
    "train = train.drop(train[train.pickup_longitude > longitudeBound[0]].index)\n",
    "train = train.drop(train[train.pickup_longitude < longitudeBound[1]].index)\n",
    "train = train.drop(train[train.dropoff_longitude > longitudeBound[0]].index)\n",
    "train = train.drop(train[train.dropoff_longitude < longitudeBound[1]].index)\n",
    "\n",
    "# now the latitudes\n",
    "train = train.drop(train[train.pickup_latitude > latitudeBound[0]].index)\n",
    "train = train.drop(train[train.pickup_latitude < latitudeBound[1]].index)\n",
    "train = train.drop(train[train.dropoff_latitude > latitudeBound[0]].index)\n",
    "train = train.drop(train[train.dropoff_latitude < latitudeBound[1]].index)\n",
    "\n",
    "print(\"train is now \", int(train.size/len(train.columns)), \"rows long\")\n",
    "\n",
    "#removing the weird passenger count \n",
    "#train = train.drop(train[train.passenger_count > 6].index)\n",
    "#print(\"train is now \", int(train.size/len(train.columns)), \"rows long\")\n",
    "#train[\"passenger_count\"].value_counts()"
   ]
  },
  {
   "cell_type": "markdown",
   "metadata": {},
   "source": [
    "Next up, I'm going to sort the pickup_datetime column into individual columns. This is so I can categorize and bucketize parameters individually. Also, I believe I can safely remove the key column as this just seems to have the same info but in a worse format. "
   ]
  },
  {
   "cell_type": "code",
   "execution_count": 16,
   "metadata": {},
   "outputs": [
    {
     "data": {
      "text/html": [
       "<div>\n",
       "<style scoped>\n",
       "    .dataframe tbody tr th:only-of-type {\n",
       "        vertical-align: middle;\n",
       "    }\n",
       "\n",
       "    .dataframe tbody tr th {\n",
       "        vertical-align: top;\n",
       "    }\n",
       "\n",
       "    .dataframe thead th {\n",
       "        text-align: right;\n",
       "    }\n",
       "</style>\n",
       "<table border=\"1\" class=\"dataframe\">\n",
       "  <thead>\n",
       "    <tr style=\"text-align: right;\">\n",
       "      <th></th>\n",
       "      <th>fare_amount</th>\n",
       "      <th>pickup_datetime</th>\n",
       "      <th>pickup_longitude</th>\n",
       "      <th>pickup_latitude</th>\n",
       "      <th>dropoff_longitude</th>\n",
       "      <th>dropoff_latitude</th>\n",
       "      <th>passenger_count</th>\n",
       "    </tr>\n",
       "  </thead>\n",
       "  <tbody>\n",
       "    <tr>\n",
       "      <th>194257</th>\n",
       "      <td>24.5</td>\n",
       "      <td>2014-06-17 18:09:09 UTC</td>\n",
       "      <td>-74.010745</td>\n",
       "      <td>40.709325</td>\n",
       "      <td>-73.924750</td>\n",
       "      <td>40.690980</td>\n",
       "      <td>2</td>\n",
       "    </tr>\n",
       "    <tr>\n",
       "      <th>396319</th>\n",
       "      <td>6.5</td>\n",
       "      <td>2013-09-01 09:26:00 UTC</td>\n",
       "      <td>-73.992822</td>\n",
       "      <td>40.728227</td>\n",
       "      <td>-74.002087</td>\n",
       "      <td>40.738277</td>\n",
       "      <td>2</td>\n",
       "    </tr>\n",
       "    <tr>\n",
       "      <th>138738</th>\n",
       "      <td>6.9</td>\n",
       "      <td>2010-06-29 21:19:00 UTC</td>\n",
       "      <td>-73.990750</td>\n",
       "      <td>40.730687</td>\n",
       "      <td>-73.990847</td>\n",
       "      <td>40.749648</td>\n",
       "      <td>1</td>\n",
       "    </tr>\n",
       "    <tr>\n",
       "      <th>66570</th>\n",
       "      <td>4.1</td>\n",
       "      <td>2010-11-23 12:51:18 UTC</td>\n",
       "      <td>-74.005450</td>\n",
       "      <td>40.745924</td>\n",
       "      <td>-73.998245</td>\n",
       "      <td>40.756035</td>\n",
       "      <td>1</td>\n",
       "    </tr>\n",
       "    <tr>\n",
       "      <th>149424</th>\n",
       "      <td>11.7</td>\n",
       "      <td>2009-11-24 15:50:59 UTC</td>\n",
       "      <td>-73.980270</td>\n",
       "      <td>40.745946</td>\n",
       "      <td>-73.976583</td>\n",
       "      <td>40.780798</td>\n",
       "      <td>1</td>\n",
       "    </tr>\n",
       "  </tbody>\n",
       "</table>\n",
       "</div>"
      ],
      "text/plain": [
       "        fare_amount          pickup_datetime  pickup_longitude  \\\n",
       "194257         24.5  2014-06-17 18:09:09 UTC        -74.010745   \n",
       "396319          6.5  2013-09-01 09:26:00 UTC        -73.992822   \n",
       "138738          6.9  2010-06-29 21:19:00 UTC        -73.990750   \n",
       "66570           4.1  2010-11-23 12:51:18 UTC        -74.005450   \n",
       "149424         11.7  2009-11-24 15:50:59 UTC        -73.980270   \n",
       "\n",
       "        pickup_latitude  dropoff_longitude  dropoff_latitude  passenger_count  \n",
       "194257        40.709325         -73.924750         40.690980                2  \n",
       "396319        40.728227         -74.002087         40.738277                2  \n",
       "138738        40.730687         -73.990847         40.749648                1  \n",
       "66570         40.745924         -73.998245         40.756035                1  \n",
       "149424        40.745946         -73.976583         40.780798                1  "
      ]
     },
     "execution_count": 16,
     "metadata": {},
     "output_type": "execute_result"
    }
   ],
   "source": [
    "train = train.drop(\"key\", axis=1)"
   ]
  },
  {
   "cell_type": "code",
   "execution_count": 17,
   "metadata": {},
   "outputs": [
    {
     "data": {
      "text/plain": [
       "fare_amount                 float64\n",
       "pickup_datetime      datetime64[ns]\n",
       "pickup_longitude            float64\n",
       "pickup_latitude             float64\n",
       "dropoff_longitude           float64\n",
       "dropoff_latitude            float64\n",
       "passenger_count               int64\n",
       "dtype: object"
      ]
     },
     "execution_count": 17,
     "metadata": {},
     "output_type": "execute_result"
    }
   ],
   "source": [
    "train[\"pickup_datetime\"] = pd.to_datetime(train[\"pickup_datetime\"])\n",
    "train.dtypes"
   ]
  },
  {
   "cell_type": "code",
   "execution_count": 18,
   "metadata": {},
   "outputs": [],
   "source": [
    "train['year'] = train['pickup_datetime'].dt.year\n",
    "train['month'] = train['pickup_datetime'].dt.month\n",
    "train['date'] = train['pickup_datetime'].dt.day\n",
    "train['day'] = train['pickup_datetime'].dt.dayofweek\n",
    "train['hour'] = train['pickup_datetime'].dt.hour"
   ]
  },
  {
   "cell_type": "markdown",
   "metadata": {},
   "source": [
    "After seperating the datetime field into different units of time, I can do some analysis. First I'll check what year all this data has come from. "
   ]
  },
  {
   "cell_type": "code",
   "execution_count": 19,
   "metadata": {},
   "outputs": [
    {
     "data": {
      "image/png": "[encoded data removed]",
      "text/plain": [
       "<Figure size 432x288 with 1 Axes>"
      ]
     },
     "metadata": {
      "needs_background": "light"
     },
     "output_type": "display_data"
    }
   ],
   "source": [
    "train[\"year\"].hist(bins=7)\n",
    "plt.show()"
   ]
  },
  {
   "cell_type": "markdown",
   "metadata": {},
   "source": [
    "Obviously the data hasnt been sampled throughout the entire year of 2015 and i have only got data from approximately half the year here. Im just going to confirm that by plotting a scatterplot of month against year."
   ]
  },
  {
   "cell_type": "code",
   "execution_count": 20,
   "metadata": {},
   "outputs": [
    {
     "data": {
      "image/png": "[encoded data removed]",
      "text/plain": [
       "<Figure size 1080x504 with 1 Axes>"
      ]
     },
     "metadata": {
      "needs_background": "light"
     },
     "output_type": "display_data"
    }
   ],
   "source": [
    "plt.figure(figsize=(15,7))\n",
    "plt.scatter(x=train['month'], y=train['year'], s=1.5)\n",
    "plt.xlabel('month')\n",
    "plt.ylabel('year')\n",
    "plt.show()"
   ]
  },
  {
   "cell_type": "markdown",
   "metadata": {},
   "source": [
    "As predicted, the data only goes up to june 2015. There was no way that taxi rides dropped in popularity that severely."
   ]
  },
  {
   "cell_type": "code",
   "execution_count": 21,
   "metadata": {},
   "outputs": [
    {
     "data": {
      "text/plain": [
       "fare_amount          1.000000\n",
       "pickup_longitude     0.367308\n",
       "pickup_latitude     -0.182040\n",
       "dropoff_longitude    0.288988\n",
       "dropoff_latitude    -0.149473\n",
       "passenger_count      0.014746\n",
       "year                 0.115434\n",
       "month                0.024509\n",
       "date                 0.002469\n",
       "day                  0.003924\n",
       "hour                -0.019750\n",
       "Name: fare_amount, dtype: float64"
      ]
     },
     "execution_count": 21,
     "metadata": {},
     "output_type": "execute_result"
    }
   ],
   "source": [
    "corrMatrix = train.corr()\n",
    "corrMatrix[\"fare_amount\"]"
   ]
  },
  {
   "cell_type": "markdown",
   "metadata": {},
   "source": [
    "Seems after cancelling out a bunch of longitude and latitudes, the pickup and dropoff longitude shows much stronger correlation than before. \n",
    "\n",
    "When was rush hour in NYC in the year 2012? this could be a valuable parameter that correlates well with fare amount. According to a local, \"Rush hour in NYC is usually from about 7:00am-10:00am and 4:00pm-7:00pm during the week\". With this info we can create a new boolean feature called rush_hour."
   ]
  },
  {
   "cell_type": "code",
   "execution_count": 22,
   "metadata": {},
   "outputs": [],
   "source": [
    "train[\"rush_hour\"] = ((train[\"hour\"] < 10) & (train[\"hour\"] > 7)) | ((train[\"hour\"] < 19) & (train[\"hour\"] > 16))"
   ]
  },
  {
   "cell_type": "markdown",
   "metadata": {},
   "source": [
    "Which days fall on weekends? which are during the week? I believe this parameter might have strong correlation with fare amount. Using dt.dayofweek results in values for the day of the week being Monday=0, Sunday=6."
   ]
  },
  {
   "cell_type": "code",
   "execution_count": 24,
   "metadata": {},
   "outputs": [
    {
     "data": {
      "image/png": "[encoded data removed]",
      "text/plain": [
       "<Figure size 1080x504 with 1 Axes>"
      ]
     },
     "metadata": {
      "needs_background": "light"
     },
     "output_type": "display_data"
    }
   ],
   "source": [
    "plt.figure(figsize=(15,7))\n",
    "plt.scatter(x=train['hour'], y=train['fare_amount'], s=1.5)\n",
    "plt.xlabel('Hour')\n",
    "plt.ylabel('Fare')\n",
    "plt.show()"
   ]
  },
  {
   "cell_type": "markdown",
   "metadata": {},
   "source": [
    "I was hoping to reveal some interesting insight to how fares differ by looking at the fare_amount vs. hour scatterplot. Unfortunatley, not a huge distinction between AM/PM, night/day can be identified. However, an obvious fault in the dataset did occur. We can see some records have negative fare_amounts. This doesn't make any sense, so I'll remove them. Also a few huge fare amounts are recorded (400 - 980) but I'll leave them for now."
   ]
  },
  {
   "cell_type": "code",
   "execution_count": 25,
   "metadata": {},
   "outputs": [
    {
     "name": "stdout",
     "output_type": "stream",
     "text": [
      "train was  391676 rows long\n",
      "train is now  391660 rows long\n"
     ]
    }
   ],
   "source": [
    "print(\"train was \", int(train.size/len(train.columns)), \"rows long\")\n",
    "train = train.drop(train[train.fare_amount < 0].index)\n",
    "train.describe()\n",
    "print(\"train is now \", int(train.size/len(train.columns)), \"rows long\")"
   ]
  },
  {
   "cell_type": "markdown",
   "metadata": {},
   "source": [
    "Awesome, no negative fare pricings (though a cost of zero seems a little strange but possible).\n",
    "Next up, an attempt at vectorizing the distance travelled calculation."
   ]
  },
  {
   "cell_type": "code",
   "execution_count": 26,
   "metadata": {},
   "outputs": [],
   "source": [
    "# approximate radius of earth in km\n",
    "R = 6373.0\n",
    "\n",
    "lat1 = np.radians(np.array(train[\"pickup_latitude\"]))\n",
    "lon1 = np.radians(np.array(train[\"pickup_longitude\"]))\n",
    "lat2 = np.radians(np.array(train[\"dropoff_latitude\"]))\n",
    "lon2 = np.radians(np.array(train[\"dropoff_longitude\"]))\n",
    "    \n",
    "dlon = lon2 - lon1\n",
    "dlat = lat2 - lat1\n",
    "    \n",
    "a = np.sin(dlat / 2)**2 + np.cos(lat1) * np.cos(lat2) * np.sin(dlon / 2)**2\n",
    "c = 2 * np.arctan2(np.sqrt(a), np.sqrt(1 - a))\n",
    "    \n",
    "train[\"distance_travelled\"] = c * R"
   ]
  },
  {
   "cell_type": "markdown",
   "metadata": {},
   "source": [
    "WOah! after learning about how to use numpy properly, I tried vectorizing the equation using the built in numpy functions which resulted in insane speed. This really shows the power of the numpy library when comparing to how I previously coded it using a for loop and math library functions. 72 hours vs. approx. 100ms... actually insane.\n",
    "\n",
    "Now that I have The distance travelled (point to point, not directly following the exact route taken) I can test the correlation between fare amount and distance travelled."
   ]
  },
  {
   "cell_type": "code",
   "execution_count": 27,
   "metadata": {},
   "outputs": [
    {
     "name": "stdout",
     "output_type": "stream",
     "text": [
      "fare_amount           1.000000\n",
      "pickup_longitude      0.367412\n",
      "pickup_latitude      -0.182058\n",
      "dropoff_longitude     0.289168\n",
      "dropoff_latitude     -0.149487\n",
      "passenger_count       0.014744\n",
      "year                  0.115483\n",
      "month                 0.024433\n",
      "date                  0.002480\n",
      "day                   0.003950\n",
      "hour                 -0.019770\n",
      "rush_hour            -0.017939\n",
      "distance_travelled    0.803089\n",
      "Name: fare_amount, dtype: float64\n",
      " \n",
      "count    391657.000000\n",
      "mean          3.330704\n",
      "std           3.769211\n",
      "min           0.000000\n",
      "25%           1.255258\n",
      "50%           2.151759\n",
      "75%           3.922107\n",
      "max         110.867870\n",
      "Name: distance_travelled, dtype: float64\n"
     ]
    }
   ],
   "source": [
    "corrMatrix = train.corr()\n",
    "print(corrMatrix[\"fare_amount\"])\n",
    "print(\" \")\n",
    "print(train[\"distance_travelled\"].describe())"
   ]
  },
  {
   "cell_type": "markdown",
   "metadata": {},
   "source": [
    "As expected, a really strong correlation occurs. I'm now going to have a quick look at the data using the describe function. As above, it seems that most of the data falls within an expected range, however, the largest value is 132 kilometers, which seems really unbelievable. I am going to plot the distance travelled against pickup latitude to try visualize outliers. \n",
    "\n",
    "After plotting distance travelled vs pickup latitude, I found the plot difficult to read. though there were some strange patterns occuring, I thought perhaps they were natural and not a bug/data entry error (considering there may be some really common tourist destinations that alot of people from a common pickup location, such as the airport, could be the case). I then decided to plot year vs distance travelled and found some interesting patterns as below..."
   ]
  },
  {
   "cell_type": "code",
   "execution_count": 28,
   "metadata": {},
   "outputs": [
    {
     "data": {
      "image/png": "[encoded data removed]",
      "text/plain": [
       "<Figure size 1080x504 with 1 Axes>"
      ]
     },
     "metadata": {
      "needs_background": "light"
     },
     "output_type": "display_data"
    }
   ],
   "source": [
    "plt.figure(figsize=(15,7))\n",
    "plt.scatter(x=train['distance_travelled'], y=train['year'], s=1.5)\n",
    "plt.xlabel('distance_travelled')\n",
    "plt.ylabel('year')\n",
    "plt.show()"
   ]
  },
  {
   "cell_type": "markdown",
   "metadata": {},
   "source": [
    "Looking at distance travelled against year, it seems like alot of the longer rides start to cease at around 2011-2012. I was thinking that a public transport system to the airport had gone live or something along those lines, but in fact, Uber went live in May 2011 according to wikipedia, and I think this would have had a large enough impact to change these trends."
   ]
  },
  {
   "cell_type": "markdown",
   "metadata": {},
   "source": [
    "NEXT UP:\n",
    "\n",
    "- should i do some bucketizing? (months into seasons, winter may have a higher taxi trip rate) \n",
    "- I still need to standardize or normalize the quantative features (only fitting the transformer to the training data, then, transforming the training, test and future data) .  \n",
    "- I should treat the date-based features as categorical instead of a quantative variable. (One hot encoding)"
   ]
  },
  {
   "cell_type": "code",
   "execution_count": 29,
   "metadata": {},
   "outputs": [
    {
     "data": {
      "text/plain": [
       "fare_amount                  float64\n",
       "pickup_datetime       datetime64[ns]\n",
       "pickup_longitude             float64\n",
       "pickup_latitude              float64\n",
       "dropoff_longitude            float64\n",
       "dropoff_latitude             float64\n",
       "passenger_count                int64\n",
       "year                           int64\n",
       "month                          int64\n",
       "date                           int64\n",
       "day                            int64\n",
       "hour                           int64\n",
       "rush_hour                      int64\n",
       "distance_travelled           float64\n",
       "dtype: object"
      ]
     },
     "execution_count": 29,
     "metadata": {},
     "output_type": "execute_result"
    }
   ],
   "source": [
    "train.rush_hour = train.rush_hour.astype(int)\n",
    "train.dtypes"
   ]
  },
  {
   "cell_type": "code",
   "execution_count": 30,
   "metadata": {},
   "outputs": [
    {
     "data": {
      "text/html": [
       "<div>\n",
       "<style scoped>\n",
       "    .dataframe tbody tr th:only-of-type {\n",
       "        vertical-align: middle;\n",
       "    }\n",
       "\n",
       "    .dataframe tbody tr th {\n",
       "        vertical-align: top;\n",
       "    }\n",
       "\n",
       "    .dataframe thead th {\n",
       "        text-align: right;\n",
       "    }\n",
       "</style>\n",
       "<table border=\"1\" class=\"dataframe\">\n",
       "  <thead>\n",
       "    <tr style=\"text-align: right;\">\n",
       "      <th></th>\n",
       "      <th>fare_amount</th>\n",
       "      <th>pickup_datetime</th>\n",
       "      <th>pickup_longitude</th>\n",
       "      <th>pickup_latitude</th>\n",
       "      <th>dropoff_longitude</th>\n",
       "      <th>dropoff_latitude</th>\n",
       "      <th>passenger_count</th>\n",
       "      <th>year</th>\n",
       "      <th>month</th>\n",
       "      <th>date</th>\n",
       "      <th>day</th>\n",
       "      <th>hour</th>\n",
       "      <th>rush_hour</th>\n",
       "      <th>distance_travelled</th>\n",
       "    </tr>\n",
       "  </thead>\n",
       "  <tbody>\n",
       "    <tr>\n",
       "      <th>194257</th>\n",
       "      <td>24.5</td>\n",
       "      <td>2014-06-17 18:09:09</td>\n",
       "      <td>-74.010745</td>\n",
       "      <td>40.709325</td>\n",
       "      <td>-73.924750</td>\n",
       "      <td>40.690980</td>\n",
       "      <td>2</td>\n",
       "      <td>2014</td>\n",
       "      <td>6</td>\n",
       "      <td>17</td>\n",
       "      <td>1</td>\n",
       "      <td>18</td>\n",
       "      <td>1</td>\n",
       "      <td>7.533312</td>\n",
       "    </tr>\n",
       "    <tr>\n",
       "      <th>396319</th>\n",
       "      <td>6.5</td>\n",
       "      <td>2013-09-01 09:26:00</td>\n",
       "      <td>-73.992822</td>\n",
       "      <td>40.728227</td>\n",
       "      <td>-74.002087</td>\n",
       "      <td>40.738277</td>\n",
       "      <td>2</td>\n",
       "      <td>2013</td>\n",
       "      <td>9</td>\n",
       "      <td>1</td>\n",
       "      <td>6</td>\n",
       "      <td>9</td>\n",
       "      <td>1</td>\n",
       "      <td>1.363604</td>\n",
       "    </tr>\n",
       "    <tr>\n",
       "      <th>138738</th>\n",
       "      <td>6.9</td>\n",
       "      <td>2010-06-29 21:19:00</td>\n",
       "      <td>-73.990750</td>\n",
       "      <td>40.730687</td>\n",
       "      <td>-73.990847</td>\n",
       "      <td>40.749648</td>\n",
       "      <td>1</td>\n",
       "      <td>2010</td>\n",
       "      <td>6</td>\n",
       "      <td>29</td>\n",
       "      <td>1</td>\n",
       "      <td>21</td>\n",
       "      <td>0</td>\n",
       "      <td>2.109045</td>\n",
       "    </tr>\n",
       "    <tr>\n",
       "      <th>66570</th>\n",
       "      <td>4.1</td>\n",
       "      <td>2010-11-23 12:51:18</td>\n",
       "      <td>-74.005450</td>\n",
       "      <td>40.745924</td>\n",
       "      <td>-73.998245</td>\n",
       "      <td>40.756035</td>\n",
       "      <td>1</td>\n",
       "      <td>2010</td>\n",
       "      <td>11</td>\n",
       "      <td>23</td>\n",
       "      <td>1</td>\n",
       "      <td>12</td>\n",
       "      <td>0</td>\n",
       "      <td>1.278050</td>\n",
       "    </tr>\n",
       "    <tr>\n",
       "      <th>149424</th>\n",
       "      <td>11.7</td>\n",
       "      <td>2009-11-24 15:50:59</td>\n",
       "      <td>-73.980270</td>\n",
       "      <td>40.745946</td>\n",
       "      <td>-73.976583</td>\n",
       "      <td>40.780798</td>\n",
       "      <td>1</td>\n",
       "      <td>2009</td>\n",
       "      <td>11</td>\n",
       "      <td>24</td>\n",
       "      <td>1</td>\n",
       "      <td>15</td>\n",
       "      <td>0</td>\n",
       "      <td>3.889007</td>\n",
       "    </tr>\n",
       "  </tbody>\n",
       "</table>\n",
       "</div>"
      ],
      "text/plain": [
       "        fare_amount     pickup_datetime  pickup_longitude  pickup_latitude  \\\n",
       "194257         24.5 2014-06-17 18:09:09        -74.010745        40.709325   \n",
       "396319          6.5 2013-09-01 09:26:00        -73.992822        40.728227   \n",
       "138738          6.9 2010-06-29 21:19:00        -73.990750        40.730687   \n",
       "66570           4.1 2010-11-23 12:51:18        -74.005450        40.745924   \n",
       "149424         11.7 2009-11-24 15:50:59        -73.980270        40.745946   \n",
       "\n",
       "        dropoff_longitude  dropoff_latitude  passenger_count  year  month  \\\n",
       "194257         -73.924750         40.690980                2  2014      6   \n",
       "396319         -74.002087         40.738277                2  2013      9   \n",
       "138738         -73.990847         40.749648                1  2010      6   \n",
       "66570          -73.998245         40.756035                1  2010     11   \n",
       "149424         -73.976583         40.780798                1  2009     11   \n",
       "\n",
       "        date  day  hour  rush_hour  distance_travelled  \n",
       "194257    17    1    18          1            7.533312  \n",
       "396319     1    6     9          1            1.363604  \n",
       "138738    29    1    21          0            2.109045  \n",
       "66570     23    1    12          0            1.278050  \n",
       "149424    24    1    15          0            3.889007  "
      ]
     },
     "execution_count": 30,
     "metadata": {},
     "output_type": "execute_result"
    }
   ],
   "source": []
  },
  {
   "cell_type": "markdown",
   "metadata": {},
   "source": [
    "Upon attempting to one hot encode the training data, it is found that NaNs exist in the data. In this instance, all NaNs will be set to 0, further testing will be done later to try other methods."
   ]
  },
  {
   "cell_type": "code",
   "execution_count": 31,
   "metadata": {},
   "outputs": [],
   "source": [
    "train.fillna(0, inplace=True)"
   ]
  },
  {
   "cell_type": "markdown",
   "metadata": {},
   "source": [
    "Not sure if standardize/normalize is needed here, as I'll only use one continuous variable (distance travelled). One hot encoding on the other had will definitely be used."
   ]
  },
  {
   "cell_type": "code",
   "execution_count": 32,
   "metadata": {},
   "outputs": [],
   "source": [
    "from sklearn.preprocessing import OneHotEncoder, StandardScaler\n",
    "\n",
    "columns_to_scale  = ['distance_travelled']\n",
    "scaler = StandardScaler()\n",
    "train[columns_to_scale]  = scaler.fit_transform(train[columns_to_scale]) "
   ]
  },
  {
   "cell_type": "markdown",
   "metadata": {},
   "source": [
    "The above attempt at scaling and one hot encoding froze my computer. most likely a RAM issue. I think I've got to bucketize some of the categorical data first before one hot encoding. Alternatively I could use a smaller dataset."
   ]
  },
  {
   "cell_type": "code",
   "execution_count": 34,
   "metadata": {},
   "outputs": [
    {
     "data": {
      "text/plain": [
       "count    3.916600e+05\n",
       "mean     1.059483e-17\n",
       "std      1.000001e+00\n",
       "min     -8.836559e-01\n",
       "25%     -5.506313e-01\n",
       "50%     -3.127793e-01\n",
       "75%      1.569071e-01\n",
       "max      2.853049e+01\n",
       "Name: distance_travelled, dtype: float64"
      ]
     },
     "execution_count": 34,
     "metadata": {},
     "output_type": "execute_result"
    }
   ],
   "source": [
    "train['distance_travelled'].describe()"
   ]
  },
  {
   "cell_type": "code",
   "execution_count": 35,
   "metadata": {},
   "outputs": [],
   "source": [
    "train = pd.get_dummies(train, columns=['passenger_count'])"
   ]
  },
  {
   "cell_type": "code",
   "execution_count": 36,
   "metadata": {},
   "outputs": [],
   "source": [
    "train = pd.get_dummies(train, columns=['year'])"
   ]
  },
  {
   "cell_type": "markdown",
   "metadata": {},
   "source": [
    "lets drop the pickup_datetime column as it is a datetime64[ns] object which we cannot use.  The longitude and latitude recordings will also be removed as Ive caclulated the distance travelled. This could be a terrible idea, but I am not sure how to handle this data. Do I bucketize it, then one hot encode? - something to research."
   ]
  },
  {
   "cell_type": "code",
   "execution_count": 37,
   "metadata": {},
   "outputs": [
    {
     "data": {
      "text/html": [
       "<div>\n",
       "<style scoped>\n",
       "    .dataframe tbody tr th:only-of-type {\n",
       "        vertical-align: middle;\n",
       "    }\n",
       "\n",
       "    .dataframe tbody tr th {\n",
       "        vertical-align: top;\n",
       "    }\n",
       "\n",
       "    .dataframe thead th {\n",
       "        text-align: right;\n",
       "    }\n",
       "</style>\n",
       "<table border=\"1\" class=\"dataframe\">\n",
       "  <thead>\n",
       "    <tr style=\"text-align: right;\">\n",
       "      <th></th>\n",
       "      <th>fare_amount</th>\n",
       "      <th>month</th>\n",
       "      <th>date</th>\n",
       "      <th>day</th>\n",
       "      <th>hour</th>\n",
       "      <th>rush_hour</th>\n",
       "      <th>distance_travelled</th>\n",
       "      <th>passenger_count_0</th>\n",
       "      <th>passenger_count_1</th>\n",
       "      <th>passenger_count_2</th>\n",
       "      <th>...</th>\n",
       "      <th>passenger_count_4</th>\n",
       "      <th>passenger_count_5</th>\n",
       "      <th>passenger_count_6</th>\n",
       "      <th>year_2009</th>\n",
       "      <th>year_2010</th>\n",
       "      <th>year_2011</th>\n",
       "      <th>year_2012</th>\n",
       "      <th>year_2013</th>\n",
       "      <th>year_2014</th>\n",
       "      <th>year_2015</th>\n",
       "    </tr>\n",
       "  </thead>\n",
       "  <tbody>\n",
       "    <tr>\n",
       "      <th>194257</th>\n",
       "      <td>24.5</td>\n",
       "      <td>6</td>\n",
       "      <td>17</td>\n",
       "      <td>1</td>\n",
       "      <td>18</td>\n",
       "      <td>1</td>\n",
       "      <td>1.114993</td>\n",
       "      <td>0</td>\n",
       "      <td>0</td>\n",
       "      <td>1</td>\n",
       "      <td>...</td>\n",
       "      <td>0</td>\n",
       "      <td>0</td>\n",
       "      <td>0</td>\n",
       "      <td>0</td>\n",
       "      <td>0</td>\n",
       "      <td>0</td>\n",
       "      <td>0</td>\n",
       "      <td>0</td>\n",
       "      <td>1</td>\n",
       "      <td>0</td>\n",
       "    </tr>\n",
       "    <tr>\n",
       "      <th>396319</th>\n",
       "      <td>6.5</td>\n",
       "      <td>9</td>\n",
       "      <td>1</td>\n",
       "      <td>6</td>\n",
       "      <td>9</td>\n",
       "      <td>1</td>\n",
       "      <td>-0.521881</td>\n",
       "      <td>0</td>\n",
       "      <td>0</td>\n",
       "      <td>1</td>\n",
       "      <td>...</td>\n",
       "      <td>0</td>\n",
       "      <td>0</td>\n",
       "      <td>0</td>\n",
       "      <td>0</td>\n",
       "      <td>0</td>\n",
       "      <td>0</td>\n",
       "      <td>0</td>\n",
       "      <td>1</td>\n",
       "      <td>0</td>\n",
       "      <td>0</td>\n",
       "    </tr>\n",
       "    <tr>\n",
       "      <th>138738</th>\n",
       "      <td>6.9</td>\n",
       "      <td>6</td>\n",
       "      <td>29</td>\n",
       "      <td>1</td>\n",
       "      <td>21</td>\n",
       "      <td>0</td>\n",
       "      <td>-0.324109</td>\n",
       "      <td>0</td>\n",
       "      <td>1</td>\n",
       "      <td>0</td>\n",
       "      <td>...</td>\n",
       "      <td>0</td>\n",
       "      <td>0</td>\n",
       "      <td>0</td>\n",
       "      <td>0</td>\n",
       "      <td>1</td>\n",
       "      <td>0</td>\n",
       "      <td>0</td>\n",
       "      <td>0</td>\n",
       "      <td>0</td>\n",
       "      <td>0</td>\n",
       "    </tr>\n",
       "    <tr>\n",
       "      <th>66570</th>\n",
       "      <td>4.1</td>\n",
       "      <td>11</td>\n",
       "      <td>23</td>\n",
       "      <td>1</td>\n",
       "      <td>12</td>\n",
       "      <td>0</td>\n",
       "      <td>-0.544579</td>\n",
       "      <td>0</td>\n",
       "      <td>1</td>\n",
       "      <td>0</td>\n",
       "      <td>...</td>\n",
       "      <td>0</td>\n",
       "      <td>0</td>\n",
       "      <td>0</td>\n",
       "      <td>0</td>\n",
       "      <td>1</td>\n",
       "      <td>0</td>\n",
       "      <td>0</td>\n",
       "      <td>0</td>\n",
       "      <td>0</td>\n",
       "      <td>0</td>\n",
       "    </tr>\n",
       "    <tr>\n",
       "      <th>149424</th>\n",
       "      <td>11.7</td>\n",
       "      <td>11</td>\n",
       "      <td>24</td>\n",
       "      <td>1</td>\n",
       "      <td>15</td>\n",
       "      <td>0</td>\n",
       "      <td>0.148129</td>\n",
       "      <td>0</td>\n",
       "      <td>1</td>\n",
       "      <td>0</td>\n",
       "      <td>...</td>\n",
       "      <td>0</td>\n",
       "      <td>0</td>\n",
       "      <td>0</td>\n",
       "      <td>1</td>\n",
       "      <td>0</td>\n",
       "      <td>0</td>\n",
       "      <td>0</td>\n",
       "      <td>0</td>\n",
       "      <td>0</td>\n",
       "      <td>0</td>\n",
       "    </tr>\n",
       "    <tr>\n",
       "      <th>128165</th>\n",
       "      <td>8.5</td>\n",
       "      <td>2</td>\n",
       "      <td>22</td>\n",
       "      <td>5</td>\n",
       "      <td>1</td>\n",
       "      <td>0</td>\n",
       "      <td>-0.080359</td>\n",
       "      <td>0</td>\n",
       "      <td>0</td>\n",
       "      <td>1</td>\n",
       "      <td>...</td>\n",
       "      <td>0</td>\n",
       "      <td>0</td>\n",
       "      <td>0</td>\n",
       "      <td>0</td>\n",
       "      <td>0</td>\n",
       "      <td>0</td>\n",
       "      <td>0</td>\n",
       "      <td>0</td>\n",
       "      <td>1</td>\n",
       "      <td>0</td>\n",
       "    </tr>\n",
       "    <tr>\n",
       "      <th>264495</th>\n",
       "      <td>19.5</td>\n",
       "      <td>7</td>\n",
       "      <td>18</td>\n",
       "      <td>4</td>\n",
       "      <td>17</td>\n",
       "      <td>1</td>\n",
       "      <td>0.833122</td>\n",
       "      <td>0</td>\n",
       "      <td>0</td>\n",
       "      <td>0</td>\n",
       "      <td>...</td>\n",
       "      <td>0</td>\n",
       "      <td>0</td>\n",
       "      <td>1</td>\n",
       "      <td>0</td>\n",
       "      <td>0</td>\n",
       "      <td>0</td>\n",
       "      <td>0</td>\n",
       "      <td>0</td>\n",
       "      <td>1</td>\n",
       "      <td>0</td>\n",
       "    </tr>\n",
       "    <tr>\n",
       "      <th>30371</th>\n",
       "      <td>15.5</td>\n",
       "      <td>10</td>\n",
       "      <td>13</td>\n",
       "      <td>5</td>\n",
       "      <td>19</td>\n",
       "      <td>0</td>\n",
       "      <td>0.212138</td>\n",
       "      <td>0</td>\n",
       "      <td>0</td>\n",
       "      <td>0</td>\n",
       "      <td>...</td>\n",
       "      <td>1</td>\n",
       "      <td>0</td>\n",
       "      <td>0</td>\n",
       "      <td>0</td>\n",
       "      <td>0</td>\n",
       "      <td>0</td>\n",
       "      <td>1</td>\n",
       "      <td>0</td>\n",
       "      <td>0</td>\n",
       "      <td>0</td>\n",
       "    </tr>\n",
       "    <tr>\n",
       "      <th>456998</th>\n",
       "      <td>9.5</td>\n",
       "      <td>1</td>\n",
       "      <td>31</td>\n",
       "      <td>3</td>\n",
       "      <td>7</td>\n",
       "      <td>0</td>\n",
       "      <td>0.083186</td>\n",
       "      <td>0</td>\n",
       "      <td>1</td>\n",
       "      <td>0</td>\n",
       "      <td>...</td>\n",
       "      <td>0</td>\n",
       "      <td>0</td>\n",
       "      <td>0</td>\n",
       "      <td>0</td>\n",
       "      <td>0</td>\n",
       "      <td>0</td>\n",
       "      <td>0</td>\n",
       "      <td>1</td>\n",
       "      <td>0</td>\n",
       "      <td>0</td>\n",
       "    </tr>\n",
       "    <tr>\n",
       "      <th>32001</th>\n",
       "      <td>8.1</td>\n",
       "      <td>2</td>\n",
       "      <td>14</td>\n",
       "      <td>0</td>\n",
       "      <td>11</td>\n",
       "      <td>0</td>\n",
       "      <td>-0.339020</td>\n",
       "      <td>0</td>\n",
       "      <td>1</td>\n",
       "      <td>0</td>\n",
       "      <td>...</td>\n",
       "      <td>0</td>\n",
       "      <td>0</td>\n",
       "      <td>0</td>\n",
       "      <td>0</td>\n",
       "      <td>0</td>\n",
       "      <td>1</td>\n",
       "      <td>0</td>\n",
       "      <td>0</td>\n",
       "      <td>0</td>\n",
       "      <td>0</td>\n",
       "    </tr>\n",
       "  </tbody>\n",
       "</table>\n",
       "<p>10 rows × 21 columns</p>\n",
       "</div>"
      ],
      "text/plain": [
       "        fare_amount  month  date  day  hour  rush_hour  distance_travelled  \\\n",
       "194257         24.5      6    17    1    18          1            1.114993   \n",
       "396319          6.5      9     1    6     9          1           -0.521881   \n",
       "138738          6.9      6    29    1    21          0           -0.324109   \n",
       "66570           4.1     11    23    1    12          0           -0.544579   \n",
       "149424         11.7     11    24    1    15          0            0.148129   \n",
       "128165          8.5      2    22    5     1          0           -0.080359   \n",
       "264495         19.5      7    18    4    17          1            0.833122   \n",
       "30371          15.5     10    13    5    19          0            0.212138   \n",
       "456998          9.5      1    31    3     7          0            0.083186   \n",
       "32001           8.1      2    14    0    11          0           -0.339020   \n",
       "\n",
       "        passenger_count_0  passenger_count_1  passenger_count_2    ...      \\\n",
       "194257                  0                  0                  1    ...       \n",
       "396319                  0                  0                  1    ...       \n",
       "138738                  0                  1                  0    ...       \n",
       "66570                   0                  1                  0    ...       \n",
       "149424                  0                  1                  0    ...       \n",
       "128165                  0                  0                  1    ...       \n",
       "264495                  0                  0                  0    ...       \n",
       "30371                   0                  0                  0    ...       \n",
       "456998                  0                  1                  0    ...       \n",
       "32001                   0                  1                  0    ...       \n",
       "\n",
       "        passenger_count_4  passenger_count_5  passenger_count_6  year_2009  \\\n",
       "194257                  0                  0                  0          0   \n",
       "396319                  0                  0                  0          0   \n",
       "138738                  0                  0                  0          0   \n",
       "66570                   0                  0                  0          0   \n",
       "149424                  0                  0                  0          1   \n",
       "128165                  0                  0                  0          0   \n",
       "264495                  0                  0                  1          0   \n",
       "30371                   1                  0                  0          0   \n",
       "456998                  0                  0                  0          0   \n",
       "32001                   0                  0                  0          0   \n",
       "\n",
       "        year_2010  year_2011  year_2012  year_2013  year_2014  year_2015  \n",
       "194257          0          0          0          0          1          0  \n",
       "396319          0          0          0          1          0          0  \n",
       "138738          1          0          0          0          0          0  \n",
       "66570           1          0          0          0          0          0  \n",
       "149424          0          0          0          0          0          0  \n",
       "128165          0          0          0          0          1          0  \n",
       "264495          0          0          0          0          1          0  \n",
       "30371           0          0          1          0          0          0  \n",
       "456998          0          0          0          1          0          0  \n",
       "32001           0          1          0          0          0          0  \n",
       "\n",
       "[10 rows x 21 columns]"
      ]
     },
     "execution_count": 37,
     "metadata": {},
     "output_type": "execute_result"
    }
   ],
   "source": [
    "train = train.drop(\"pickup_datetime\", axis=1)\n",
    "train = train.drop(\"pickup_longitude\", axis=1)\n",
    "train = train.drop(\"pickup_latitude\", axis=1)\n",
    "train = train.drop(\"dropoff_longitude\", axis=1)\n",
    "train = train.drop(\"dropoff_latitude\", axis=1)"
   ]
  },
  {
   "cell_type": "code",
   "execution_count": 38,
   "metadata": {},
   "outputs": [
    {
     "data": {
      "text/html": [
       "<div>\n",
       "<style scoped>\n",
       "    .dataframe tbody tr th:only-of-type {\n",
       "        vertical-align: middle;\n",
       "    }\n",
       "\n",
       "    .dataframe tbody tr th {\n",
       "        vertical-align: top;\n",
       "    }\n",
       "\n",
       "    .dataframe thead th {\n",
       "        text-align: right;\n",
       "    }\n",
       "</style>\n",
       "<table border=\"1\" class=\"dataframe\">\n",
       "  <thead>\n",
       "    <tr style=\"text-align: right;\">\n",
       "      <th></th>\n",
       "      <th>fare_amount</th>\n",
       "      <th>rush_hour</th>\n",
       "      <th>distance_travelled</th>\n",
       "      <th>passenger_count_0</th>\n",
       "      <th>passenger_count_1</th>\n",
       "      <th>passenger_count_2</th>\n",
       "      <th>passenger_count_3</th>\n",
       "      <th>passenger_count_4</th>\n",
       "      <th>passenger_count_5</th>\n",
       "      <th>passenger_count_6</th>\n",
       "      <th>...</th>\n",
       "      <th>year_2013</th>\n",
       "      <th>year_2014</th>\n",
       "      <th>year_2015</th>\n",
       "      <th>day_0</th>\n",
       "      <th>day_1</th>\n",
       "      <th>day_2</th>\n",
       "      <th>day_3</th>\n",
       "      <th>day_4</th>\n",
       "      <th>day_5</th>\n",
       "      <th>day_6</th>\n",
       "    </tr>\n",
       "  </thead>\n",
       "  <tbody>\n",
       "    <tr>\n",
       "      <th>194257</th>\n",
       "      <td>24.5</td>\n",
       "      <td>1</td>\n",
       "      <td>1.114993</td>\n",
       "      <td>0</td>\n",
       "      <td>0</td>\n",
       "      <td>1</td>\n",
       "      <td>0</td>\n",
       "      <td>0</td>\n",
       "      <td>0</td>\n",
       "      <td>0</td>\n",
       "      <td>...</td>\n",
       "      <td>0</td>\n",
       "      <td>1</td>\n",
       "      <td>0</td>\n",
       "      <td>0</td>\n",
       "      <td>1</td>\n",
       "      <td>0</td>\n",
       "      <td>0</td>\n",
       "      <td>0</td>\n",
       "      <td>0</td>\n",
       "      <td>0</td>\n",
       "    </tr>\n",
       "    <tr>\n",
       "      <th>396319</th>\n",
       "      <td>6.5</td>\n",
       "      <td>1</td>\n",
       "      <td>-0.521881</td>\n",
       "      <td>0</td>\n",
       "      <td>0</td>\n",
       "      <td>1</td>\n",
       "      <td>0</td>\n",
       "      <td>0</td>\n",
       "      <td>0</td>\n",
       "      <td>0</td>\n",
       "      <td>...</td>\n",
       "      <td>1</td>\n",
       "      <td>0</td>\n",
       "      <td>0</td>\n",
       "      <td>0</td>\n",
       "      <td>0</td>\n",
       "      <td>0</td>\n",
       "      <td>0</td>\n",
       "      <td>0</td>\n",
       "      <td>0</td>\n",
       "      <td>1</td>\n",
       "    </tr>\n",
       "    <tr>\n",
       "      <th>138738</th>\n",
       "      <td>6.9</td>\n",
       "      <td>0</td>\n",
       "      <td>-0.324109</td>\n",
       "      <td>0</td>\n",
       "      <td>1</td>\n",
       "      <td>0</td>\n",
       "      <td>0</td>\n",
       "      <td>0</td>\n",
       "      <td>0</td>\n",
       "      <td>0</td>\n",
       "      <td>...</td>\n",
       "      <td>0</td>\n",
       "      <td>0</td>\n",
       "      <td>0</td>\n",
       "      <td>0</td>\n",
       "      <td>1</td>\n",
       "      <td>0</td>\n",
       "      <td>0</td>\n",
       "      <td>0</td>\n",
       "      <td>0</td>\n",
       "      <td>0</td>\n",
       "    </tr>\n",
       "    <tr>\n",
       "      <th>66570</th>\n",
       "      <td>4.1</td>\n",
       "      <td>0</td>\n",
       "      <td>-0.544579</td>\n",
       "      <td>0</td>\n",
       "      <td>1</td>\n",
       "      <td>0</td>\n",
       "      <td>0</td>\n",
       "      <td>0</td>\n",
       "      <td>0</td>\n",
       "      <td>0</td>\n",
       "      <td>...</td>\n",
       "      <td>0</td>\n",
       "      <td>0</td>\n",
       "      <td>0</td>\n",
       "      <td>0</td>\n",
       "      <td>1</td>\n",
       "      <td>0</td>\n",
       "      <td>0</td>\n",
       "      <td>0</td>\n",
       "      <td>0</td>\n",
       "      <td>0</td>\n",
       "    </tr>\n",
       "    <tr>\n",
       "      <th>149424</th>\n",
       "      <td>11.7</td>\n",
       "      <td>0</td>\n",
       "      <td>0.148129</td>\n",
       "      <td>0</td>\n",
       "      <td>1</td>\n",
       "      <td>0</td>\n",
       "      <td>0</td>\n",
       "      <td>0</td>\n",
       "      <td>0</td>\n",
       "      <td>0</td>\n",
       "      <td>...</td>\n",
       "      <td>0</td>\n",
       "      <td>0</td>\n",
       "      <td>0</td>\n",
       "      <td>0</td>\n",
       "      <td>1</td>\n",
       "      <td>0</td>\n",
       "      <td>0</td>\n",
       "      <td>0</td>\n",
       "      <td>0</td>\n",
       "      <td>0</td>\n",
       "    </tr>\n",
       "    <tr>\n",
       "      <th>128165</th>\n",
       "      <td>8.5</td>\n",
       "      <td>0</td>\n",
       "      <td>-0.080359</td>\n",
       "      <td>0</td>\n",
       "      <td>0</td>\n",
       "      <td>1</td>\n",
       "      <td>0</td>\n",
       "      <td>0</td>\n",
       "      <td>0</td>\n",
       "      <td>0</td>\n",
       "      <td>...</td>\n",
       "      <td>0</td>\n",
       "      <td>1</td>\n",
       "      <td>0</td>\n",
       "      <td>0</td>\n",
       "      <td>0</td>\n",
       "      <td>0</td>\n",
       "      <td>0</td>\n",
       "      <td>0</td>\n",
       "      <td>1</td>\n",
       "      <td>0</td>\n",
       "    </tr>\n",
       "    <tr>\n",
       "      <th>264495</th>\n",
       "      <td>19.5</td>\n",
       "      <td>1</td>\n",
       "      <td>0.833122</td>\n",
       "      <td>0</td>\n",
       "      <td>0</td>\n",
       "      <td>0</td>\n",
       "      <td>0</td>\n",
       "      <td>0</td>\n",
       "      <td>0</td>\n",
       "      <td>1</td>\n",
       "      <td>...</td>\n",
       "      <td>0</td>\n",
       "      <td>1</td>\n",
       "      <td>0</td>\n",
       "      <td>0</td>\n",
       "      <td>0</td>\n",
       "      <td>0</td>\n",
       "      <td>0</td>\n",
       "      <td>1</td>\n",
       "      <td>0</td>\n",
       "      <td>0</td>\n",
       "    </tr>\n",
       "    <tr>\n",
       "      <th>30371</th>\n",
       "      <td>15.5</td>\n",
       "      <td>0</td>\n",
       "      <td>0.212138</td>\n",
       "      <td>0</td>\n",
       "      <td>0</td>\n",
       "      <td>0</td>\n",
       "      <td>0</td>\n",
       "      <td>1</td>\n",
       "      <td>0</td>\n",
       "      <td>0</td>\n",
       "      <td>...</td>\n",
       "      <td>0</td>\n",
       "      <td>0</td>\n",
       "      <td>0</td>\n",
       "      <td>0</td>\n",
       "      <td>0</td>\n",
       "      <td>0</td>\n",
       "      <td>0</td>\n",
       "      <td>0</td>\n",
       "      <td>1</td>\n",
       "      <td>0</td>\n",
       "    </tr>\n",
       "    <tr>\n",
       "      <th>456998</th>\n",
       "      <td>9.5</td>\n",
       "      <td>0</td>\n",
       "      <td>0.083186</td>\n",
       "      <td>0</td>\n",
       "      <td>1</td>\n",
       "      <td>0</td>\n",
       "      <td>0</td>\n",
       "      <td>0</td>\n",
       "      <td>0</td>\n",
       "      <td>0</td>\n",
       "      <td>...</td>\n",
       "      <td>1</td>\n",
       "      <td>0</td>\n",
       "      <td>0</td>\n",
       "      <td>0</td>\n",
       "      <td>0</td>\n",
       "      <td>0</td>\n",
       "      <td>1</td>\n",
       "      <td>0</td>\n",
       "      <td>0</td>\n",
       "      <td>0</td>\n",
       "    </tr>\n",
       "    <tr>\n",
       "      <th>32001</th>\n",
       "      <td>8.1</td>\n",
       "      <td>0</td>\n",
       "      <td>-0.339020</td>\n",
       "      <td>0</td>\n",
       "      <td>1</td>\n",
       "      <td>0</td>\n",
       "      <td>0</td>\n",
       "      <td>0</td>\n",
       "      <td>0</td>\n",
       "      <td>0</td>\n",
       "      <td>...</td>\n",
       "      <td>0</td>\n",
       "      <td>0</td>\n",
       "      <td>0</td>\n",
       "      <td>1</td>\n",
       "      <td>0</td>\n",
       "      <td>0</td>\n",
       "      <td>0</td>\n",
       "      <td>0</td>\n",
       "      <td>0</td>\n",
       "      <td>0</td>\n",
       "    </tr>\n",
       "  </tbody>\n",
       "</table>\n",
       "<p>10 rows × 24 columns</p>\n",
       "</div>"
      ],
      "text/plain": [
       "        fare_amount  rush_hour  distance_travelled  passenger_count_0  \\\n",
       "194257         24.5          1            1.114993                  0   \n",
       "396319          6.5          1           -0.521881                  0   \n",
       "138738          6.9          0           -0.324109                  0   \n",
       "66570           4.1          0           -0.544579                  0   \n",
       "149424         11.7          0            0.148129                  0   \n",
       "128165          8.5          0           -0.080359                  0   \n",
       "264495         19.5          1            0.833122                  0   \n",
       "30371          15.5          0            0.212138                  0   \n",
       "456998          9.5          0            0.083186                  0   \n",
       "32001           8.1          0           -0.339020                  0   \n",
       "\n",
       "        passenger_count_1  passenger_count_2  passenger_count_3  \\\n",
       "194257                  0                  1                  0   \n",
       "396319                  0                  1                  0   \n",
       "138738                  1                  0                  0   \n",
       "66570                   1                  0                  0   \n",
       "149424                  1                  0                  0   \n",
       "128165                  0                  1                  0   \n",
       "264495                  0                  0                  0   \n",
       "30371                   0                  0                  0   \n",
       "456998                  1                  0                  0   \n",
       "32001                   1                  0                  0   \n",
       "\n",
       "        passenger_count_4  passenger_count_5  passenger_count_6  ...    \\\n",
       "194257                  0                  0                  0  ...     \n",
       "396319                  0                  0                  0  ...     \n",
       "138738                  0                  0                  0  ...     \n",
       "66570                   0                  0                  0  ...     \n",
       "149424                  0                  0                  0  ...     \n",
       "128165                  0                  0                  0  ...     \n",
       "264495                  0                  0                  1  ...     \n",
       "30371                   1                  0                  0  ...     \n",
       "456998                  0                  0                  0  ...     \n",
       "32001                   0                  0                  0  ...     \n",
       "\n",
       "        year_2013  year_2014  year_2015  day_0  day_1  day_2  day_3  day_4  \\\n",
       "194257          0          1          0      0      1      0      0      0   \n",
       "396319          1          0          0      0      0      0      0      0   \n",
       "138738          0          0          0      0      1      0      0      0   \n",
       "66570           0          0          0      0      1      0      0      0   \n",
       "149424          0          0          0      0      1      0      0      0   \n",
       "128165          0          1          0      0      0      0      0      0   \n",
       "264495          0          1          0      0      0      0      0      1   \n",
       "30371           0          0          0      0      0      0      0      0   \n",
       "456998          1          0          0      0      0      0      1      0   \n",
       "32001           0          0          0      1      0      0      0      0   \n",
       "\n",
       "        day_5  day_6  \n",
       "194257      0      0  \n",
       "396319      0      1  \n",
       "138738      0      0  \n",
       "66570       0      0  \n",
       "149424      0      0  \n",
       "128165      1      0  \n",
       "264495      0      0  \n",
       "30371       1      0  \n",
       "456998      0      0  \n",
       "32001       0      0  \n",
       "\n",
       "[10 rows x 24 columns]"
      ]
     },
     "execution_count": 38,
     "metadata": {},
     "output_type": "execute_result"
    }
   ],
   "source": [
    "train = train.drop(\"month\", axis=1)\n",
    "train = train.drop(\"date\", axis=1)\n",
    "train = train.drop(\"hour\", axis=1)\n",
    "train = pd.get_dummies(train, columns=['day'])"
   ]
  },
  {
   "cell_type": "code",
   "execution_count": 39,
   "metadata": {},
   "outputs": [],
   "source": [
    "# Divide this data into training data and label data\n",
    "trainTargets = train[\"fare_amount\"]\n",
    "trainData = train.drop(\"fare_amount\", axis=1)"
   ]
  },
  {
   "cell_type": "markdown",
   "metadata": {},
   "source": [
    "my model will go here: (most likely a pytorch neural network)"
   ]
  },
  {
   "cell_type": "code",
   "execution_count": null,
   "metadata": {},
   "outputs": [],
   "source": []
  },
  {
   "cell_type": "code",
   "execution_count": null,
   "metadata": {},
   "outputs": [],
   "source": []
  },
  {
   "cell_type": "code",
   "execution_count": null,
   "metadata": {},
   "outputs": [],
   "source": []
  },
  {
   "cell_type": "code",
   "execution_count": null,
   "metadata": {},
   "outputs": [],
   "source": []
  },
  {
   "cell_type": "markdown",
   "metadata": {},
   "source": [
    "Below I've defined a function that process a dataframe into the correct format that the samples need to be in in order to produce a prediction."
   ]
  },
  {
   "cell_type": "code",
   "execution_count": 51,
   "metadata": {},
   "outputs": [],
   "source": [
    "def preprocess(data):\n",
    "    \n",
    "    # this \"filtering\" is not used:\n",
    "    \n",
    "#    train = train.drop(train[train.passenger_count > 6].index)    \n",
    "#    longitudeBound = np.array([-72.7, -75.26])\n",
    "#    latitudeBound = np.array([41.42, 39.98])\n",
    "#    longitudes first\n",
    "#    train = train.drop(train[train.pickup_longitude > longitudeBound[0]].index)\n",
    "#    train = train.drop(train[train.pickup_longitude < longitudeBound[1]].index)\n",
    "#    train = train.drop(train[train.dropoff_longitude > longitudeBound[0]].index)\n",
    "#    train = train.drop(train[train.dropoff_longitude < longitudeBound[1]].index)\n",
    "#    now the latitudes\n",
    "#    train = train.drop(train[train.pickup_latitude > latitudeBound[0]].index)\n",
    "#    train = train.drop(train[train.pickup_latitude < latitudeBound[1]].index)\n",
    "#    train = train.drop(train[train.dropoff_latitude > latitudeBound[0]].index)\n",
    "#    train = train.drop(train[train.dropoff_latitude < latitudeBound[1]].index)\n",
    "\n",
    "    #data = data.drop(data[data.fare_amount < 0].index)\n",
    " \n",
    "    # replace NaNs with zeros\n",
    "    data.fillna(0, inplace=True)\n",
    "    data = data.drop(\"key\", axis=1)\n",
    "    \n",
    "    # process the dates.\n",
    "    data[\"pickup_datetime\"] = pd.to_datetime(data[\"pickup_datetime\"])\n",
    "    data['year'] = data['pickup_datetime'].dt.year\n",
    "    data['month'] = data['pickup_datetime'].dt.month\n",
    "    data['date'] = data['pickup_datetime'].dt.day\n",
    "    data['day'] = data['pickup_datetime'].dt.dayofweek\n",
    "    data['hour'] = data['pickup_datetime'].dt.hour\n",
    "    \n",
    "    #create the rush hour column\n",
    "    data[\"rush_hour\"] = ((data[\"hour\"] < 10) & (data[\"hour\"] > 7)) | ((data[\"hour\"] < 19) & (data[\"hour\"] > 16))\n",
    "    data.rush_hour = data.rush_hour.astype(int)\n",
    "    \n",
    "    \n",
    "    # create the distance_travelled column\n",
    "    R = 6373.0\n",
    "    lat1 = np.radians(np.array(data[\"pickup_latitude\"]))\n",
    "    lon1 = np.radians(np.array(data[\"pickup_longitude\"]))\n",
    "    lat2 = np.radians(np.array(data[\"dropoff_latitude\"]))\n",
    "    lon2 = np.radians(np.array(data[\"dropoff_longitude\"]))\n",
    "    dlon = lon2 - lon1\n",
    "    dlat = lat2 - lat1\n",
    "    a = np.sin(dlat / 2)**2 + np.cos(lat1) * np.cos(lat2) * np.sin(dlon / 2)**2\n",
    "    c = 2 * np.arctan2(np.sqrt(a), np.sqrt(1 - a))\n",
    "    data[\"distance_travelled\"] = c * R\n",
    "\n",
    "    #scale the continuous data\n",
    "    columns_to_scale  = ['distance_travelled']\n",
    "    scaler = StandardScaler()\n",
    "    data[columns_to_scale]  = scaler.fit_transform(data[columns_to_scale]) \n",
    "\n",
    "    #one hot encode categorical data\n",
    "    data = pd.get_dummies(data, columns=['passenger_count'])\n",
    "    data = pd.get_dummies(data, columns=['year'])\n",
    "    data = pd.get_dummies(data, columns=['day'])\n",
    "\n",
    "    #drop certain columns - subject to change\n",
    "    data = data.drop(\"pickup_datetime\", axis=1)\n",
    "    data = data.drop(\"pickup_longitude\", axis=1)\n",
    "    data = data.drop(\"pickup_latitude\", axis=1)\n",
    "    data = data.drop(\"dropoff_longitude\", axis=1)\n",
    "    data = data.drop(\"dropoff_latitude\", axis=1)    \n",
    "    data = data.drop(\"month\", axis=1)\n",
    "    data = data.drop(\"date\", axis=1)\n",
    "    data = data.drop(\"hour\", axis=1)\n",
    "    \n",
    "    return data\n"
   ]
  },
  {
   "cell_type": "markdown",
   "metadata": {},
   "source": [
    "This next cell will seperate both the train and validation set data from the target (fare_amount).\n",
    "The trainData will be the pre-processed, clean training set, while the validation data is still raw and unfiltered, hopefully positively simulating the test set. The reason for doing this now is so that while filterign and processing the training data, we want to make sure the data and the target matrices are the same row length for our machine learning framework of choice."
   ]
  },
  {
   "cell_type": "code",
   "execution_count": 53,
   "metadata": {},
   "outputs": [
    {
     "name": "stderr",
     "output_type": "stream",
     "text": [
      "/home/mitch/anaconda3/envs/machineLearning/lib/python3.6/site-packages/pandas/core/frame.py:3790: SettingWithCopyWarning: \n",
      "A value is trying to be set on a copy of a slice from a DataFrame\n",
      "\n",
      "See the caveats in the documentation: http://pandas.pydata.org/pandas-docs/stable/indexing.html#indexing-view-versus-copy\n",
      "  downcast=downcast, **kwargs)\n"
     ]
    }
   ],
   "source": [
    "validation = preprocess(validation)\n",
    "\n",
    "validation.head(10)\n",
    "\n",
    "# Divide this data into training data and label data\n",
    "\n",
    "validationTargets = validation[\"fare_amount\"]\n",
    "validationData = validation.drop(\"fare_amount\", axis=1)"
   ]
  },
  {
   "cell_type": "markdown",
   "metadata": {},
   "source": [
    "I'll make the predictions here:"
   ]
  },
  {
   "cell_type": "code",
   "execution_count": null,
   "metadata": {},
   "outputs": [],
   "source": []
  },
  {
   "cell_type": "code",
   "execution_count": null,
   "metadata": {},
   "outputs": [],
   "source": []
  },
  {
   "cell_type": "code",
   "execution_count": null,
   "metadata": {},
   "outputs": [],
   "source": []
  },
  {
   "cell_type": "code",
   "execution_count": null,
   "metadata": {},
   "outputs": [],
   "source": []
  }
 ],
 "metadata": {
  "kernelspec": {
   "display_name": "Python 3",
   "language": "python",
   "name": "python3"
  },
  "language_info": {
   "codemirror_mode": {
    "name": "ipython",
    "version": 3
   },
   "file_extension": ".py",
   "mimetype": "text/x-python",
   "name": "python",
   "nbconvert_exporter": "python",
   "pygments_lexer": "ipython3",
   "version": "3.6.6"
  }
 },
 "nbformat": 4,
 "nbformat_minor": 2
}
